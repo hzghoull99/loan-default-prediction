{
  "nbformat": 4,
  "nbformat_minor": 0,
  "metadata": {
    "colab": {
      "name": "lending loan .ipynb",
      "provenance": [],
      "collapsed_sections": [
        "QRJG3W7fz-Hp",
        "Z-cQ1hxEIBWi",
        "sYMijGjGKhx6",
        "yBxsH6UIV4Ei",
        "MT-CgIJN0zx6",
        "vK5qAX4f08TG",
        "bhWqm3xi8P_a",
        "xIMi-P4G8LG3",
        "y70VewZVyUvd",
        "LZvqv9I81L1N",
        "b_TxNU8bDTtx"
      ]
    },
    "kernelspec": {
      "display_name": "Python 3",
      "name": "python3"
    },
    "language_info": {
      "name": "python"
    }
  },
  "cells": [
    {
      "cell_type": "code",
      "metadata": {
        "id": "4L710JuS7EGC"
      },
      "source": [
        "import pandas as pd\n",
        "import numpy as np\n",
        "import matplotlib.pyplot as plt\n",
        "import seaborn as sns"
      ],
      "execution_count": null,
      "outputs": []
    },
    {
      "cell_type": "code",
      "metadata": {
        "id": "tjrhxLq_7da6"
      },
      "source": [
        "df=pd.read_csv('/content/drive/MyDrive/lending_club_loan_two.csv')"
      ],
      "execution_count": null,
      "outputs": []
    },
    {
      "cell_type": "code",
      "metadata": {
        "colab": {
          "base_uri": "https://localhost:8080/",
          "height": 400
        },
        "id": "Kq5t02NH-232",
        "outputId": "4969111c-c4e9-45fe-a9a7-d79efe2ec389"
      },
      "source": [
        "df.head()"
      ],
      "execution_count": null,
      "outputs": [
        {
          "output_type": "execute_result",
          "data": {
            "text/html": [
              "<div>\n",
              "<style scoped>\n",
              "    .dataframe tbody tr th:only-of-type {\n",
              "        vertical-align: middle;\n",
              "    }\n",
              "\n",
              "    .dataframe tbody tr th {\n",
              "        vertical-align: top;\n",
              "    }\n",
              "\n",
              "    .dataframe thead th {\n",
              "        text-align: right;\n",
              "    }\n",
              "</style>\n",
              "<table border=\"1\" class=\"dataframe\">\n",
              "  <thead>\n",
              "    <tr style=\"text-align: right;\">\n",
              "      <th></th>\n",
              "      <th>loan_amnt</th>\n",
              "      <th>term</th>\n",
              "      <th>int_rate</th>\n",
              "      <th>installment</th>\n",
              "      <th>grade</th>\n",
              "      <th>sub_grade</th>\n",
              "      <th>emp_title</th>\n",
              "      <th>emp_length</th>\n",
              "      <th>home_ownership</th>\n",
              "      <th>annual_inc</th>\n",
              "      <th>verification_status</th>\n",
              "      <th>issue_d</th>\n",
              "      <th>loan_status</th>\n",
              "      <th>purpose</th>\n",
              "      <th>title</th>\n",
              "      <th>dti</th>\n",
              "      <th>earliest_cr_line</th>\n",
              "      <th>open_acc</th>\n",
              "      <th>pub_rec</th>\n",
              "      <th>revol_bal</th>\n",
              "      <th>revol_util</th>\n",
              "      <th>total_acc</th>\n",
              "      <th>initial_list_status</th>\n",
              "      <th>application_type</th>\n",
              "      <th>mort_acc</th>\n",
              "      <th>pub_rec_bankruptcies</th>\n",
              "      <th>address</th>\n",
              "    </tr>\n",
              "  </thead>\n",
              "  <tbody>\n",
              "    <tr>\n",
              "      <th>0</th>\n",
              "      <td>10000.0</td>\n",
              "      <td>36 months</td>\n",
              "      <td>11.44</td>\n",
              "      <td>329.48</td>\n",
              "      <td>B</td>\n",
              "      <td>B4</td>\n",
              "      <td>Marketing</td>\n",
              "      <td>10+ years</td>\n",
              "      <td>RENT</td>\n",
              "      <td>117000.0</td>\n",
              "      <td>Not Verified</td>\n",
              "      <td>Jan-2015</td>\n",
              "      <td>Fully Paid</td>\n",
              "      <td>vacation</td>\n",
              "      <td>Vacation</td>\n",
              "      <td>26.24</td>\n",
              "      <td>Jun-1990</td>\n",
              "      <td>16.0</td>\n",
              "      <td>0.0</td>\n",
              "      <td>36369.0</td>\n",
              "      <td>41.8</td>\n",
              "      <td>25.0</td>\n",
              "      <td>w</td>\n",
              "      <td>INDIVIDUAL</td>\n",
              "      <td>0.0</td>\n",
              "      <td>0.0</td>\n",
              "      <td>0174 Michelle Gateway\\nMendozaberg, OK 22690</td>\n",
              "    </tr>\n",
              "    <tr>\n",
              "      <th>1</th>\n",
              "      <td>8000.0</td>\n",
              "      <td>36 months</td>\n",
              "      <td>11.99</td>\n",
              "      <td>265.68</td>\n",
              "      <td>B</td>\n",
              "      <td>B5</td>\n",
              "      <td>Credit analyst</td>\n",
              "      <td>4 years</td>\n",
              "      <td>MORTGAGE</td>\n",
              "      <td>65000.0</td>\n",
              "      <td>Not Verified</td>\n",
              "      <td>Jan-2015</td>\n",
              "      <td>Fully Paid</td>\n",
              "      <td>debt_consolidation</td>\n",
              "      <td>Debt consolidation</td>\n",
              "      <td>22.05</td>\n",
              "      <td>Jul-2004</td>\n",
              "      <td>17.0</td>\n",
              "      <td>0.0</td>\n",
              "      <td>20131.0</td>\n",
              "      <td>53.3</td>\n",
              "      <td>27.0</td>\n",
              "      <td>f</td>\n",
              "      <td>INDIVIDUAL</td>\n",
              "      <td>3.0</td>\n",
              "      <td>0.0</td>\n",
              "      <td>1076 Carney Fort Apt. 347\\nLoganmouth, SD 05113</td>\n",
              "    </tr>\n",
              "    <tr>\n",
              "      <th>2</th>\n",
              "      <td>15600.0</td>\n",
              "      <td>36 months</td>\n",
              "      <td>10.49</td>\n",
              "      <td>506.97</td>\n",
              "      <td>B</td>\n",
              "      <td>B3</td>\n",
              "      <td>Statistician</td>\n",
              "      <td>&lt; 1 year</td>\n",
              "      <td>RENT</td>\n",
              "      <td>43057.0</td>\n",
              "      <td>Source Verified</td>\n",
              "      <td>Jan-2015</td>\n",
              "      <td>Fully Paid</td>\n",
              "      <td>credit_card</td>\n",
              "      <td>Credit card refinancing</td>\n",
              "      <td>12.79</td>\n",
              "      <td>Aug-2007</td>\n",
              "      <td>13.0</td>\n",
              "      <td>0.0</td>\n",
              "      <td>11987.0</td>\n",
              "      <td>92.2</td>\n",
              "      <td>26.0</td>\n",
              "      <td>f</td>\n",
              "      <td>INDIVIDUAL</td>\n",
              "      <td>0.0</td>\n",
              "      <td>0.0</td>\n",
              "      <td>87025 Mark Dale Apt. 269\\nNew Sabrina, WV 05113</td>\n",
              "    </tr>\n",
              "    <tr>\n",
              "      <th>3</th>\n",
              "      <td>7200.0</td>\n",
              "      <td>36 months</td>\n",
              "      <td>6.49</td>\n",
              "      <td>220.65</td>\n",
              "      <td>A</td>\n",
              "      <td>A2</td>\n",
              "      <td>Client Advocate</td>\n",
              "      <td>6 years</td>\n",
              "      <td>RENT</td>\n",
              "      <td>54000.0</td>\n",
              "      <td>Not Verified</td>\n",
              "      <td>Nov-2014</td>\n",
              "      <td>Fully Paid</td>\n",
              "      <td>credit_card</td>\n",
              "      <td>Credit card refinancing</td>\n",
              "      <td>2.60</td>\n",
              "      <td>Sep-2006</td>\n",
              "      <td>6.0</td>\n",
              "      <td>0.0</td>\n",
              "      <td>5472.0</td>\n",
              "      <td>21.5</td>\n",
              "      <td>13.0</td>\n",
              "      <td>f</td>\n",
              "      <td>INDIVIDUAL</td>\n",
              "      <td>0.0</td>\n",
              "      <td>0.0</td>\n",
              "      <td>823 Reid Ford\\nDelacruzside, MA 00813</td>\n",
              "    </tr>\n",
              "    <tr>\n",
              "      <th>4</th>\n",
              "      <td>24375.0</td>\n",
              "      <td>60 months</td>\n",
              "      <td>17.27</td>\n",
              "      <td>609.33</td>\n",
              "      <td>C</td>\n",
              "      <td>C5</td>\n",
              "      <td>Destiny Management Inc.</td>\n",
              "      <td>9 years</td>\n",
              "      <td>MORTGAGE</td>\n",
              "      <td>55000.0</td>\n",
              "      <td>Verified</td>\n",
              "      <td>Apr-2013</td>\n",
              "      <td>Charged Off</td>\n",
              "      <td>credit_card</td>\n",
              "      <td>Credit Card Refinance</td>\n",
              "      <td>33.95</td>\n",
              "      <td>Mar-1999</td>\n",
              "      <td>13.0</td>\n",
              "      <td>0.0</td>\n",
              "      <td>24584.0</td>\n",
              "      <td>69.8</td>\n",
              "      <td>43.0</td>\n",
              "      <td>f</td>\n",
              "      <td>INDIVIDUAL</td>\n",
              "      <td>1.0</td>\n",
              "      <td>0.0</td>\n",
              "      <td>679 Luna Roads\\nGreggshire, VA 11650</td>\n",
              "    </tr>\n",
              "  </tbody>\n",
              "</table>\n",
              "</div>"
            ],
            "text/plain": [
              "   loan_amnt  ...                                          address\n",
              "0    10000.0  ...     0174 Michelle Gateway\\nMendozaberg, OK 22690\n",
              "1     8000.0  ...  1076 Carney Fort Apt. 347\\nLoganmouth, SD 05113\n",
              "2    15600.0  ...  87025 Mark Dale Apt. 269\\nNew Sabrina, WV 05113\n",
              "3     7200.0  ...            823 Reid Ford\\nDelacruzside, MA 00813\n",
              "4    24375.0  ...             679 Luna Roads\\nGreggshire, VA 11650\n",
              "\n",
              "[5 rows x 27 columns]"
            ]
          },
          "metadata": {},
          "execution_count": 3
        }
      ]
    },
    {
      "cell_type": "markdown",
      "metadata": {
        "id": "QRJG3W7fz-Hp"
      },
      "source": [
        "#Discover the data"
      ]
    },
    {
      "cell_type": "markdown",
      "metadata": {
        "id": "Q2dd3B1IEMPJ"
      },
      "source": [
        "![image.png](data:image/png;base64,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)"
      ]
    },
    {
      "cell_type": "code",
      "metadata": {
        "colab": {
          "base_uri": "https://localhost:8080/"
        },
        "id": "rfSfmi9Q_Lfk",
        "outputId": "72066186-4b7f-443b-ae0a-74418380d892"
      },
      "source": [
        "df.info()"
      ],
      "execution_count": null,
      "outputs": [
        {
          "output_type": "stream",
          "name": "stdout",
          "text": [
            "<class 'pandas.core.frame.DataFrame'>\n",
            "RangeIndex: 396030 entries, 0 to 396029\n",
            "Data columns (total 27 columns):\n",
            " #   Column                Non-Null Count   Dtype  \n",
            "---  ------                --------------   -----  \n",
            " 0   loan_amnt             396030 non-null  float64\n",
            " 1   term                  396030 non-null  object \n",
            " 2   int_rate              396030 non-null  float64\n",
            " 3   installment           396030 non-null  float64\n",
            " 4   grade                 396030 non-null  object \n",
            " 5   sub_grade             396030 non-null  object \n",
            " 6   emp_title             373103 non-null  object \n",
            " 7   emp_length            377729 non-null  object \n",
            " 8   home_ownership        396030 non-null  object \n",
            " 9   annual_inc            396030 non-null  float64\n",
            " 10  verification_status   396030 non-null  object \n",
            " 11  issue_d               396030 non-null  object \n",
            " 12  loan_status           396030 non-null  object \n",
            " 13  purpose               396030 non-null  object \n",
            " 14  title                 394275 non-null  object \n",
            " 15  dti                   396030 non-null  float64\n",
            " 16  earliest_cr_line      396030 non-null  object \n",
            " 17  open_acc              396030 non-null  float64\n",
            " 18  pub_rec               396030 non-null  float64\n",
            " 19  revol_bal             396030 non-null  float64\n",
            " 20  revol_util            395754 non-null  float64\n",
            " 21  total_acc             396030 non-null  float64\n",
            " 22  initial_list_status   396030 non-null  object \n",
            " 23  application_type      396030 non-null  object \n",
            " 24  mort_acc              358235 non-null  float64\n",
            " 25  pub_rec_bankruptcies  395495 non-null  float64\n",
            " 26  address               396030 non-null  object \n",
            "dtypes: float64(12), object(15)\n",
            "memory usage: 81.6+ MB\n"
          ]
        }
      ]
    },
    {
      "cell_type": "code",
      "metadata": {
        "colab": {
          "base_uri": "https://localhost:8080/",
          "height": 426
        },
        "id": "s2l1mkiWEZvc",
        "outputId": "c074c82f-b0c7-4da1-cb66-6d07d57c4d06"
      },
      "source": [
        "df.describe().transpose()"
      ],
      "execution_count": null,
      "outputs": [
        {
          "output_type": "execute_result",
          "data": {
            "text/html": [
              "<div>\n",
              "<style scoped>\n",
              "    .dataframe tbody tr th:only-of-type {\n",
              "        vertical-align: middle;\n",
              "    }\n",
              "\n",
              "    .dataframe tbody tr th {\n",
              "        vertical-align: top;\n",
              "    }\n",
              "\n",
              "    .dataframe thead th {\n",
              "        text-align: right;\n",
              "    }\n",
              "</style>\n",
              "<table border=\"1\" class=\"dataframe\">\n",
              "  <thead>\n",
              "    <tr style=\"text-align: right;\">\n",
              "      <th></th>\n",
              "      <th>count</th>\n",
              "      <th>mean</th>\n",
              "      <th>std</th>\n",
              "      <th>min</th>\n",
              "      <th>25%</th>\n",
              "      <th>50%</th>\n",
              "      <th>75%</th>\n",
              "      <th>max</th>\n",
              "    </tr>\n",
              "  </thead>\n",
              "  <tbody>\n",
              "    <tr>\n",
              "      <th>loan_amnt</th>\n",
              "      <td>396030.0</td>\n",
              "      <td>14113.888089</td>\n",
              "      <td>8357.441341</td>\n",
              "      <td>500.00</td>\n",
              "      <td>8000.00</td>\n",
              "      <td>12000.00</td>\n",
              "      <td>20000.00</td>\n",
              "      <td>40000.00</td>\n",
              "    </tr>\n",
              "    <tr>\n",
              "      <th>int_rate</th>\n",
              "      <td>396030.0</td>\n",
              "      <td>13.639400</td>\n",
              "      <td>4.472157</td>\n",
              "      <td>5.32</td>\n",
              "      <td>10.49</td>\n",
              "      <td>13.33</td>\n",
              "      <td>16.49</td>\n",
              "      <td>30.99</td>\n",
              "    </tr>\n",
              "    <tr>\n",
              "      <th>installment</th>\n",
              "      <td>396030.0</td>\n",
              "      <td>431.849698</td>\n",
              "      <td>250.727790</td>\n",
              "      <td>16.08</td>\n",
              "      <td>250.33</td>\n",
              "      <td>375.43</td>\n",
              "      <td>567.30</td>\n",
              "      <td>1533.81</td>\n",
              "    </tr>\n",
              "    <tr>\n",
              "      <th>annual_inc</th>\n",
              "      <td>396030.0</td>\n",
              "      <td>74203.175798</td>\n",
              "      <td>61637.621158</td>\n",
              "      <td>0.00</td>\n",
              "      <td>45000.00</td>\n",
              "      <td>64000.00</td>\n",
              "      <td>90000.00</td>\n",
              "      <td>8706582.00</td>\n",
              "    </tr>\n",
              "    <tr>\n",
              "      <th>dti</th>\n",
              "      <td>396030.0</td>\n",
              "      <td>17.379514</td>\n",
              "      <td>18.019092</td>\n",
              "      <td>0.00</td>\n",
              "      <td>11.28</td>\n",
              "      <td>16.91</td>\n",
              "      <td>22.98</td>\n",
              "      <td>9999.00</td>\n",
              "    </tr>\n",
              "    <tr>\n",
              "      <th>open_acc</th>\n",
              "      <td>396030.0</td>\n",
              "      <td>11.311153</td>\n",
              "      <td>5.137649</td>\n",
              "      <td>0.00</td>\n",
              "      <td>8.00</td>\n",
              "      <td>10.00</td>\n",
              "      <td>14.00</td>\n",
              "      <td>90.00</td>\n",
              "    </tr>\n",
              "    <tr>\n",
              "      <th>pub_rec</th>\n",
              "      <td>396030.0</td>\n",
              "      <td>0.178191</td>\n",
              "      <td>0.530671</td>\n",
              "      <td>0.00</td>\n",
              "      <td>0.00</td>\n",
              "      <td>0.00</td>\n",
              "      <td>0.00</td>\n",
              "      <td>86.00</td>\n",
              "    </tr>\n",
              "    <tr>\n",
              "      <th>revol_bal</th>\n",
              "      <td>396030.0</td>\n",
              "      <td>15844.539853</td>\n",
              "      <td>20591.836109</td>\n",
              "      <td>0.00</td>\n",
              "      <td>6025.00</td>\n",
              "      <td>11181.00</td>\n",
              "      <td>19620.00</td>\n",
              "      <td>1743266.00</td>\n",
              "    </tr>\n",
              "    <tr>\n",
              "      <th>revol_util</th>\n",
              "      <td>395754.0</td>\n",
              "      <td>53.791749</td>\n",
              "      <td>24.452193</td>\n",
              "      <td>0.00</td>\n",
              "      <td>35.80</td>\n",
              "      <td>54.80</td>\n",
              "      <td>72.90</td>\n",
              "      <td>892.30</td>\n",
              "    </tr>\n",
              "    <tr>\n",
              "      <th>total_acc</th>\n",
              "      <td>396030.0</td>\n",
              "      <td>25.414744</td>\n",
              "      <td>11.886991</td>\n",
              "      <td>2.00</td>\n",
              "      <td>17.00</td>\n",
              "      <td>24.00</td>\n",
              "      <td>32.00</td>\n",
              "      <td>151.00</td>\n",
              "    </tr>\n",
              "    <tr>\n",
              "      <th>mort_acc</th>\n",
              "      <td>358235.0</td>\n",
              "      <td>1.813991</td>\n",
              "      <td>2.147930</td>\n",
              "      <td>0.00</td>\n",
              "      <td>0.00</td>\n",
              "      <td>1.00</td>\n",
              "      <td>3.00</td>\n",
              "      <td>34.00</td>\n",
              "    </tr>\n",
              "    <tr>\n",
              "      <th>pub_rec_bankruptcies</th>\n",
              "      <td>395495.0</td>\n",
              "      <td>0.121648</td>\n",
              "      <td>0.356174</td>\n",
              "      <td>0.00</td>\n",
              "      <td>0.00</td>\n",
              "      <td>0.00</td>\n",
              "      <td>0.00</td>\n",
              "      <td>8.00</td>\n",
              "    </tr>\n",
              "  </tbody>\n",
              "</table>\n",
              "</div>"
            ],
            "text/plain": [
              "                         count          mean  ...       75%         max\n",
              "loan_amnt             396030.0  14113.888089  ...  20000.00    40000.00\n",
              "int_rate              396030.0     13.639400  ...     16.49       30.99\n",
              "installment           396030.0    431.849698  ...    567.30     1533.81\n",
              "annual_inc            396030.0  74203.175798  ...  90000.00  8706582.00\n",
              "dti                   396030.0     17.379514  ...     22.98     9999.00\n",
              "open_acc              396030.0     11.311153  ...     14.00       90.00\n",
              "pub_rec               396030.0      0.178191  ...      0.00       86.00\n",
              "revol_bal             396030.0  15844.539853  ...  19620.00  1743266.00\n",
              "revol_util            395754.0     53.791749  ...     72.90      892.30\n",
              "total_acc             396030.0     25.414744  ...     32.00      151.00\n",
              "mort_acc              358235.0      1.813991  ...      3.00       34.00\n",
              "pub_rec_bankruptcies  395495.0      0.121648  ...      0.00        8.00\n",
              "\n",
              "[12 rows x 8 columns]"
            ]
          },
          "metadata": {},
          "execution_count": 4
        }
      ]
    },
    {
      "cell_type": "code",
      "metadata": {
        "colab": {
          "base_uri": "https://localhost:8080/"
        },
        "id": "-Z8VenK5CDCz",
        "outputId": "ba968508-ec69-439c-fa24-d22f294608ed"
      },
      "source": [
        "df.isnull().sum()"
      ],
      "execution_count": null,
      "outputs": [
        {
          "output_type": "execute_result",
          "data": {
            "text/plain": [
              "loan_amnt                   0\n",
              "term                        0\n",
              "int_rate                    0\n",
              "installment                 0\n",
              "grade                       0\n",
              "sub_grade                   0\n",
              "emp_title               22927\n",
              "emp_length              18301\n",
              "home_ownership              0\n",
              "annual_inc                  0\n",
              "verification_status         0\n",
              "issue_d                     0\n",
              "loan_status                 0\n",
              "purpose                     0\n",
              "title                    1755\n",
              "dti                         0\n",
              "earliest_cr_line            0\n",
              "open_acc                    0\n",
              "pub_rec                     0\n",
              "revol_bal                   0\n",
              "revol_util                276\n",
              "total_acc                   0\n",
              "initial_list_status         0\n",
              "application_type            0\n",
              "mort_acc                37795\n",
              "pub_rec_bankruptcies      535\n",
              "address                     0\n",
              "dtype: int64"
            ]
          },
          "metadata": {},
          "execution_count": 6
        }
      ]
    },
    {
      "cell_type": "code",
      "metadata": {
        "colab": {
          "base_uri": "https://localhost:8080/"
        },
        "id": "y2fzq6_CD7Y0",
        "outputId": "7034bd51-0f61-446c-f86b-9e2df6b60f16"
      },
      "source": [
        "df['term'].value_counts()   "
      ],
      "execution_count": null,
      "outputs": [
        {
          "output_type": "execute_result",
          "data": {
            "text/plain": [
              " 36 months    302005\n",
              " 60 months     94025\n",
              "Name: term, dtype: int64"
            ]
          },
          "metadata": {},
          "execution_count": 7
        }
      ]
    },
    {
      "cell_type": "code",
      "metadata": {
        "colab": {
          "base_uri": "https://localhost:8080/"
        },
        "id": "-GFdeZzbEQRy",
        "outputId": "f1d41743-2b21-4476-f531-d11e709279c1"
      },
      "source": [
        "df['grade'].value_counts() "
      ],
      "execution_count": null,
      "outputs": [
        {
          "output_type": "execute_result",
          "data": {
            "text/plain": [
              "B    116018\n",
              "C    105987\n",
              "A     64187\n",
              "D     63524\n",
              "E     31488\n",
              "F     11772\n",
              "G      3054\n",
              "Name: grade, dtype: int64"
            ]
          },
          "metadata": {},
          "execution_count": 8
        }
      ]
    },
    {
      "cell_type": "code",
      "metadata": {
        "colab": {
          "base_uri": "https://localhost:8080/"
        },
        "id": "Fd6v4VwuEjHj",
        "outputId": "1fcd462c-95be-401e-edc1-7233523ade53"
      },
      "source": [
        "df['sub_grade'].value_counts() "
      ],
      "execution_count": null,
      "outputs": [
        {
          "output_type": "execute_result",
          "data": {
            "text/plain": [
              "B3    26655\n",
              "B4    25601\n",
              "C1    23662\n",
              "C2    22580\n",
              "B2    22495\n",
              "B5    22085\n",
              "C3    21221\n",
              "C4    20280\n",
              "B1    19182\n",
              "A5    18526\n",
              "C5    18244\n",
              "D1    15993\n",
              "A4    15789\n",
              "D2    13951\n",
              "D3    12223\n",
              "D4    11657\n",
              "A3    10576\n",
              "A1     9729\n",
              "D5     9700\n",
              "A2     9567\n",
              "E1     7917\n",
              "E2     7431\n",
              "E3     6207\n",
              "E4     5361\n",
              "E5     4572\n",
              "F1     3536\n",
              "F2     2766\n",
              "F3     2286\n",
              "F4     1787\n",
              "F5     1397\n",
              "G1     1058\n",
              "G2      754\n",
              "G3      552\n",
              "G4      374\n",
              "G5      316\n",
              "Name: sub_grade, dtype: int64"
            ]
          },
          "metadata": {},
          "execution_count": 9
        }
      ]
    },
    {
      "cell_type": "code",
      "metadata": {
        "colab": {
          "base_uri": "https://localhost:8080/"
        },
        "id": "2TdfjfSNFhar",
        "outputId": "1ba017a5-c91b-4ca0-ac24-5c9e19fc74c6"
      },
      "source": [
        "df['emp_length'].value_counts() "
      ],
      "execution_count": null,
      "outputs": [
        {
          "output_type": "execute_result",
          "data": {
            "text/plain": [
              "10+ years    126041\n",
              "2 years       35827\n",
              "< 1 year      31725\n",
              "3 years       31665\n",
              "5 years       26495\n",
              "1 year        25882\n",
              "4 years       23952\n",
              "6 years       20841\n",
              "7 years       20819\n",
              "8 years       19168\n",
              "9 years       15314\n",
              "Name: emp_length, dtype: int64"
            ]
          },
          "metadata": {},
          "execution_count": 10
        }
      ]
    },
    {
      "cell_type": "code",
      "metadata": {
        "colab": {
          "base_uri": "https://localhost:8080/"
        },
        "id": "hVRjRNYtFtzq",
        "outputId": "7f6b067e-4de1-421b-b354-87e365849259"
      },
      "source": [
        "df['home_ownership'].value_counts() "
      ],
      "execution_count": null,
      "outputs": [
        {
          "output_type": "execute_result",
          "data": {
            "text/plain": [
              "MORTGAGE    198348\n",
              "RENT        159790\n",
              "OWN          37746\n",
              "OTHER          112\n",
              "NONE            31\n",
              "ANY              3\n",
              "Name: home_ownership, dtype: int64"
            ]
          },
          "metadata": {},
          "execution_count": 11
        }
      ]
    },
    {
      "cell_type": "code",
      "metadata": {
        "colab": {
          "base_uri": "https://localhost:8080/"
        },
        "id": "ebdT19L4GD9R",
        "outputId": "b4819641-7a18-47a7-89c9-aee594017b4c"
      },
      "source": [
        "df['verification_status'].value_counts()"
      ],
      "execution_count": null,
      "outputs": [
        {
          "output_type": "execute_result",
          "data": {
            "text/plain": [
              "Verified           139563\n",
              "Source Verified    131385\n",
              "Not Verified       125082\n",
              "Name: verification_status, dtype: int64"
            ]
          },
          "metadata": {},
          "execution_count": 12
        }
      ]
    },
    {
      "cell_type": "code",
      "metadata": {
        "colab": {
          "base_uri": "https://localhost:8080/"
        },
        "id": "WokzZ2r3GR2G",
        "outputId": "3e9b6f6a-c922-4636-f2bf-472dc4bb1aec"
      },
      "source": [
        "df['issue_d']"
      ],
      "execution_count": null,
      "outputs": [
        {
          "output_type": "execute_result",
          "data": {
            "text/plain": [
              "0         Jan-2015\n",
              "1         Jan-2015\n",
              "2         Jan-2015\n",
              "3         Nov-2014\n",
              "4         Apr-2013\n",
              "            ...   \n",
              "396025    Oct-2015\n",
              "396026    Feb-2015\n",
              "396027    Oct-2013\n",
              "396028    Aug-2012\n",
              "396029    Jun-2010\n",
              "Name: issue_d, Length: 396030, dtype: object"
            ]
          },
          "metadata": {},
          "execution_count": 13
        }
      ]
    },
    {
      "cell_type": "code",
      "metadata": {
        "colab": {
          "base_uri": "https://localhost:8080/"
        },
        "id": "v64SySoPGguo",
        "outputId": "aded61f5-23e7-4bc0-fe38-ea80ab1a725f"
      },
      "source": [
        "df['loan_status'].value_counts() "
      ],
      "execution_count": null,
      "outputs": [
        {
          "output_type": "execute_result",
          "data": {
            "text/plain": [
              "Fully Paid     318357\n",
              "Charged Off     77673\n",
              "Name: loan_status, dtype: int64"
            ]
          },
          "metadata": {},
          "execution_count": 14
        }
      ]
    },
    {
      "cell_type": "code",
      "metadata": {
        "colab": {
          "base_uri": "https://localhost:8080/"
        },
        "id": "ewL35PzRGpUm",
        "outputId": "4c2eb6f9-8e04-4a34-9f0f-86979bb04a28"
      },
      "source": [
        "df['purpose'].value_counts()  "
      ],
      "execution_count": null,
      "outputs": [
        {
          "output_type": "execute_result",
          "data": {
            "text/plain": [
              "debt_consolidation    234507\n",
              "credit_card            83019\n",
              "home_improvement       24030\n",
              "other                  21185\n",
              "major_purchase          8790\n",
              "small_business          5701\n",
              "car                     4697\n",
              "medical                 4196\n",
              "moving                  2854\n",
              "vacation                2452\n",
              "house                   2201\n",
              "wedding                 1812\n",
              "renewable_energy         329\n",
              "educational              257\n",
              "Name: purpose, dtype: int64"
            ]
          },
          "metadata": {},
          "execution_count": 15
        }
      ]
    },
    {
      "cell_type": "code",
      "metadata": {
        "colab": {
          "base_uri": "https://localhost:8080/"
        },
        "id": "4_UAEAzRHE6a",
        "outputId": "8aeb4ade-8570-413d-f485-9ee57a4a7156"
      },
      "source": [
        "df['earliest_cr_line'].value_counts() "
      ],
      "execution_count": null,
      "outputs": [
        {
          "output_type": "execute_result",
          "data": {
            "text/plain": [
              "Oct-2000    3017\n",
              "Aug-2000    2935\n",
              "Oct-2001    2896\n",
              "Aug-2001    2884\n",
              "Nov-2000    2736\n",
              "            ... \n",
              "Jun-1959       1\n",
              "Feb-1961       1\n",
              "Aug-1951       1\n",
              "Oct-1957       1\n",
              "Jul-1959       1\n",
              "Name: earliest_cr_line, Length: 684, dtype: int64"
            ]
          },
          "metadata": {},
          "execution_count": 16
        }
      ]
    },
    {
      "cell_type": "code",
      "metadata": {
        "colab": {
          "base_uri": "https://localhost:8080/"
        },
        "id": "PBcrKWAlHqLA",
        "outputId": "bf719830-eb99-4cc9-8ba9-79e9190563d9"
      },
      "source": [
        "df['initial_list_status'].value_counts() "
      ],
      "execution_count": null,
      "outputs": [
        {
          "output_type": "execute_result",
          "data": {
            "text/plain": [
              "f    238066\n",
              "w    157964\n",
              "Name: initial_list_status, dtype: int64"
            ]
          },
          "metadata": {},
          "execution_count": 17
        }
      ]
    },
    {
      "cell_type": "code",
      "metadata": {
        "colab": {
          "base_uri": "https://localhost:8080/"
        },
        "id": "TmtchjuZH23H",
        "outputId": "fbe24d57-9a2e-4158-8182-dce5a2da9e47"
      },
      "source": [
        "df['application_type'].value_counts()  "
      ],
      "execution_count": null,
      "outputs": [
        {
          "output_type": "execute_result",
          "data": {
            "text/plain": [
              "INDIVIDUAL    395319\n",
              "JOINT            425\n",
              "DIRECT_PAY       286\n",
              "Name: application_type, dtype: int64"
            ]
          },
          "metadata": {},
          "execution_count": 18
        }
      ]
    },
    {
      "cell_type": "markdown",
      "metadata": {
        "id": "GRvaRnTwzv9y"
      },
      "source": [
        "#visiulaization"
      ]
    },
    {
      "cell_type": "code",
      "metadata": {
        "colab": {
          "base_uri": "https://localhost:8080/",
          "height": 713
        },
        "id": "11J2spMsVaGL",
        "outputId": "c68472cf-2d32-41d4-e3f4-a289e5b592fc"
      },
      "source": [
        "plt.figure(figsize=[10,10])\n",
        "sns.heatmap(df.corr(), annot=True,cmap='YlGnBu' ,fmt=\".2f\")"
      ],
      "execution_count": null,
      "outputs": [
        {
          "output_type": "execute_result",
          "data": {
            "text/plain": [
              "<matplotlib.axes._subplots.AxesSubplot at 0x7f77857e5350>"
            ]
          },
          "metadata": {},
          "execution_count": 131
        },
        {
          "output_type": "display_data",
          "data": {
            "image/png": "[encoded data removed]",
            "text/plain": [
              "<Figure size 720x720 with 2 Axes>"
            ]
          },
          "metadata": {
            "needs_background": "light"
          }
        }
      ]
    },
    {
      "cell_type": "code",
      "metadata": {
        "colab": {
          "base_uri": "https://localhost:8080/",
          "height": 406
        },
        "id": "3iCooPKNd2Pp",
        "outputId": "f92b550d-0de7-49e2-9d86-08baafeb4152"
      },
      "source": [
        "plt.figure(figsize=[7,6])\n",
        "sns.histplot(data=df,x='installment',hue='loan_status',bins=40,)\n"
      ],
      "execution_count": null,
      "outputs": [
        {
          "output_type": "execute_result",
          "data": {
            "text/plain": [
              "<matplotlib.axes._subplots.AxesSubplot at 0x7f778eec4a50>"
            ]
          },
          "metadata": {},
          "execution_count": 81
        },
        {
          "output_type": "display_data",
          "data": {
            "image/png": "[encoded data removed]",
            "text/plain": [
              "<Figure size 504x432 with 1 Axes>"
            ]
          },
          "metadata": {
            "needs_background": "light"
          }
        }
      ]
    },
    {
      "cell_type": "code",
      "metadata": {
        "colab": {
          "base_uri": "https://localhost:8080/",
          "height": 407
        },
        "id": "Ih1GnYNUhF1T",
        "outputId": "e84665d3-5a91-4310-d9fb-c0e9b38a9ac4"
      },
      "source": [
        "plt.figure(figsize=[7,6])\n",
        "sns.histplot(data=df,x='loan_amnt',hue='loan_status',bins=40)"
      ],
      "execution_count": null,
      "outputs": [
        {
          "output_type": "execute_result",
          "data": {
            "text/plain": [
              "<matplotlib.axes._subplots.AxesSubplot at 0x7f778ed8dbd0>"
            ]
          },
          "metadata": {},
          "execution_count": 82
        },
        {
          "output_type": "display_data",
          "data": {
            "image/png": "[encoded data removed]",
            "text/plain": [
              "<Figure size 504x432 with 1 Axes>"
            ]
          },
          "metadata": {
            "needs_background": "light"
          }
        }
      ]
    },
    {
      "cell_type": "code",
      "metadata": {
        "colab": {
          "base_uri": "https://localhost:8080/",
          "height": 355
        },
        "id": "kcY36NEEbXsE",
        "outputId": "254ebaed-2f69-4141-add8-685622ef48c0"
      },
      "source": [
        "sns.distplot(df['revol_util'])"
      ],
      "execution_count": null,
      "outputs": [
        {
          "output_type": "stream",
          "name": "stderr",
          "text": [
            "/usr/local/lib/python3.7/dist-packages/seaborn/distributions.py:2619: FutureWarning: `distplot` is a deprecated function and will be removed in a future version. Please adapt your code to use either `displot` (a figure-level function with similar flexibility) or `histplot` (an axes-level function for histograms).\n",
            "  warnings.warn(msg, FutureWarning)\n"
          ]
        },
        {
          "output_type": "execute_result",
          "data": {
            "text/plain": [
              "<matplotlib.axes._subplots.AxesSubplot at 0x7f7789dbb2d0>"
            ]
          },
          "metadata": {},
          "execution_count": 85
        },
        {
          "output_type": "display_data",
          "data": {
            "image/png": "[encoded data removed]",
            "text/plain": [
              "<Figure size 432x288 with 1 Axes>"
            ]
          },
          "metadata": {
            "needs_background": "light"
          }
        }
      ]
    },
    {
      "cell_type": "code",
      "metadata": {
        "colab": {
          "base_uri": "https://localhost:8080/",
          "height": 355
        },
        "id": "dIib2FpxbUJb",
        "outputId": "261ef91e-fcbf-408f-935b-a1239bf5b005"
      },
      "source": [
        "sns.distplot(df['pub_rec_bankruptcies'])"
      ],
      "execution_count": null,
      "outputs": [
        {
          "name": "stderr",
          "output_type": "stream",
          "text": [
            "/usr/local/lib/python3.7/dist-packages/seaborn/distributions.py:2619: FutureWarning: `distplot` is a deprecated function and will be removed in a future version. Please adapt your code to use either `displot` (a figure-level function with similar flexibility) or `histplot` (an axes-level function for histograms).\n",
            "  warnings.warn(msg, FutureWarning)\n"
          ]
        },
        {
          "data": {
            "text/plain": [
              "<matplotlib.axes._subplots.AxesSubplot at 0x7f4d0107b210>"
            ]
          },
          "execution_count": 30,
          "metadata": {},
          "output_type": "execute_result"
        },
        {
          "data": {
            "image/png": "[encoded data removed]",
            "text/plain": [
              "<Figure size 432x288 with 1 Axes>"
            ]
          },
          "metadata": {},
          "output_type": "display_data"
        }
      ]
    },
    {
      "cell_type": "code",
      "metadata": {
        "colab": {
          "base_uri": "https://localhost:8080/",
          "height": 355
        },
        "id": "iINQec8GbQGL",
        "outputId": "41695fb4-0bac-4b74-f883-75ed05976a18"
      },
      "source": [
        "sns.distplot(df['mort_acc'])\n"
      ],
      "execution_count": null,
      "outputs": [
        {
          "name": "stderr",
          "output_type": "stream",
          "text": [
            "/usr/local/lib/python3.7/dist-packages/seaborn/distributions.py:2619: FutureWarning: `distplot` is a deprecated function and will be removed in a future version. Please adapt your code to use either `displot` (a figure-level function with similar flexibility) or `histplot` (an axes-level function for histograms).\n",
            "  warnings.warn(msg, FutureWarning)\n"
          ]
        },
        {
          "data": {
            "text/plain": [
              "<matplotlib.axes._subplots.AxesSubplot at 0x7f4d00b05250>"
            ]
          },
          "execution_count": 31,
          "metadata": {},
          "output_type": "execute_result"
        },
        {
          "data": {
            "image/png": "[encoded data removed]",
            "text/plain": [
              "<Figure size 432x288 with 1 Axes>"
            ]
          },
          "metadata": {},
          "output_type": "display_data"
        }
      ]
    },
    {
      "cell_type": "code",
      "metadata": {
        "colab": {
          "base_uri": "https://localhost:8080/",
          "height": 297
        },
        "id": "qAZ9k4v70MCo",
        "outputId": "ae505cee-6e13-4ed3-a5f0-f892784e13a7"
      },
      "source": [
        "sns.countplot(x=df['grade'].sort_values(),hue=df['loan_status'])"
      ],
      "execution_count": null,
      "outputs": [
        {
          "output_type": "execute_result",
          "data": {
            "text/plain": [
              "<matplotlib.axes._subplots.AxesSubplot at 0x7f7788ab1d10>"
            ]
          },
          "metadata": {},
          "execution_count": 96
        },
        {
          "output_type": "display_data",
          "data": {
            "image/png": "[encoded data removed]",
            "text/plain": [
              "<Figure size 432x288 with 1 Axes>"
            ]
          },
          "metadata": {
            "needs_background": "light"
          }
        }
      ]
    },
    {
      "cell_type": "code",
      "metadata": {
        "colab": {
          "base_uri": "https://localhost:8080/",
          "height": 516
        },
        "id": "1aAukdbH0eXu",
        "outputId": "068024c3-e898-450e-c100-74be802b9805"
      },
      "source": [
        "sub_grade=df.sub_grade.sort_values()\n",
        "plt.figure(figsize=(15,8))\n",
        "sns.countplot(x=sub_grade,hue=df['loan_status'],palette='BuPu')"
      ],
      "execution_count": null,
      "outputs": [
        {
          "output_type": "execute_result",
          "data": {
            "text/plain": [
              "<matplotlib.axes._subplots.AxesSubplot at 0x7f77876042d0>"
            ]
          },
          "metadata": {},
          "execution_count": 128
        },
        {
          "output_type": "display_data",
          "data": {
            "image/png": "[encoded data removed]",
            "text/plain": [
              "<Figure size 1080x576 with 1 Axes>"
            ]
          },
          "metadata": {
            "needs_background": "light"
          }
        }
      ]
    },
    {
      "cell_type": "code",
      "metadata": {
        "colab": {
          "base_uri": "https://localhost:8080/",
          "height": 488
        },
        "id": "-eKyY4TJTtmN",
        "outputId": "98c8185d-e656-4fbd-9fbc-2ef4d1a91852"
      },
      "source": [
        "plt.figure(figsize=(20,8))\n",
        "sns.countplot(x=df['emp_length'],hue=df['loan_status'],palette=\"Set1\")"
      ],
      "execution_count": null,
      "outputs": [
        {
          "output_type": "execute_result",
          "data": {
            "text/plain": [
              "<matplotlib.axes._subplots.AxesSubplot at 0x7f77884eb310>"
            ]
          },
          "metadata": {},
          "execution_count": 108
        },
        {
          "output_type": "display_data",
          "data": {
            "image/png": "[encoded data removed]",
            "text/plain": [
              "<Figure size 1440x576 with 1 Axes>"
            ]
          },
          "metadata": {
            "needs_background": "light"
          }
        }
      ]
    },
    {
      "cell_type": "code",
      "metadata": {
        "colab": {
          "base_uri": "https://localhost:8080/",
          "height": 543
        },
        "id": "lyP4GNye2Xqd",
        "outputId": "60bd6926-1b7b-46f3-8f27-3814e6984f70"
      },
      "source": [
        "plt.figure(figsize=(20,8))\n",
        "sns.countplot(df['purpose'],color='g')"
      ],
      "execution_count": null,
      "outputs": [
        {
          "output_type": "stream",
          "name": "stderr",
          "text": [
            "/usr/local/lib/python3.7/dist-packages/seaborn/_decorators.py:43: FutureWarning: Pass the following variable as a keyword arg: x. From version 0.12, the only valid positional argument will be `data`, and passing other arguments without an explicit keyword will result in an error or misinterpretation.\n",
            "  FutureWarning\n"
          ]
        },
        {
          "output_type": "execute_result",
          "data": {
            "text/plain": [
              "<matplotlib.axes._subplots.AxesSubplot at 0x7f7784719210>"
            ]
          },
          "metadata": {},
          "execution_count": 148
        },
        {
          "output_type": "display_data",
          "data": {
            "image/png": "[encoded data removed]",
            "text/plain": [
              "<Figure size 1440x576 with 1 Axes>"
            ]
          },
          "metadata": {
            "needs_background": "light"
          }
        }
      ]
    },
    {
      "cell_type": "code",
      "metadata": {
        "colab": {
          "base_uri": "https://localhost:8080/",
          "height": 625
        },
        "id": "e7QkmtOaV5bI",
        "outputId": "b3d14d77-4f31-4ff2-87cf-6be83780c04e"
      },
      "source": [
        "plt.figure(figsize=(10, 10))\n",
        "\n",
        "plt.subplot(2, 2, 1)\n",
        "sns.countplot(x='term', data=df, hue='loan_status',palette=\"Set2\")\n",
        "\n",
        "plt.subplot(2, 2, (3,4))\n",
        "sns.countplot(x='home_ownership', data=df, hue='loan_status',palette=\"Set2\")\n",
        "\n",
        "plt.subplot(2, 2, 2)\n",
        "sns.countplot(x='verification_status', data=df, hue='loan_status',palette=\"Set2\")\n",
        "\n",
        "#plt.subplot(4, 2, 4)\n",
        "#sns.countplot(x='purpose', data=df, hue='loan_status',palette=\"Set2\")\n",
        "#g.set_xticklabels(g.get_xticklabels(), rotation=90)"
      ],
      "execution_count": null,
      "outputs": [
        {
          "output_type": "execute_result",
          "data": {
            "text/plain": [
              "<matplotlib.axes._subplots.AxesSubplot at 0x7f77849bc550>"
            ]
          },
          "metadata": {},
          "execution_count": 139
        },
        {
          "output_type": "display_data",
          "data": {
            "image/png": "[encoded data removed]",
            "text/plain": [
              "<Figure size 720x720 with 3 Axes>"
            ]
          },
          "metadata": {
            "needs_background": "light"
          }
        }
      ]
    },
    {
      "cell_type": "code",
      "metadata": {
        "colab": {
          "base_uri": "https://localhost:8080/",
          "height": 298
        },
        "id": "7DnCPYG9a55X",
        "outputId": "b17c3eb1-b6b4-4d94-b391-10e69ff07ab4"
      },
      "source": [
        "plt.figure(figsize=[12,4])\n",
        "plt.subplot(1,2,1)\n",
        "sns.histplot(data=df,x=\"int_rate\",hue=\"loan_status\",bins=40)\n",
        "\n",
        "plt.subplot(1,2,2)\n",
        "sns.histplot(data=df,x=\"annual_inc\",hue=\"loan_status\",bins=40)"
      ],
      "execution_count": null,
      "outputs": [
        {
          "output_type": "execute_result",
          "data": {
            "text/plain": [
              "<matplotlib.axes._subplots.AxesSubplot at 0x7f778162d550>"
            ]
          },
          "metadata": {},
          "execution_count": 174
        },
        {
          "output_type": "display_data",
          "data": {
            "image/png": "[encoded data removed]",
            "text/plain": [
              "<Figure size 864x288 with 2 Axes>"
            ]
          },
          "metadata": {
            "needs_background": "light"
          }
        }
      ]
    },
    {
      "cell_type": "code",
      "metadata": {
        "colab": {
          "base_uri": "https://localhost:8080/",
          "height": 298
        },
        "id": "-eS4nWQDdkGs",
        "outputId": "346a915a-0ec8-40eb-ae1d-41f90dc9ff2c"
      },
      "source": [
        "plt.figure(figsize=[12,4])\n",
        "plt.subplot(1,2,1)\n",
        "sns.histplot(data=df,x=\"open_acc\",hue=\"loan_status\",bins=30)\n",
        "\n",
        "plt.subplot(1,2,2)\n",
        "sns.histplot(data=df,x=\"total_acc\",hue=\"loan_status\",bins=30)"
      ],
      "execution_count": null,
      "outputs": [
        {
          "output_type": "execute_result",
          "data": {
            "text/plain": [
              "<matplotlib.axes._subplots.AxesSubplot at 0x7fcc77c6a690>"
            ]
          },
          "metadata": {},
          "execution_count": 15
        },
        {
          "output_type": "display_data",
          "data": {
            "image/png": "[encoded data removed]",
            "text/plain": [
              "<Figure size 864x288 with 2 Axes>"
            ]
          },
          "metadata": {
            "needs_background": "light"
          }
        }
      ]
    },
    {
      "cell_type": "code",
      "metadata": {
        "colab": {
          "base_uri": "https://localhost:8080/",
          "height": 298
        },
        "id": "sE9kemhKw6NS",
        "outputId": "474ef593-1d19-4e18-ca16-e5ee9dae9de6"
      },
      "source": [
        "plt.figure(figsize=[12,4])\n",
        "plt.subplot(1,2,1)\n",
        "sns.histplot(data=df,x=\"revol_bal\",hue=\"loan_status\",bins=40)\n",
        "\n",
        "plt.subplot(1,2,2)\n",
        "sns.histplot(data=df,x=\"revol_util\",hue=\"loan_status\",bins=40)"
      ],
      "execution_count": null,
      "outputs": [
        {
          "output_type": "execute_result",
          "data": {
            "text/plain": [
              "<matplotlib.axes._subplots.AxesSubplot at 0x7fdde71e9a10>"
            ]
          },
          "metadata": {},
          "execution_count": 6
        },
        {
          "output_type": "display_data",
          "data": {
            "image/png": "[encoded data removed]",
            "text/plain": [
              "<Figure size 864x288 with 2 Axes>"
            ]
          },
          "metadata": {
            "needs_background": "light"
          }
        }
      ]
    },
    {
      "cell_type": "code",
      "metadata": {
        "colab": {
          "base_uri": "https://localhost:8080/"
        },
        "id": "5b6mysRNb8fQ",
        "outputId": "4c386ff1-e4f3-4444-cd90-bb105c27c692"
      },
      "source": [
        "df['pub_rec'].value_counts()"
      ],
      "execution_count": null,
      "outputs": [
        {
          "output_type": "execute_result",
          "data": {
            "text/plain": [
              "0.0     338272\n",
              "1.0      49739\n",
              "2.0       5476\n",
              "3.0       1521\n",
              "4.0        527\n",
              "5.0        237\n",
              "6.0        122\n",
              "7.0         56\n",
              "8.0         34\n",
              "9.0         12\n",
              "10.0        11\n",
              "11.0         8\n",
              "13.0         4\n",
              "12.0         4\n",
              "19.0         2\n",
              "86.0         1\n",
              "40.0         1\n",
              "17.0         1\n",
              "15.0         1\n",
              "24.0         1\n",
              "Name: pub_rec, dtype: int64"
            ]
          },
          "metadata": {},
          "execution_count": 8
        }
      ]
    },
    {
      "cell_type": "code",
      "metadata": {
        "colab": {
          "base_uri": "https://localhost:8080/",
          "height": 298
        },
        "id": "pbRX01bYIA6L",
        "outputId": "e1bc06f6-0bbe-4d97-c294-3affe97d87cd"
      },
      "source": [
        "sns.histplot(data=df,x='pub_rec',hue='loan_status')"
      ],
      "execution_count": null,
      "outputs": [
        {
          "output_type": "execute_result",
          "data": {
            "text/plain": [
              "<matplotlib.axes._subplots.AxesSubplot at 0x7fddd612db90>"
            ]
          },
          "metadata": {},
          "execution_count": 15
        },
        {
          "output_type": "display_data",
          "data": {
            "image/png": "[encoded data removed]",
            "text/plain": [
              "<Figure size 432x288 with 1 Axes>"
            ]
          },
          "metadata": {
            "needs_background": "light"
          }
        }
      ]
    },
    {
      "cell_type": "code",
      "metadata": {
        "colab": {
          "base_uri": "https://localhost:8080/"
        },
        "id": "QnXN62FvhI-f",
        "outputId": "e6223280-9650-43be-d7f8-da20cd0bc2bb"
      },
      "source": [
        "df.mort_acc.value_counts()"
      ],
      "execution_count": null,
      "outputs": [
        {
          "output_type": "execute_result",
          "data": {
            "text/plain": [
              "0.0     139777\n",
              "1.0      60416\n",
              "2.0      49948\n",
              "3.0      38049\n",
              "4.0      27887\n",
              "5.0      18194\n",
              "6.0      11069\n",
              "7.0       6052\n",
              "8.0       3121\n",
              "9.0       1656\n",
              "10.0       865\n",
              "11.0       479\n",
              "12.0       264\n",
              "13.0       146\n",
              "14.0       107\n",
              "15.0        61\n",
              "16.0        37\n",
              "17.0        22\n",
              "18.0        18\n",
              "19.0        15\n",
              "20.0        13\n",
              "24.0        10\n",
              "22.0         7\n",
              "21.0         4\n",
              "25.0         4\n",
              "27.0         3\n",
              "23.0         2\n",
              "32.0         2\n",
              "26.0         2\n",
              "31.0         2\n",
              "30.0         1\n",
              "28.0         1\n",
              "34.0         1\n",
              "Name: mort_acc, dtype: int64"
            ]
          },
          "metadata": {},
          "execution_count": 26
        }
      ]
    },
    {
      "cell_type": "code",
      "metadata": {
        "colab": {
          "base_uri": "https://localhost:8080/",
          "height": 387
        },
        "id": "A88W4oAximB5",
        "outputId": "526ff6fe-49f5-43c6-f008-86dce2b5ec22"
      },
      "source": [
        "sns.displot(data=df,x='mort_acc',hue='loan_status',kind='kde')\n"
      ],
      "execution_count": null,
      "outputs": [
        {
          "output_type": "execute_result",
          "data": {
            "text/plain": [
              "<seaborn.axisgrid.FacetGrid at 0x7fddd37e6e50>"
            ]
          },
          "metadata": {},
          "execution_count": 38
        },
        {
          "output_type": "display_data",
          "data": {
            "image/png": "[encoded data removed]",
            "text/plain": [
              "<Figure size 456.375x360 with 1 Axes>"
            ]
          },
          "metadata": {
            "needs_background": "light"
          }
        }
      ]
    },
    {
      "cell_type": "code",
      "metadata": {
        "colab": {
          "base_uri": "https://localhost:8080/",
          "height": 626
        },
        "id": "N4OnldNmKoLO",
        "outputId": "921fcfc0-3db3-4a6b-e429-637e72e51136"
      },
      "source": [
        "plt.figure(figsize=[10,10])\n",
        "plt.subplot(2,2,1)\n",
        "sns.countplot(data=df,x='initial_list_status',hue=\"loan_status\")\n",
        "\n",
        "plt.subplot(2,2,2)\n",
        "sns.countplot(data=df,x='application_type',hue=\"loan_status\")\n",
        "\n",
        "plt.subplot(2,2,3)\n",
        "sns.histplot(data=df,x='mort_acc',hue='loan_status',bins=15)\n",
        "\n",
        "plt.subplot(2,2,4)\n",
        "sns.histplot(data=df,x='pub_rec_bankruptcies',hue=\"loan_status\",bins=20)"
      ],
      "execution_count": null,
      "outputs": [
        {
          "output_type": "execute_result",
          "data": {
            "text/plain": [
              "<matplotlib.axes._subplots.AxesSubplot at 0x7fddd2ddce50>"
            ]
          },
          "metadata": {},
          "execution_count": 45
        },
        {
          "output_type": "display_data",
          "data": {
            "image/png": "[encoded data removed]",
            "text/plain": [
              "<Figure size 720x720 with 4 Axes>"
            ]
          },
          "metadata": {
            "needs_background": "light"
          }
        }
      ]
    },
    {
      "cell_type": "code",
      "metadata": {
        "colab": {
          "base_uri": "https://localhost:8080/"
        },
        "id": "ywxJI-nbkRMV",
        "outputId": "d4b2bb10-c8b3-4b88-f5d0-af8f58bd4cba"
      },
      "source": [
        "df['loan_status'].replace({\"Fully Paid\":1,\"Charged Off\":0},inplace=True)\n",
        "corr=df.corr()[\"loan_status\"].drop('loan_status').sort_values()\n",
        "corr"
      ],
      "execution_count": null,
      "outputs": [
        {
          "output_type": "execute_result",
          "data": {
            "text/plain": [
              "int_rate               -0.247758\n",
              "revol_util             -0.082373\n",
              "dti                    -0.062413\n",
              "loan_amnt              -0.059836\n",
              "installment            -0.041082\n",
              "open_acc               -0.028012\n",
              "pub_rec                -0.019933\n",
              "pub_rec_bankruptcies   -0.009383\n",
              "revol_bal               0.010892\n",
              "total_acc               0.017893\n",
              "annual_inc              0.053432\n",
              "mort_acc                0.073111\n",
              "Name: loan_status, dtype: float64"
            ]
          },
          "metadata": {},
          "execution_count": 86
        }
      ]
    },
    {
      "cell_type": "code",
      "metadata": {
        "colab": {
          "base_uri": "https://localhost:8080/",
          "height": 516
        },
        "id": "QsvX8GIjkpQ5",
        "outputId": "9cea36aa-741e-49e0-b371-236cca968b35"
      },
      "source": [
        "plt.figure(figsize=[8,8])\n",
        "sns.barplot(y=corr.index,x=corr,color='r',)"
      ],
      "execution_count": null,
      "outputs": [
        {
          "output_type": "execute_result",
          "data": {
            "text/plain": [
              "<matplotlib.axes._subplots.AxesSubplot at 0x7fddd0c56950>"
            ]
          },
          "metadata": {},
          "execution_count": 84
        },
        {
          "output_type": "display_data",
          "data": {
            "image/png": "[encoded data removed]",
            "text/plain": [
              "<Figure size 576x576 with 1 Axes>"
            ]
          },
          "metadata": {
            "needs_background": "light"
          }
        }
      ]
    },
    {
      "cell_type": "code",
      "metadata": {
        "id": "Gxdu7WVYmHYR"
      },
      "source": [
        "sns.barplot(x=corr,y)"
      ],
      "execution_count": null,
      "outputs": []
    },
    {
      "cell_type": "markdown",
      "metadata": {
        "id": "Z-cQ1hxEIBWi"
      },
      "source": [
        "#Prepareing Data"
      ]
    },
    {
      "cell_type": "markdown",
      "metadata": {
        "id": "-TwuMASltnkI"
      },
      "source": [
        "\n",
        "\n",
        "* \"**purpose**\" column is generated from \"**titel**\" colomn, so we can remove \"**title**\" column.\n",
        "*  there are too many unique values in \"**job titles**\" column to try to encode thim be onehotemcoder, so we want to remove \"**emp_title**\" column.\n",
        "*  \"**sub_grade**\" column has the same arranging of \"**grade**\" column but with more details, we can remove \"**grade**\" column.\n",
        "\n",
        "\n"
      ]
    },
    {
      "cell_type": "code",
      "metadata": {
        "id": "5F0RmOVma4MP"
      },
      "source": [
        "df.drop(['title','emp_title','grade'],axis=1,inplace=True)"
      ],
      "execution_count": null,
      "outputs": []
    },
    {
      "cell_type": "code",
      "metadata": {
        "colab": {
          "base_uri": "https://localhost:8080/"
        },
        "id": "_fbvAYAI6_1F",
        "outputId": "d55c0449-d02a-45db-a805-073cb107c6f3"
      },
      "source": [
        "for column in df.columns:\n",
        "    if df[column].isnull().sum() != 0:\n",
        "        missing = df[column].isnull().sum()\n",
        "        portion = (missing / df.shape[0]) * 100\n",
        "        print(f\"'{column}': number of missing values '{missing}' ==> '{portion:.3f}%'\")"
      ],
      "execution_count": null,
      "outputs": [
        {
          "output_type": "stream",
          "name": "stdout",
          "text": [
            "'emp_length': number of missing values '18301' ==> '4.621%'\n",
            "'revol_util': number of missing values '276' ==> '0.070%'\n",
            "'mort_acc': number of missing values '37795' ==> '9.543%'\n",
            "'pub_rec_bankruptcies': number of missing values '535' ==> '0.135%'\n"
          ]
        }
      ]
    },
    {
      "cell_type": "markdown",
      "metadata": {
        "id": "ECTve28H9Y3b"
      },
      "source": [
        "*  we can remove NaN values in \"**revol_util**\" and \"**pub_rec_bankruptcies**\" columns because they have small number NaN."
      ]
    },
    {
      "cell_type": "code",
      "metadata": {
        "id": "TUkG7pum-De7"
      },
      "source": [
        "df.dropna(subset=('revol_util','pub_rec_bankruptcies'),inplace=True)"
      ],
      "execution_count": null,
      "outputs": []
    },
    {
      "cell_type": "code",
      "metadata": {
        "colab": {
          "base_uri": "https://localhost:8080/"
        },
        "id": "Cpiz-kpf-JC1",
        "outputId": "632d5008-929d-46ce-8d95-5ed16c87df9a"
      },
      "source": [
        "for column in df.columns:\n",
        "    if df[column].isnull().sum() != 0:\n",
        "        missing = df[column].isnull().sum()\n",
        "        portion = (missing / df.shape[0]) * 100\n",
        "        print(f\"'{column}': number of missing values '{missing}' ==> '{portion:.3f}%'\")"
      ],
      "execution_count": null,
      "outputs": [
        {
          "output_type": "stream",
          "name": "stdout",
          "text": [
            "'emp_length': number of missing values '18290' ==> '4.628%'\n",
            "'mort_acc': number of missing values '37205' ==> '9.414%'\n"
          ]
        }
      ]
    },
    {
      "cell_type": "markdown",
      "source": [
        "* \"**emp_length**\" column doesn't actually have large differences on the charge off rates, so we can remove it.\n",
        "\n"
      ],
      "metadata": {
        "id": "hlQ13_TMod5Y"
      }
    },
    {
      "cell_type": "code",
      "source": [
        "for year in df.emp_length.unique():\n",
        "    print(f\"{year}\")\n",
        "    print(f\"{df[df.emp_length == year].loan_status.value_counts(normalize=True)}\")\n",
        "    print('#'*50)"
      ],
      "metadata": {
        "colab": {
          "base_uri": "https://localhost:8080/"
        },
        "id": "KoxA7RZ5oqHg",
        "outputId": "b20951fa-133e-417f-dd56-f04c5b18fda1"
      },
      "execution_count": null,
      "outputs": [
        {
          "output_type": "stream",
          "name": "stdout",
          "text": [
            "10+ years\n",
            "Fully Paid     0.815827\n",
            "Charged Off    0.184173\n",
            "Name: loan_status, dtype: float64\n",
            "##################################################\n",
            "4 years\n",
            "Fully Paid     0.807848\n",
            "Charged Off    0.192152\n",
            "Name: loan_status, dtype: float64\n",
            "##################################################\n",
            "< 1 year\n",
            "Fully Paid     0.793055\n",
            "Charged Off    0.206945\n",
            "Name: loan_status, dtype: float64\n",
            "##################################################\n",
            "6 years\n",
            "Fully Paid     0.810652\n",
            "Charged Off    0.189348\n",
            "Name: loan_status, dtype: float64\n",
            "##################################################\n",
            "9 years\n",
            "Fully Paid     0.799477\n",
            "Charged Off    0.200523\n",
            "Name: loan_status, dtype: float64\n",
            "##################################################\n",
            "2 years\n",
            "Fully Paid     0.806665\n",
            "Charged Off    0.193335\n",
            "Name: loan_status, dtype: float64\n",
            "##################################################\n",
            "3 years\n",
            "Fully Paid     0.804545\n",
            "Charged Off    0.195455\n",
            "Name: loan_status, dtype: float64\n",
            "##################################################\n",
            "8 years\n",
            "Fully Paid     0.800324\n",
            "Charged Off    0.199676\n",
            "Name: loan_status, dtype: float64\n",
            "##################################################\n",
            "7 years\n",
            "Fully Paid     0.805177\n",
            "Charged Off    0.194823\n",
            "Name: loan_status, dtype: float64\n",
            "##################################################\n",
            "5 years\n",
            "Fully Paid     0.807749\n",
            "Charged Off    0.192251\n",
            "Name: loan_status, dtype: float64\n",
            "##################################################\n",
            "1 year\n",
            "Fully Paid     0.800853\n",
            "Charged Off    0.199147\n",
            "Name: loan_status, dtype: float64\n",
            "##################################################\n",
            "nan\n",
            "Series([], Name: loan_status, dtype: float64)\n",
            "##################################################\n"
          ]
        }
      ]
    },
    {
      "cell_type": "code",
      "source": [
        "df.drop(\"emp_length\",axis=1,inplace=True)"
      ],
      "metadata": {
        "id": "UkF7VvL_qvWU"
      },
      "execution_count": null,
      "outputs": []
    },
    {
      "cell_type": "code",
      "metadata": {
        "colab": {
          "base_uri": "https://localhost:8080/"
        },
        "id": "KHylQw3p61wO",
        "outputId": "c2191c7d-c6b9-4a70-d796-bbf1b972b09d"
      },
      "source": [
        "for column in df.columns:\n",
        "    if df[column].isnull().sum() != 0:\n",
        "        missing = df[column].isnull().sum()\n",
        "        portion = (missing / df.shape[0]) * 100\n",
        "        print(f\"'{column}': number of missing values '{missing}' ==> '{portion:.3f}%'\")"
      ],
      "execution_count": null,
      "outputs": [
        {
          "output_type": "stream",
          "name": "stdout",
          "text": [
            "'mort_acc': number of missing values '37205' ==> '9.414%'\n"
          ]
        }
      ]
    },
    {
      "cell_type": "markdown",
      "metadata": {
        "id": "gEEnVsF1-7U_"
      },
      "source": [
        "\n",
        "\n",
        "*   replacing '*36 months*' with 36 and '*60 months*' with 60 in \"**term**\" column\n"
      ]
    },
    {
      "cell_type": "code",
      "metadata": {
        "id": "uifUIWMl_gXs",
        "colab": {
          "base_uri": "https://localhost:8080/"
        },
        "outputId": "47c68abe-b16d-4999-8d8c-8a29fe192b51"
      },
      "source": [
        "df.term.value_counts()"
      ],
      "execution_count": null,
      "outputs": [
        {
          "output_type": "execute_result",
          "data": {
            "text/plain": [
              " 36 months    301247\n",
              " 60 months     93972\n",
              "Name: term, dtype: int64"
            ]
          },
          "metadata": {},
          "execution_count": 12
        }
      ]
    },
    {
      "cell_type": "code",
      "metadata": {
        "id": "kpOQFM0s_ai8"
      },
      "source": [
        "df.term.replace({\" 36 months\":36,' 60 months':60},inplace=True)"
      ],
      "execution_count": null,
      "outputs": []
    },
    {
      "cell_type": "markdown",
      "metadata": {
        "id": "hFZfOEhXFDzy"
      },
      "source": [
        "* extract ZIP code from address"
      ]
    },
    {
      "cell_type": "code",
      "metadata": {
        "id": "hGqW7oMBFQDZ"
      },
      "source": [
        "zip_code=[]\n",
        "for zip in df['address']:\n",
        "  zip_code.append(zip[-5:])\n",
        "zip_code=pd.DataFrame(zip_code,columns=['zip_code'])"
      ],
      "execution_count": null,
      "outputs": []
    },
    {
      "cell_type": "code",
      "metadata": {
        "id": "X5sMNNHTFxSI"
      },
      "source": [
        "zip_code=zip_code.astype(float)\n"
      ],
      "execution_count": null,
      "outputs": []
    },
    {
      "cell_type": "code",
      "metadata": {
        "id": "-_CCw3xKJelM"
      },
      "source": [
        "df.reset_index(drop=True,inplace=True)"
      ],
      "execution_count": null,
      "outputs": []
    },
    {
      "cell_type": "code",
      "metadata": {
        "id": "rLN7UQh4KZfZ"
      },
      "source": [
        "df=df.join(zip_code)"
      ],
      "execution_count": null,
      "outputs": []
    },
    {
      "cell_type": "code",
      "metadata": {
        "id": "R8daK4raKiX7"
      },
      "source": [
        "df.drop('address',inplace=True,axis=1)"
      ],
      "execution_count": null,
      "outputs": []
    },
    {
      "cell_type": "code",
      "metadata": {
        "colab": {
          "base_uri": "https://localhost:8080/",
          "height": 313
        },
        "id": "UvbuVTKlK5Ea",
        "outputId": "6d810968-0d8d-4b4a-ccc9-baa685edea9a"
      },
      "source": [
        "df.head()"
      ],
      "execution_count": null,
      "outputs": [
        {
          "output_type": "execute_result",
          "data": {
            "text/html": [
              "<div>\n",
              "<style scoped>\n",
              "    .dataframe tbody tr th:only-of-type {\n",
              "        vertical-align: middle;\n",
              "    }\n",
              "\n",
              "    .dataframe tbody tr th {\n",
              "        vertical-align: top;\n",
              "    }\n",
              "\n",
              "    .dataframe thead th {\n",
              "        text-align: right;\n",
              "    }\n",
              "</style>\n",
              "<table border=\"1\" class=\"dataframe\">\n",
              "  <thead>\n",
              "    <tr style=\"text-align: right;\">\n",
              "      <th></th>\n",
              "      <th>loan_amnt</th>\n",
              "      <th>term</th>\n",
              "      <th>int_rate</th>\n",
              "      <th>installment</th>\n",
              "      <th>sub_grade</th>\n",
              "      <th>home_ownership</th>\n",
              "      <th>annual_inc</th>\n",
              "      <th>verification_status</th>\n",
              "      <th>issue_d</th>\n",
              "      <th>loan_status</th>\n",
              "      <th>purpose</th>\n",
              "      <th>dti</th>\n",
              "      <th>earliest_cr_line</th>\n",
              "      <th>open_acc</th>\n",
              "      <th>pub_rec</th>\n",
              "      <th>revol_bal</th>\n",
              "      <th>revol_util</th>\n",
              "      <th>total_acc</th>\n",
              "      <th>initial_list_status</th>\n",
              "      <th>application_type</th>\n",
              "      <th>mort_acc</th>\n",
              "      <th>pub_rec_bankruptcies</th>\n",
              "      <th>zip_code</th>\n",
              "    </tr>\n",
              "  </thead>\n",
              "  <tbody>\n",
              "    <tr>\n",
              "      <th>0</th>\n",
              "      <td>10000.0</td>\n",
              "      <td>36</td>\n",
              "      <td>11.44</td>\n",
              "      <td>329.48</td>\n",
              "      <td>B4</td>\n",
              "      <td>RENT</td>\n",
              "      <td>117000.0</td>\n",
              "      <td>Not Verified</td>\n",
              "      <td>Jan-2015</td>\n",
              "      <td>Fully Paid</td>\n",
              "      <td>vacation</td>\n",
              "      <td>26.24</td>\n",
              "      <td>Jun-1990</td>\n",
              "      <td>16.0</td>\n",
              "      <td>0.0</td>\n",
              "      <td>36369.0</td>\n",
              "      <td>41.8</td>\n",
              "      <td>25.0</td>\n",
              "      <td>w</td>\n",
              "      <td>INDIVIDUAL</td>\n",
              "      <td>0.0</td>\n",
              "      <td>0.0</td>\n",
              "      <td>22690.0</td>\n",
              "    </tr>\n",
              "    <tr>\n",
              "      <th>1</th>\n",
              "      <td>8000.0</td>\n",
              "      <td>36</td>\n",
              "      <td>11.99</td>\n",
              "      <td>265.68</td>\n",
              "      <td>B5</td>\n",
              "      <td>MORTGAGE</td>\n",
              "      <td>65000.0</td>\n",
              "      <td>Not Verified</td>\n",
              "      <td>Jan-2015</td>\n",
              "      <td>Fully Paid</td>\n",
              "      <td>debt_consolidation</td>\n",
              "      <td>22.05</td>\n",
              "      <td>Jul-2004</td>\n",
              "      <td>17.0</td>\n",
              "      <td>0.0</td>\n",
              "      <td>20131.0</td>\n",
              "      <td>53.3</td>\n",
              "      <td>27.0</td>\n",
              "      <td>f</td>\n",
              "      <td>INDIVIDUAL</td>\n",
              "      <td>3.0</td>\n",
              "      <td>0.0</td>\n",
              "      <td>5113.0</td>\n",
              "    </tr>\n",
              "    <tr>\n",
              "      <th>2</th>\n",
              "      <td>15600.0</td>\n",
              "      <td>36</td>\n",
              "      <td>10.49</td>\n",
              "      <td>506.97</td>\n",
              "      <td>B3</td>\n",
              "      <td>RENT</td>\n",
              "      <td>43057.0</td>\n",
              "      <td>Source Verified</td>\n",
              "      <td>Jan-2015</td>\n",
              "      <td>Fully Paid</td>\n",
              "      <td>credit_card</td>\n",
              "      <td>12.79</td>\n",
              "      <td>Aug-2007</td>\n",
              "      <td>13.0</td>\n",
              "      <td>0.0</td>\n",
              "      <td>11987.0</td>\n",
              "      <td>92.2</td>\n",
              "      <td>26.0</td>\n",
              "      <td>f</td>\n",
              "      <td>INDIVIDUAL</td>\n",
              "      <td>0.0</td>\n",
              "      <td>0.0</td>\n",
              "      <td>5113.0</td>\n",
              "    </tr>\n",
              "    <tr>\n",
              "      <th>3</th>\n",
              "      <td>7200.0</td>\n",
              "      <td>36</td>\n",
              "      <td>6.49</td>\n",
              "      <td>220.65</td>\n",
              "      <td>A2</td>\n",
              "      <td>RENT</td>\n",
              "      <td>54000.0</td>\n",
              "      <td>Not Verified</td>\n",
              "      <td>Nov-2014</td>\n",
              "      <td>Fully Paid</td>\n",
              "      <td>credit_card</td>\n",
              "      <td>2.60</td>\n",
              "      <td>Sep-2006</td>\n",
              "      <td>6.0</td>\n",
              "      <td>0.0</td>\n",
              "      <td>5472.0</td>\n",
              "      <td>21.5</td>\n",
              "      <td>13.0</td>\n",
              "      <td>f</td>\n",
              "      <td>INDIVIDUAL</td>\n",
              "      <td>0.0</td>\n",
              "      <td>0.0</td>\n",
              "      <td>813.0</td>\n",
              "    </tr>\n",
              "    <tr>\n",
              "      <th>4</th>\n",
              "      <td>24375.0</td>\n",
              "      <td>60</td>\n",
              "      <td>17.27</td>\n",
              "      <td>609.33</td>\n",
              "      <td>C5</td>\n",
              "      <td>MORTGAGE</td>\n",
              "      <td>55000.0</td>\n",
              "      <td>Verified</td>\n",
              "      <td>Apr-2013</td>\n",
              "      <td>Charged Off</td>\n",
              "      <td>credit_card</td>\n",
              "      <td>33.95</td>\n",
              "      <td>Mar-1999</td>\n",
              "      <td>13.0</td>\n",
              "      <td>0.0</td>\n",
              "      <td>24584.0</td>\n",
              "      <td>69.8</td>\n",
              "      <td>43.0</td>\n",
              "      <td>f</td>\n",
              "      <td>INDIVIDUAL</td>\n",
              "      <td>1.0</td>\n",
              "      <td>0.0</td>\n",
              "      <td>11650.0</td>\n",
              "    </tr>\n",
              "  </tbody>\n",
              "</table>\n",
              "</div>"
            ],
            "text/plain": [
              "   loan_amnt  term  int_rate  ...  mort_acc pub_rec_bankruptcies zip_code\n",
              "0    10000.0    36     11.44  ...       0.0                  0.0  22690.0\n",
              "1     8000.0    36     11.99  ...       3.0                  0.0   5113.0\n",
              "2    15600.0    36     10.49  ...       0.0                  0.0   5113.0\n",
              "3     7200.0    36      6.49  ...       0.0                  0.0    813.0\n",
              "4    24375.0    60     17.27  ...       1.0                  0.0  11650.0\n",
              "\n",
              "[5 rows x 23 columns]"
            ]
          },
          "metadata": {},
          "execution_count": 75
        }
      ]
    },
    {
      "cell_type": "markdown",
      "metadata": {
        "id": "sYMijGjGKhx6"
      },
      "source": [
        "##Datetime handling"
      ]
    },
    {
      "cell_type": "code",
      "metadata": {
        "colab": {
          "base_uri": "https://localhost:8080/"
        },
        "id": "RIRknmYk8REV",
        "outputId": "f90c5d98-6406-422a-d2cd-6a371bf3e2f5"
      },
      "source": [
        "df['issue_d'].value_counts()"
      ],
      "execution_count": null,
      "outputs": [
        {
          "output_type": "execute_result",
          "data": {
            "text/plain": [
              "Oct-2014    14838\n",
              "Jul-2014    12597\n",
              "Jan-2015    11701\n",
              "Dec-2013    10609\n",
              "Nov-2013    10492\n",
              "            ...  \n",
              "Jan-2008        3\n",
              "Dec-2007        2\n",
              "Nov-2007        1\n",
              "Oct-2007        1\n",
              "Aug-2007        1\n",
              "Name: issue_d, Length: 112, dtype: int64"
            ]
          },
          "metadata": {},
          "execution_count": 17
        }
      ]
    },
    {
      "cell_type": "code",
      "metadata": {
        "id": "PKaOk18xJPsr"
      },
      "source": [
        "df.drop(\"issue_d\",inplace=True,axis=1)"
      ],
      "execution_count": null,
      "outputs": []
    },
    {
      "cell_type": "code",
      "metadata": {
        "id": "05KBmOIaJt6t"
      },
      "source": [
        "df['earliest_cr_line_year']=pd.to_datetime(df['earliest_cr_line']).dt.year"
      ],
      "execution_count": null,
      "outputs": []
    },
    {
      "cell_type": "code",
      "metadata": {
        "id": "Kdi_akawJ10V"
      },
      "source": [
        "df.drop(\"earliest_cr_line\",inplace=True,axis=1)"
      ],
      "execution_count": null,
      "outputs": []
    },
    {
      "cell_type": "code",
      "metadata": {
        "colab": {
          "base_uri": "https://localhost:8080/",
          "height": 225
        },
        "id": "mE8G7aHBJ4qV",
        "outputId": "f81bfe77-46e9-4bff-e342-98d8ef79a3e1"
      },
      "source": [
        "df.head()"
      ],
      "execution_count": null,
      "outputs": [
        {
          "output_type": "execute_result",
          "data": {
            "text/html": [
              "<div>\n",
              "<style scoped>\n",
              "    .dataframe tbody tr th:only-of-type {\n",
              "        vertical-align: middle;\n",
              "    }\n",
              "\n",
              "    .dataframe tbody tr th {\n",
              "        vertical-align: top;\n",
              "    }\n",
              "\n",
              "    .dataframe thead th {\n",
              "        text-align: right;\n",
              "    }\n",
              "</style>\n",
              "<table border=\"1\" class=\"dataframe\">\n",
              "  <thead>\n",
              "    <tr style=\"text-align: right;\">\n",
              "      <th></th>\n",
              "      <th>loan_amnt</th>\n",
              "      <th>term</th>\n",
              "      <th>int_rate</th>\n",
              "      <th>installment</th>\n",
              "      <th>sub_grade</th>\n",
              "      <th>emp_length</th>\n",
              "      <th>home_ownership</th>\n",
              "      <th>annual_inc</th>\n",
              "      <th>verification_status</th>\n",
              "      <th>loan_status</th>\n",
              "      <th>purpose</th>\n",
              "      <th>dti</th>\n",
              "      <th>open_acc</th>\n",
              "      <th>pub_rec</th>\n",
              "      <th>revol_bal</th>\n",
              "      <th>revol_util</th>\n",
              "      <th>total_acc</th>\n",
              "      <th>initial_list_status</th>\n",
              "      <th>application_type</th>\n",
              "      <th>mort_acc</th>\n",
              "      <th>pub_rec_bankruptcies</th>\n",
              "      <th>zip_code</th>\n",
              "      <th>issue_d_month</th>\n",
              "      <th>issue_d_year</th>\n",
              "      <th>earliest_cr_line_month</th>\n",
              "      <th>earliest_cr_line_year</th>\n",
              "    </tr>\n",
              "  </thead>\n",
              "  <tbody>\n",
              "    <tr>\n",
              "      <th>0</th>\n",
              "      <td>10000.0</td>\n",
              "      <td>36</td>\n",
              "      <td>11.44</td>\n",
              "      <td>329.48</td>\n",
              "      <td>B4</td>\n",
              "      <td>10+ years</td>\n",
              "      <td>RENT</td>\n",
              "      <td>117000.0</td>\n",
              "      <td>Not Verified</td>\n",
              "      <td>Fully Paid</td>\n",
              "      <td>vacation</td>\n",
              "      <td>26.24</td>\n",
              "      <td>16.0</td>\n",
              "      <td>0.0</td>\n",
              "      <td>36369.0</td>\n",
              "      <td>41.8</td>\n",
              "      <td>25.0</td>\n",
              "      <td>w</td>\n",
              "      <td>INDIVIDUAL</td>\n",
              "      <td>0.0</td>\n",
              "      <td>0.0</td>\n",
              "      <td>22690.0</td>\n",
              "      <td>1</td>\n",
              "      <td>2015</td>\n",
              "      <td>6</td>\n",
              "      <td>1990</td>\n",
              "    </tr>\n",
              "    <tr>\n",
              "      <th>1</th>\n",
              "      <td>8000.0</td>\n",
              "      <td>36</td>\n",
              "      <td>11.99</td>\n",
              "      <td>265.68</td>\n",
              "      <td>B5</td>\n",
              "      <td>4 years</td>\n",
              "      <td>MORTGAGE</td>\n",
              "      <td>65000.0</td>\n",
              "      <td>Not Verified</td>\n",
              "      <td>Fully Paid</td>\n",
              "      <td>debt_consolidation</td>\n",
              "      <td>22.05</td>\n",
              "      <td>17.0</td>\n",
              "      <td>0.0</td>\n",
              "      <td>20131.0</td>\n",
              "      <td>53.3</td>\n",
              "      <td>27.0</td>\n",
              "      <td>f</td>\n",
              "      <td>INDIVIDUAL</td>\n",
              "      <td>3.0</td>\n",
              "      <td>0.0</td>\n",
              "      <td>5113.0</td>\n",
              "      <td>1</td>\n",
              "      <td>2015</td>\n",
              "      <td>7</td>\n",
              "      <td>2004</td>\n",
              "    </tr>\n",
              "    <tr>\n",
              "      <th>2</th>\n",
              "      <td>15600.0</td>\n",
              "      <td>36</td>\n",
              "      <td>10.49</td>\n",
              "      <td>506.97</td>\n",
              "      <td>B3</td>\n",
              "      <td>&lt; 1 year</td>\n",
              "      <td>RENT</td>\n",
              "      <td>43057.0</td>\n",
              "      <td>Source Verified</td>\n",
              "      <td>Fully Paid</td>\n",
              "      <td>credit_card</td>\n",
              "      <td>12.79</td>\n",
              "      <td>13.0</td>\n",
              "      <td>0.0</td>\n",
              "      <td>11987.0</td>\n",
              "      <td>92.2</td>\n",
              "      <td>26.0</td>\n",
              "      <td>f</td>\n",
              "      <td>INDIVIDUAL</td>\n",
              "      <td>0.0</td>\n",
              "      <td>0.0</td>\n",
              "      <td>5113.0</td>\n",
              "      <td>1</td>\n",
              "      <td>2015</td>\n",
              "      <td>8</td>\n",
              "      <td>2007</td>\n",
              "    </tr>\n",
              "    <tr>\n",
              "      <th>3</th>\n",
              "      <td>7200.0</td>\n",
              "      <td>36</td>\n",
              "      <td>6.49</td>\n",
              "      <td>220.65</td>\n",
              "      <td>A2</td>\n",
              "      <td>6 years</td>\n",
              "      <td>RENT</td>\n",
              "      <td>54000.0</td>\n",
              "      <td>Not Verified</td>\n",
              "      <td>Fully Paid</td>\n",
              "      <td>credit_card</td>\n",
              "      <td>2.60</td>\n",
              "      <td>6.0</td>\n",
              "      <td>0.0</td>\n",
              "      <td>5472.0</td>\n",
              "      <td>21.5</td>\n",
              "      <td>13.0</td>\n",
              "      <td>f</td>\n",
              "      <td>INDIVIDUAL</td>\n",
              "      <td>0.0</td>\n",
              "      <td>0.0</td>\n",
              "      <td>813.0</td>\n",
              "      <td>11</td>\n",
              "      <td>2014</td>\n",
              "      <td>9</td>\n",
              "      <td>2006</td>\n",
              "    </tr>\n",
              "    <tr>\n",
              "      <th>4</th>\n",
              "      <td>24375.0</td>\n",
              "      <td>60</td>\n",
              "      <td>17.27</td>\n",
              "      <td>609.33</td>\n",
              "      <td>C5</td>\n",
              "      <td>9 years</td>\n",
              "      <td>MORTGAGE</td>\n",
              "      <td>55000.0</td>\n",
              "      <td>Verified</td>\n",
              "      <td>Charged Off</td>\n",
              "      <td>credit_card</td>\n",
              "      <td>33.95</td>\n",
              "      <td>13.0</td>\n",
              "      <td>0.0</td>\n",
              "      <td>24584.0</td>\n",
              "      <td>69.8</td>\n",
              "      <td>43.0</td>\n",
              "      <td>f</td>\n",
              "      <td>INDIVIDUAL</td>\n",
              "      <td>1.0</td>\n",
              "      <td>0.0</td>\n",
              "      <td>11650.0</td>\n",
              "      <td>4</td>\n",
              "      <td>2013</td>\n",
              "      <td>3</td>\n",
              "      <td>1999</td>\n",
              "    </tr>\n",
              "  </tbody>\n",
              "</table>\n",
              "</div>"
            ],
            "text/plain": [
              "   loan_amnt  term  ...  earliest_cr_line_month  earliest_cr_line_year\n",
              "0    10000.0    36  ...                       6                   1990\n",
              "1     8000.0    36  ...                       7                   2004\n",
              "2    15600.0    36  ...                       8                   2007\n",
              "3     7200.0    36  ...                       9                   2006\n",
              "4    24375.0    60  ...                       3                   1999\n",
              "\n",
              "[5 rows x 26 columns]"
            ]
          },
          "metadata": {},
          "execution_count": 25
        }
      ]
    },
    {
      "cell_type": "markdown",
      "metadata": {
        "id": "oafZ_-NUg3vj"
      },
      "source": [
        "select data type"
      ]
    },
    {
      "cell_type": "code",
      "metadata": {
        "id": "OqgEuXG3my8Z"
      },
      "source": [
        "num_data=df.select_dtypes(exclude=\"object\")"
      ],
      "execution_count": null,
      "outputs": []
    },
    {
      "cell_type": "code",
      "metadata": {
        "colab": {
          "base_uri": "https://localhost:8080/"
        },
        "id": "3o6nnm_-n0Om",
        "outputId": "c5884070-2f89-4df9-b3d2-873504bc7e3b"
      },
      "source": [
        "num_data.info()"
      ],
      "execution_count": null,
      "outputs": [
        {
          "output_type": "stream",
          "name": "stdout",
          "text": [
            "<class 'pandas.core.frame.DataFrame'>\n",
            "RangeIndex: 395219 entries, 0 to 395218\n",
            "Data columns (total 18 columns):\n",
            " #   Column                  Non-Null Count   Dtype  \n",
            "---  ------                  --------------   -----  \n",
            " 0   loan_amnt               395219 non-null  float64\n",
            " 1   term                    395219 non-null  int64  \n",
            " 2   int_rate                395219 non-null  float64\n",
            " 3   installment             395219 non-null  float64\n",
            " 4   annual_inc              395219 non-null  float64\n",
            " 5   dti                     395219 non-null  float64\n",
            " 6   open_acc                395219 non-null  float64\n",
            " 7   pub_rec                 395219 non-null  float64\n",
            " 8   revol_bal               395219 non-null  float64\n",
            " 9   revol_util              395219 non-null  float64\n",
            " 10  total_acc               395219 non-null  float64\n",
            " 11  mort_acc                358014 non-null  float64\n",
            " 12  pub_rec_bankruptcies    395219 non-null  float64\n",
            " 13  zip_code                395219 non-null  float64\n",
            " 14  issue_d_month           395219 non-null  int64  \n",
            " 15  issue_d_year            395219 non-null  int64  \n",
            " 16  earliest_cr_line_month  395219 non-null  int64  \n",
            " 17  earliest_cr_line_year   395219 non-null  int64  \n",
            "dtypes: float64(13), int64(5)\n",
            "memory usage: 54.3 MB\n"
          ]
        }
      ]
    },
    {
      "cell_type": "code",
      "metadata": {
        "id": "t6bH2z_xniH4"
      },
      "source": [
        "object_data=df.select_dtypes(include=\"object\").drop('loan_status',axis=1)"
      ],
      "execution_count": null,
      "outputs": []
    },
    {
      "cell_type": "code",
      "metadata": {
        "colab": {
          "base_uri": "https://localhost:8080/"
        },
        "id": "0b22reGOnowU",
        "outputId": "91d4aadb-e6ad-4053-a3e9-31f1155acf89"
      },
      "source": [
        "object_data.info()"
      ],
      "execution_count": null,
      "outputs": [
        {
          "output_type": "stream",
          "name": "stdout",
          "text": [
            "<class 'pandas.core.frame.DataFrame'>\n",
            "RangeIndex: 395219 entries, 0 to 395218\n",
            "Data columns (total 7 columns):\n",
            " #   Column               Non-Null Count   Dtype \n",
            "---  ------               --------------   ----- \n",
            " 0   sub_grade            395219 non-null  object\n",
            " 1   emp_length           395219 non-null  object\n",
            " 2   home_ownership       395219 non-null  object\n",
            " 3   verification_status  395219 non-null  object\n",
            " 4   purpose              395219 non-null  object\n",
            " 5   initial_list_status  395219 non-null  object\n",
            " 6   application_type     395219 non-null  object\n",
            "dtypes: object(7)\n",
            "memory usage: 21.1+ MB\n"
          ]
        }
      ]
    },
    {
      "cell_type": "code",
      "metadata": {
        "id": "JZxNYrbZ3L4k"
      },
      "source": [
        "labels=df.loan_status"
      ],
      "execution_count": null,
      "outputs": []
    },
    {
      "cell_type": "code",
      "metadata": {
        "id": "CAZbYc193TjG"
      },
      "source": [
        "labels.reset_index(drop=True,inplace=True)"
      ],
      "execution_count": null,
      "outputs": []
    },
    {
      "cell_type": "code",
      "metadata": {
        "colab": {
          "base_uri": "https://localhost:8080/",
          "height": 226
        },
        "id": "TFMGgiypKyL_",
        "outputId": "f275f058-9f55-419c-cae7-7d770b1263b0"
      },
      "source": [
        "num_data.head()"
      ],
      "execution_count": null,
      "outputs": [
        {
          "output_type": "execute_result",
          "data": {
            "text/html": [
              "<div>\n",
              "<style scoped>\n",
              "    .dataframe tbody tr th:only-of-type {\n",
              "        vertical-align: middle;\n",
              "    }\n",
              "\n",
              "    .dataframe tbody tr th {\n",
              "        vertical-align: top;\n",
              "    }\n",
              "\n",
              "    .dataframe thead th {\n",
              "        text-align: right;\n",
              "    }\n",
              "</style>\n",
              "<table border=\"1\" class=\"dataframe\">\n",
              "  <thead>\n",
              "    <tr style=\"text-align: right;\">\n",
              "      <th></th>\n",
              "      <th>loan_amnt</th>\n",
              "      <th>term</th>\n",
              "      <th>int_rate</th>\n",
              "      <th>installment</th>\n",
              "      <th>annual_inc</th>\n",
              "      <th>dti</th>\n",
              "      <th>open_acc</th>\n",
              "      <th>pub_rec</th>\n",
              "      <th>revol_bal</th>\n",
              "      <th>revol_util</th>\n",
              "      <th>total_acc</th>\n",
              "      <th>mort_acc</th>\n",
              "      <th>pub_rec_bankruptcies</th>\n",
              "      <th>zip_code</th>\n",
              "      <th>earliest_cr_line_year</th>\n",
              "    </tr>\n",
              "  </thead>\n",
              "  <tbody>\n",
              "    <tr>\n",
              "      <th>0</th>\n",
              "      <td>10000.0</td>\n",
              "      <td>36</td>\n",
              "      <td>11.44</td>\n",
              "      <td>329.48</td>\n",
              "      <td>117000.0</td>\n",
              "      <td>26.24</td>\n",
              "      <td>16.0</td>\n",
              "      <td>0.0</td>\n",
              "      <td>36369.0</td>\n",
              "      <td>41.8</td>\n",
              "      <td>25.0</td>\n",
              "      <td>0.0</td>\n",
              "      <td>0.0</td>\n",
              "      <td>22690.0</td>\n",
              "      <td>1990</td>\n",
              "    </tr>\n",
              "    <tr>\n",
              "      <th>1</th>\n",
              "      <td>8000.0</td>\n",
              "      <td>36</td>\n",
              "      <td>11.99</td>\n",
              "      <td>265.68</td>\n",
              "      <td>65000.0</td>\n",
              "      <td>22.05</td>\n",
              "      <td>17.0</td>\n",
              "      <td>0.0</td>\n",
              "      <td>20131.0</td>\n",
              "      <td>53.3</td>\n",
              "      <td>27.0</td>\n",
              "      <td>3.0</td>\n",
              "      <td>0.0</td>\n",
              "      <td>5113.0</td>\n",
              "      <td>2004</td>\n",
              "    </tr>\n",
              "    <tr>\n",
              "      <th>2</th>\n",
              "      <td>15600.0</td>\n",
              "      <td>36</td>\n",
              "      <td>10.49</td>\n",
              "      <td>506.97</td>\n",
              "      <td>43057.0</td>\n",
              "      <td>12.79</td>\n",
              "      <td>13.0</td>\n",
              "      <td>0.0</td>\n",
              "      <td>11987.0</td>\n",
              "      <td>92.2</td>\n",
              "      <td>26.0</td>\n",
              "      <td>0.0</td>\n",
              "      <td>0.0</td>\n",
              "      <td>5113.0</td>\n",
              "      <td>2007</td>\n",
              "    </tr>\n",
              "    <tr>\n",
              "      <th>3</th>\n",
              "      <td>7200.0</td>\n",
              "      <td>36</td>\n",
              "      <td>6.49</td>\n",
              "      <td>220.65</td>\n",
              "      <td>54000.0</td>\n",
              "      <td>2.60</td>\n",
              "      <td>6.0</td>\n",
              "      <td>0.0</td>\n",
              "      <td>5472.0</td>\n",
              "      <td>21.5</td>\n",
              "      <td>13.0</td>\n",
              "      <td>0.0</td>\n",
              "      <td>0.0</td>\n",
              "      <td>813.0</td>\n",
              "      <td>2006</td>\n",
              "    </tr>\n",
              "    <tr>\n",
              "      <th>4</th>\n",
              "      <td>24375.0</td>\n",
              "      <td>60</td>\n",
              "      <td>17.27</td>\n",
              "      <td>609.33</td>\n",
              "      <td>55000.0</td>\n",
              "      <td>33.95</td>\n",
              "      <td>13.0</td>\n",
              "      <td>0.0</td>\n",
              "      <td>24584.0</td>\n",
              "      <td>69.8</td>\n",
              "      <td>43.0</td>\n",
              "      <td>1.0</td>\n",
              "      <td>0.0</td>\n",
              "      <td>11650.0</td>\n",
              "      <td>1999</td>\n",
              "    </tr>\n",
              "  </tbody>\n",
              "</table>\n",
              "</div>"
            ],
            "text/plain": [
              "   loan_amnt  term  ...  zip_code  earliest_cr_line_year\n",
              "0    10000.0    36  ...   22690.0                   1990\n",
              "1     8000.0    36  ...    5113.0                   2004\n",
              "2    15600.0    36  ...    5113.0                   2007\n",
              "3     7200.0    36  ...     813.0                   2006\n",
              "4    24375.0    60  ...   11650.0                   1999\n",
              "\n",
              "[5 rows x 15 columns]"
            ]
          },
          "metadata": {},
          "execution_count": 18
        }
      ]
    },
    {
      "cell_type": "code",
      "metadata": {
        "colab": {
          "base_uri": "https://localhost:8080/",
          "height": 206
        },
        "id": "tiH_TC700Opx",
        "outputId": "85b528ff-d37c-4378-8223-3e38c3ba0dfd"
      },
      "source": [
        "object_data.head()"
      ],
      "execution_count": null,
      "outputs": [
        {
          "output_type": "execute_result",
          "data": {
            "text/html": [
              "<div>\n",
              "<style scoped>\n",
              "    .dataframe tbody tr th:only-of-type {\n",
              "        vertical-align: middle;\n",
              "    }\n",
              "\n",
              "    .dataframe tbody tr th {\n",
              "        vertical-align: top;\n",
              "    }\n",
              "\n",
              "    .dataframe thead th {\n",
              "        text-align: right;\n",
              "    }\n",
              "</style>\n",
              "<table border=\"1\" class=\"dataframe\">\n",
              "  <thead>\n",
              "    <tr style=\"text-align: right;\">\n",
              "      <th></th>\n",
              "      <th>sub_grade</th>\n",
              "      <th>home_ownership</th>\n",
              "      <th>verification_status</th>\n",
              "      <th>purpose</th>\n",
              "      <th>earliest_cr_line</th>\n",
              "      <th>initial_list_status</th>\n",
              "      <th>application_type</th>\n",
              "    </tr>\n",
              "  </thead>\n",
              "  <tbody>\n",
              "    <tr>\n",
              "      <th>0</th>\n",
              "      <td>B4</td>\n",
              "      <td>RENT</td>\n",
              "      <td>Not Verified</td>\n",
              "      <td>vacation</td>\n",
              "      <td>Jun-1990</td>\n",
              "      <td>w</td>\n",
              "      <td>INDIVIDUAL</td>\n",
              "    </tr>\n",
              "    <tr>\n",
              "      <th>1</th>\n",
              "      <td>B5</td>\n",
              "      <td>MORTGAGE</td>\n",
              "      <td>Not Verified</td>\n",
              "      <td>debt_consolidation</td>\n",
              "      <td>Jul-2004</td>\n",
              "      <td>f</td>\n",
              "      <td>INDIVIDUAL</td>\n",
              "    </tr>\n",
              "    <tr>\n",
              "      <th>2</th>\n",
              "      <td>B3</td>\n",
              "      <td>RENT</td>\n",
              "      <td>Source Verified</td>\n",
              "      <td>credit_card</td>\n",
              "      <td>Aug-2007</td>\n",
              "      <td>f</td>\n",
              "      <td>INDIVIDUAL</td>\n",
              "    </tr>\n",
              "    <tr>\n",
              "      <th>3</th>\n",
              "      <td>A2</td>\n",
              "      <td>RENT</td>\n",
              "      <td>Not Verified</td>\n",
              "      <td>credit_card</td>\n",
              "      <td>Sep-2006</td>\n",
              "      <td>f</td>\n",
              "      <td>INDIVIDUAL</td>\n",
              "    </tr>\n",
              "    <tr>\n",
              "      <th>4</th>\n",
              "      <td>C5</td>\n",
              "      <td>MORTGAGE</td>\n",
              "      <td>Verified</td>\n",
              "      <td>credit_card</td>\n",
              "      <td>Mar-1999</td>\n",
              "      <td>f</td>\n",
              "      <td>INDIVIDUAL</td>\n",
              "    </tr>\n",
              "  </tbody>\n",
              "</table>\n",
              "</div>"
            ],
            "text/plain": [
              "  sub_grade home_ownership  ... initial_list_status application_type\n",
              "0        B4           RENT  ...                   w       INDIVIDUAL\n",
              "1        B5       MORTGAGE  ...                   f       INDIVIDUAL\n",
              "2        B3           RENT  ...                   f       INDIVIDUAL\n",
              "3        A2           RENT  ...                   f       INDIVIDUAL\n",
              "4        C5       MORTGAGE  ...                   f       INDIVIDUAL\n",
              "\n",
              "[5 rows x 7 columns]"
            ]
          },
          "metadata": {},
          "execution_count": 19
        }
      ]
    },
    {
      "cell_type": "markdown",
      "metadata": {
        "id": "yBxsH6UIV4Ei"
      },
      "source": [
        "##full_pipline"
      ]
    },
    {
      "cell_type": "code",
      "metadata": {
        "id": "IlE16FkfK6Je"
      },
      "source": [
        "from sklearn.pipeline import Pipeline\n",
        "from sklearn.compose import ColumnTransformer\n",
        "from sklearn.impute import SimpleImputer\n",
        "from sklearn.preprocessing import OneHotEncoder\n",
        "from sklearn.preprocessing import OrdinalEncoder\n",
        "from sklearn.preprocessing import StandardScaler\n",
        "from sklearn.preprocessing import MinMaxScaler\n"
      ],
      "execution_count": null,
      "outputs": []
    },
    {
      "cell_type": "code",
      "metadata": {
        "id": "39USdmihQlkj"
      },
      "source": [
        "num_pipline=Pipeline([('imputer',SimpleImputer(strategy='median',)),\n",
        "                   ('standardscaler',StandardScaler())])\n",
        "\n",
        "col_transformer=ColumnTransformer([('pipline',num_pipline,num_data.columns),\n",
        "                           ('onehotencoder',OneHotEncoder(),['home_ownership','verification_status','purpose','initial_list_status','application_type']),\n",
        "                            ('oredinalencoder',OrdinalEncoder(categories=[list(df.sub_grade.sort_values().unique())]),['sub_grade'])\n",
        "                            ])\n",
        "data_prepared=col_transformer.fit_transform(df)"
      ],
      "execution_count": null,
      "outputs": []
    },
    {
      "cell_type": "code",
      "metadata": {
        "colab": {
          "base_uri": "https://localhost:8080/"
        },
        "id": "vOoIY9FH1t4n",
        "outputId": "3719c6f9-9b7a-46d1-ad3b-6798381031b2"
      },
      "source": [
        "data_prepared.shape"
      ],
      "execution_count": null,
      "outputs": [
        {
          "output_type": "execute_result",
          "data": {
            "text/plain": [
              "(395219, 44)"
            ]
          },
          "metadata": {},
          "execution_count": 22
        }
      ]
    },
    {
      "cell_type": "code",
      "metadata": {
        "id": "UzSuGF8IWTi-",
        "colab": {
          "base_uri": "https://localhost:8080/"
        },
        "outputId": "145bedf0-ca8e-4a89-e98e-29e582cb8952"
      },
      "source": [
        "col_names =list(num_data.columns) +list(col_transformer.transformers_[1][1].get_feature_names())+['sub_grade']"
      ],
      "execution_count": null,
      "outputs": [
        {
          "output_type": "stream",
          "name": "stderr",
          "text": [
            "/usr/local/lib/python3.7/dist-packages/sklearn/utils/deprecation.py:87: FutureWarning: Function get_feature_names is deprecated; get_feature_names is deprecated in 1.0 and will be removed in 1.2. Please use get_feature_names_out instead.\n",
            "  warnings.warn(msg, category=FutureWarning)\n"
          ]
        }
      ]
    },
    {
      "cell_type": "code",
      "metadata": {
        "id": "XAAX-8Azd-ky"
      },
      "source": [
        "fulldata_prepared=pd.DataFrame(data_prepared,columns=col_names)"
      ],
      "execution_count": null,
      "outputs": []
    },
    {
      "cell_type": "code",
      "metadata": {
        "colab": {
          "base_uri": "https://localhost:8080/"
        },
        "id": "rH8rc98Pd-qm",
        "outputId": "293eadc5-5117-4cd4-917e-1f8284f0509b"
      },
      "source": [
        "fulldata_prepared.info()"
      ],
      "execution_count": null,
      "outputs": [
        {
          "output_type": "stream",
          "name": "stdout",
          "text": [
            "<class 'pandas.core.frame.DataFrame'>\n",
            "RangeIndex: 395219 entries, 0 to 395218\n",
            "Data columns (total 44 columns):\n",
            " #   Column                 Non-Null Count   Dtype  \n",
            "---  ------                 --------------   -----  \n",
            " 0   loan_amnt              395219 non-null  float64\n",
            " 1   term                   395219 non-null  float64\n",
            " 2   int_rate               395219 non-null  float64\n",
            " 3   installment            395219 non-null  float64\n",
            " 4   annual_inc             395219 non-null  float64\n",
            " 5   dti                    395219 non-null  float64\n",
            " 6   open_acc               395219 non-null  float64\n",
            " 7   pub_rec                395219 non-null  float64\n",
            " 8   revol_bal              395219 non-null  float64\n",
            " 9   revol_util             395219 non-null  float64\n",
            " 10  total_acc              395219 non-null  float64\n",
            " 11  mort_acc               395219 non-null  float64\n",
            " 12  pub_rec_bankruptcies   395219 non-null  float64\n",
            " 13  zip_code               395219 non-null  float64\n",
            " 14  earliest_cr_line_year  395219 non-null  float64\n",
            " 15  x0_ANY                 395219 non-null  float64\n",
            " 16  x0_MORTGAGE            395219 non-null  float64\n",
            " 17  x0_NONE                395219 non-null  float64\n",
            " 18  x0_OTHER               395219 non-null  float64\n",
            " 19  x0_OWN                 395219 non-null  float64\n",
            " 20  x0_RENT                395219 non-null  float64\n",
            " 21  x1_Not Verified        395219 non-null  float64\n",
            " 22  x1_Source Verified     395219 non-null  float64\n",
            " 23  x1_Verified            395219 non-null  float64\n",
            " 24  x2_car                 395219 non-null  float64\n",
            " 25  x2_credit_card         395219 non-null  float64\n",
            " 26  x2_debt_consolidation  395219 non-null  float64\n",
            " 27  x2_educational         395219 non-null  float64\n",
            " 28  x2_home_improvement    395219 non-null  float64\n",
            " 29  x2_house               395219 non-null  float64\n",
            " 30  x2_major_purchase      395219 non-null  float64\n",
            " 31  x2_medical             395219 non-null  float64\n",
            " 32  x2_moving              395219 non-null  float64\n",
            " 33  x2_other               395219 non-null  float64\n",
            " 34  x2_renewable_energy    395219 non-null  float64\n",
            " 35  x2_small_business      395219 non-null  float64\n",
            " 36  x2_vacation            395219 non-null  float64\n",
            " 37  x2_wedding             395219 non-null  float64\n",
            " 38  x3_f                   395219 non-null  float64\n",
            " 39  x3_w                   395219 non-null  float64\n",
            " 40  x4_DIRECT_PAY          395219 non-null  float64\n",
            " 41  x4_INDIVIDUAL          395219 non-null  float64\n",
            " 42  x4_JOINT               395219 non-null  float64\n",
            " 43  sub_grade              395219 non-null  float64\n",
            "dtypes: float64(44)\n",
            "memory usage: 132.7 MB\n"
          ]
        }
      ]
    },
    {
      "cell_type": "code",
      "source": [
        "fulldata_prepared.head()"
      ],
      "metadata": {
        "colab": {
          "base_uri": "https://localhost:8080/",
          "height": 244
        },
        "id": "7pUgNcwehBD3",
        "outputId": "e1cf5057-913e-449b-95b6-30231873ff4b"
      },
      "execution_count": null,
      "outputs": [
        {
          "output_type": "execute_result",
          "data": {
            "text/html": [
              "<div>\n",
              "<style scoped>\n",
              "    .dataframe tbody tr th:only-of-type {\n",
              "        vertical-align: middle;\n",
              "    }\n",
              "\n",
              "    .dataframe tbody tr th {\n",
              "        vertical-align: top;\n",
              "    }\n",
              "\n",
              "    .dataframe thead th {\n",
              "        text-align: right;\n",
              "    }\n",
              "</style>\n",
              "<table border=\"1\" class=\"dataframe\">\n",
              "  <thead>\n",
              "    <tr style=\"text-align: right;\">\n",
              "      <th></th>\n",
              "      <th>loan_amnt</th>\n",
              "      <th>term</th>\n",
              "      <th>int_rate</th>\n",
              "      <th>installment</th>\n",
              "      <th>annual_inc</th>\n",
              "      <th>dti</th>\n",
              "      <th>open_acc</th>\n",
              "      <th>pub_rec</th>\n",
              "      <th>revol_bal</th>\n",
              "      <th>revol_util</th>\n",
              "      <th>total_acc</th>\n",
              "      <th>mort_acc</th>\n",
              "      <th>pub_rec_bankruptcies</th>\n",
              "      <th>zip_code</th>\n",
              "      <th>earliest_cr_line_year</th>\n",
              "      <th>x0_ANY</th>\n",
              "      <th>x0_MORTGAGE</th>\n",
              "      <th>x0_NONE</th>\n",
              "      <th>x0_OTHER</th>\n",
              "      <th>x0_OWN</th>\n",
              "      <th>x0_RENT</th>\n",
              "      <th>x1_Not Verified</th>\n",
              "      <th>x1_Source Verified</th>\n",
              "      <th>x1_Verified</th>\n",
              "      <th>x2_car</th>\n",
              "      <th>x2_credit_card</th>\n",
              "      <th>x2_debt_consolidation</th>\n",
              "      <th>x2_educational</th>\n",
              "      <th>x2_home_improvement</th>\n",
              "      <th>x2_house</th>\n",
              "      <th>x2_major_purchase</th>\n",
              "      <th>x2_medical</th>\n",
              "      <th>x2_moving</th>\n",
              "      <th>x2_other</th>\n",
              "      <th>x2_renewable_energy</th>\n",
              "      <th>x2_small_business</th>\n",
              "      <th>x2_vacation</th>\n",
              "      <th>x2_wedding</th>\n",
              "      <th>x3_f</th>\n",
              "      <th>x3_w</th>\n",
              "      <th>x4_DIRECT_PAY</th>\n",
              "      <th>x4_INDIVIDUAL</th>\n",
              "      <th>x4_JOINT</th>\n",
              "      <th>sub_grade</th>\n",
              "    </tr>\n",
              "  </thead>\n",
              "  <tbody>\n",
              "    <tr>\n",
              "      <th>0</th>\n",
              "      <td>-0.493244</td>\n",
              "      <td>-0.558519</td>\n",
              "      <td>-0.492315</td>\n",
              "      <td>-0.409211</td>\n",
              "      <td>0.695299</td>\n",
              "      <td>0.490734</td>\n",
              "      <td>0.911704</td>\n",
              "      <td>-0.336061</td>\n",
              "      <td>0.996750</td>\n",
              "      <td>-0.491356</td>\n",
              "      <td>-0.035885</td>\n",
              "      <td>-0.844087</td>\n",
              "      <td>-0.341655</td>\n",
              "      <td>-0.441706</td>\n",
              "      <td>-1.092043</td>\n",
              "      <td>0.0</td>\n",
              "      <td>0.0</td>\n",
              "      <td>0.0</td>\n",
              "      <td>0.0</td>\n",
              "      <td>0.0</td>\n",
              "      <td>1.0</td>\n",
              "      <td>1.0</td>\n",
              "      <td>0.0</td>\n",
              "      <td>0.0</td>\n",
              "      <td>0.0</td>\n",
              "      <td>0.0</td>\n",
              "      <td>0.0</td>\n",
              "      <td>0.0</td>\n",
              "      <td>0.0</td>\n",
              "      <td>0.0</td>\n",
              "      <td>0.0</td>\n",
              "      <td>0.0</td>\n",
              "      <td>0.0</td>\n",
              "      <td>0.0</td>\n",
              "      <td>0.0</td>\n",
              "      <td>0.0</td>\n",
              "      <td>1.0</td>\n",
              "      <td>0.0</td>\n",
              "      <td>0.0</td>\n",
              "      <td>1.0</td>\n",
              "      <td>0.0</td>\n",
              "      <td>1.0</td>\n",
              "      <td>0.0</td>\n",
              "      <td>8.0</td>\n",
              "    </tr>\n",
              "    <tr>\n",
              "      <th>1</th>\n",
              "      <td>-0.732563</td>\n",
              "      <td>-0.558519</td>\n",
              "      <td>-0.369353</td>\n",
              "      <td>-0.663698</td>\n",
              "      <td>-0.149444</td>\n",
              "      <td>0.258378</td>\n",
              "      <td>1.106450</td>\n",
              "      <td>-0.336061</td>\n",
              "      <td>0.207894</td>\n",
              "      <td>-0.020817</td>\n",
              "      <td>0.132390</td>\n",
              "      <td>0.613595</td>\n",
              "      <td>-0.341655</td>\n",
              "      <td>-1.128149</td>\n",
              "      <td>0.852667</td>\n",
              "      <td>0.0</td>\n",
              "      <td>1.0</td>\n",
              "      <td>0.0</td>\n",
              "      <td>0.0</td>\n",
              "      <td>0.0</td>\n",
              "      <td>0.0</td>\n",
              "      <td>1.0</td>\n",
              "      <td>0.0</td>\n",
              "      <td>0.0</td>\n",
              "      <td>0.0</td>\n",
              "      <td>0.0</td>\n",
              "      <td>1.0</td>\n",
              "      <td>0.0</td>\n",
              "      <td>0.0</td>\n",
              "      <td>0.0</td>\n",
              "      <td>0.0</td>\n",
              "      <td>0.0</td>\n",
              "      <td>0.0</td>\n",
              "      <td>0.0</td>\n",
              "      <td>0.0</td>\n",
              "      <td>0.0</td>\n",
              "      <td>0.0</td>\n",
              "      <td>0.0</td>\n",
              "      <td>1.0</td>\n",
              "      <td>0.0</td>\n",
              "      <td>0.0</td>\n",
              "      <td>1.0</td>\n",
              "      <td>0.0</td>\n",
              "      <td>9.0</td>\n",
              "    </tr>\n",
              "    <tr>\n",
              "      <th>2</th>\n",
              "      <td>0.176849</td>\n",
              "      <td>-0.558519</td>\n",
              "      <td>-0.704703</td>\n",
              "      <td>0.298768</td>\n",
              "      <td>-0.505910</td>\n",
              "      <td>-0.255135</td>\n",
              "      <td>0.327466</td>\n",
              "      <td>-0.336061</td>\n",
              "      <td>-0.187748</td>\n",
              "      <td>1.570832</td>\n",
              "      <td>0.048252</td>\n",
              "      <td>-0.844087</td>\n",
              "      <td>-0.341655</td>\n",
              "      <td>-1.128149</td>\n",
              "      <td>1.269390</td>\n",
              "      <td>0.0</td>\n",
              "      <td>0.0</td>\n",
              "      <td>0.0</td>\n",
              "      <td>0.0</td>\n",
              "      <td>0.0</td>\n",
              "      <td>1.0</td>\n",
              "      <td>0.0</td>\n",
              "      <td>1.0</td>\n",
              "      <td>0.0</td>\n",
              "      <td>0.0</td>\n",
              "      <td>1.0</td>\n",
              "      <td>0.0</td>\n",
              "      <td>0.0</td>\n",
              "      <td>0.0</td>\n",
              "      <td>0.0</td>\n",
              "      <td>0.0</td>\n",
              "      <td>0.0</td>\n",
              "      <td>0.0</td>\n",
              "      <td>0.0</td>\n",
              "      <td>0.0</td>\n",
              "      <td>0.0</td>\n",
              "      <td>0.0</td>\n",
              "      <td>0.0</td>\n",
              "      <td>1.0</td>\n",
              "      <td>0.0</td>\n",
              "      <td>0.0</td>\n",
              "      <td>1.0</td>\n",
              "      <td>0.0</td>\n",
              "      <td>7.0</td>\n",
              "    </tr>\n",
              "    <tr>\n",
              "      <th>3</th>\n",
              "      <td>-0.828291</td>\n",
              "      <td>-0.558519</td>\n",
              "      <td>-1.598970</td>\n",
              "      <td>-0.843315</td>\n",
              "      <td>-0.328140</td>\n",
              "      <td>-0.820220</td>\n",
              "      <td>-1.035755</td>\n",
              "      <td>-0.336061</td>\n",
              "      <td>-0.504252</td>\n",
              "      <td>-1.321959</td>\n",
              "      <td>-1.045535</td>\n",
              "      <td>-0.844087</td>\n",
              "      <td>-0.341655</td>\n",
              "      <td>-1.296079</td>\n",
              "      <td>1.130482</td>\n",
              "      <td>0.0</td>\n",
              "      <td>0.0</td>\n",
              "      <td>0.0</td>\n",
              "      <td>0.0</td>\n",
              "      <td>0.0</td>\n",
              "      <td>1.0</td>\n",
              "      <td>1.0</td>\n",
              "      <td>0.0</td>\n",
              "      <td>0.0</td>\n",
              "      <td>0.0</td>\n",
              "      <td>1.0</td>\n",
              "      <td>0.0</td>\n",
              "      <td>0.0</td>\n",
              "      <td>0.0</td>\n",
              "      <td>0.0</td>\n",
              "      <td>0.0</td>\n",
              "      <td>0.0</td>\n",
              "      <td>0.0</td>\n",
              "      <td>0.0</td>\n",
              "      <td>0.0</td>\n",
              "      <td>0.0</td>\n",
              "      <td>0.0</td>\n",
              "      <td>0.0</td>\n",
              "      <td>1.0</td>\n",
              "      <td>0.0</td>\n",
              "      <td>0.0</td>\n",
              "      <td>1.0</td>\n",
              "      <td>0.0</td>\n",
              "      <td>1.0</td>\n",
              "    </tr>\n",
              "    <tr>\n",
              "      <th>4</th>\n",
              "      <td>1.226862</td>\n",
              "      <td>1.790450</td>\n",
              "      <td>0.811079</td>\n",
              "      <td>0.707065</td>\n",
              "      <td>-0.311895</td>\n",
              "      <td>0.918291</td>\n",
              "      <td>0.327466</td>\n",
              "      <td>-0.336061</td>\n",
              "      <td>0.424225</td>\n",
              "      <td>0.654304</td>\n",
              "      <td>1.478590</td>\n",
              "      <td>-0.358193</td>\n",
              "      <td>-0.341655</td>\n",
              "      <td>-0.872857</td>\n",
              "      <td>0.158128</td>\n",
              "      <td>0.0</td>\n",
              "      <td>1.0</td>\n",
              "      <td>0.0</td>\n",
              "      <td>0.0</td>\n",
              "      <td>0.0</td>\n",
              "      <td>0.0</td>\n",
              "      <td>0.0</td>\n",
              "      <td>0.0</td>\n",
              "      <td>1.0</td>\n",
              "      <td>0.0</td>\n",
              "      <td>1.0</td>\n",
              "      <td>0.0</td>\n",
              "      <td>0.0</td>\n",
              "      <td>0.0</td>\n",
              "      <td>0.0</td>\n",
              "      <td>0.0</td>\n",
              "      <td>0.0</td>\n",
              "      <td>0.0</td>\n",
              "      <td>0.0</td>\n",
              "      <td>0.0</td>\n",
              "      <td>0.0</td>\n",
              "      <td>0.0</td>\n",
              "      <td>0.0</td>\n",
              "      <td>1.0</td>\n",
              "      <td>0.0</td>\n",
              "      <td>0.0</td>\n",
              "      <td>1.0</td>\n",
              "      <td>0.0</td>\n",
              "      <td>14.0</td>\n",
              "    </tr>\n",
              "  </tbody>\n",
              "</table>\n",
              "</div>"
            ],
            "text/plain": [
              "   loan_amnt      term  int_rate  ...  x4_INDIVIDUAL  x4_JOINT  sub_grade\n",
              "0  -0.493244 -0.558519 -0.492315  ...            1.0       0.0        8.0\n",
              "1  -0.732563 -0.558519 -0.369353  ...            1.0       0.0        9.0\n",
              "2   0.176849 -0.558519 -0.704703  ...            1.0       0.0        7.0\n",
              "3  -0.828291 -0.558519 -1.598970  ...            1.0       0.0        1.0\n",
              "4   1.226862  1.790450  0.811079  ...            1.0       0.0       14.0\n",
              "\n",
              "[5 rows x 44 columns]"
            ]
          },
          "metadata": {},
          "execution_count": 26
        }
      ]
    },
    {
      "cell_type": "markdown",
      "source": [
        "#Oversampling"
      ],
      "metadata": {
        "id": "ezkELoLyhmS_"
      }
    },
    {
      "cell_type": "code",
      "source": [
        ""
      ],
      "metadata": {
        "id": "C76eWeqNhmE7"
      },
      "execution_count": null,
      "outputs": []
    },
    {
      "cell_type": "code",
      "source": [
        "from imblearn.over_sampling import SMOTE"
      ],
      "metadata": {
        "id": "-m6cmvFbgOYu"
      },
      "execution_count": null,
      "outputs": []
    },
    {
      "cell_type": "code",
      "source": [
        "smote=SMOTE()\n",
        "x_smote,y_smote=smote.fit_resample(fulldata_prepared,labels)"
      ],
      "metadata": {
        "id": "Nxf_puQggb44"
      },
      "execution_count": null,
      "outputs": []
    },
    {
      "cell_type": "code",
      "source": [
        "y_smote.value_counts()"
      ],
      "metadata": {
        "colab": {
          "base_uri": "https://localhost:8080/"
        },
        "id": "Gq93vO7ZhW7C",
        "outputId": "dc9b6022-84ed-4575-d779-49daad5cff80"
      },
      "execution_count": null,
      "outputs": [
        {
          "output_type": "execute_result",
          "data": {
            "text/plain": [
              "Charged Off    317696\n",
              "Fully Paid     317696\n",
              "Name: loan_status, dtype: int64"
            ]
          },
          "metadata": {},
          "execution_count": 32
        }
      ]
    },
    {
      "cell_type": "code",
      "source": [
        "from sklearn.model_selection import train_test_split\n",
        "xtrain_smote, xtest_smote, ytrain_smote, ytest_smote =train_test_split(x_smote,y_smote,test_size=0.25,random_state=42)"
      ],
      "metadata": {
        "id": "y7DkcKHJhsp6"
      },
      "execution_count": null,
      "outputs": []
    },
    {
      "cell_type": "code",
      "source": [
        "ytrain_ros=ytrain_ros.to_numpy()\n",
        "xtrain_ros=xtrain_ros.to_numpy()"
      ],
      "metadata": {
        "id": "txTbvtmnrAcO"
      },
      "execution_count": null,
      "outputs": []
    },
    {
      "cell_type": "code",
      "source": [
        "from sklearn.ensemble import RandomForestClassifier\n",
        "rand=RandomForestClassifier()"
      ],
      "metadata": {
        "id": "h1O24HjRh4Ij"
      },
      "execution_count": null,
      "outputs": []
    },
    {
      "cell_type": "code",
      "source": [
        "from sklearn.model_selection import cross_val_score\n",
        "rand_score=cross_val_score(rand, xtrain_smote, ytrain_smote, cv=7, scoring=\"accuracy\")\n",
        "rand_score.mean()"
      ],
      "metadata": {
        "colab": {
          "base_uri": "https://localhost:8080/"
        },
        "id": "wqxWbc6qiFGS",
        "outputId": "b6a274a7-13de-4942-98a8-13ac387d1bec"
      },
      "execution_count": null,
      "outputs": [
        {
          "output_type": "execute_result",
          "data": {
            "text/plain": [
              "0.8676785350883653"
            ]
          },
          "metadata": {},
          "execution_count": 38
        }
      ]
    },
    {
      "cell_type": "code",
      "source": [
        ""
      ],
      "metadata": {
        "id": "O8NoVdqHiKYJ"
      },
      "execution_count": null,
      "outputs": []
    },
    {
      "cell_type": "code",
      "metadata": {
        "id": "Qi59qqUIqJGz"
      },
      "source": [
        "from tensorflow.keras.models import Sequential\n",
        "from tensorflow.keras.layers import Dense,Dropout,BatchNormalization\n",
        "from tensorflow.keras.optimizers import Adam,RMSprop,SGD"
      ],
      "execution_count": null,
      "outputs": []
    },
    {
      "cell_type": "code",
      "metadata": {
        "id": "cVq2BpBNqJG0"
      },
      "source": [
        "model1=Sequential()"
      ],
      "execution_count": null,
      "outputs": []
    },
    {
      "cell_type": "code",
      "metadata": {
        "id": "BudvHCTnqJG1"
      },
      "source": [
        "model1.add(Dense(units=70,activation='relu'))\n",
        "model1.add(Dropout(rate=0.5))\n",
        "model1.add(BatchNormalization())\n",
        "model1.add(Dense(units=50,activation='relu'))\n",
        "model1.add(Dropout(rate=0.8))\n",
        "model1.add(BatchNormalization())\n",
        "model1.add(Dense(units=25,activation='relu'))\n",
        "model1.add(Dropout(rate=0.8))\n",
        "model1.add(BatchNormalization())\n",
        "model1.add(Dense(units=2,activation='softmax'),)\n"
      ],
      "execution_count": null,
      "outputs": []
    },
    {
      "cell_type": "code",
      "metadata": {
        "id": "qMZk0yOYqJG2"
      },
      "source": [
        "model.compile(optimizer=Adam(learning_rate=0.0001),loss='sparse_categorical_crossentropy',metrics=['accuracy'])"
      ],
      "execution_count": null,
      "outputs": []
    },
    {
      "cell_type": "code",
      "metadata": {
        "colab": {
          "base_uri": "https://localhost:8080/",
          "height": 328
        },
        "outputId": "807c8d76-a6ca-4478-c40e-8b1f033c0834",
        "id": "zuqNc9L1qJG3"
      },
      "source": [
        "model.fit(x=x_rus,y=y_rus,epochs=20,validation_split=0.15)"
      ],
      "execution_count": null,
      "outputs": [
        {
          "output_type": "stream",
          "name": "stdout",
          "text": [
            "\b\b\b\b\b\b\b\b\b\b\b\b\b\b\b\b\b\b\b\b\b\b\b\b\b\b\b\b\b\b\b\b\b\b\b\b\b\b\b\b\b\b\b\b\b\b\b\b\b\b\b\b\b\b\b\b\b\b\b\b\b\b\b\b\b\b\b\b\b\b\b\b\b\b\b\b\b\b\b\b\b\b\b\b\b\b\b\b\r12650/12651 [============================>.] - ETA: 0s - loss: 0.5269 - accuracy: 0.7239"
          ]
        },
        {
          "output_type": "error",
          "ename": "KeyboardInterrupt",
          "evalue": "ignored",
          "traceback": [
            "\u001b[0;31m---------------------------------------------------------------------------\u001b[0m",
            "\u001b[0;31mKeyboardInterrupt\u001b[0m                         Traceback (most recent call last)",
            "\u001b[0;32m<ipython-input-160-f357abbad26b>\u001b[0m in \u001b[0;36m<module>\u001b[0;34m()\u001b[0m\n\u001b[0;32m----> 1\u001b[0;31m \u001b[0mmodel\u001b[0m\u001b[0;34m.\u001b[0m\u001b[0mfit\u001b[0m\u001b[0;34m(\u001b[0m\u001b[0mx\u001b[0m\u001b[0;34m=\u001b[0m\u001b[0mx_rus\u001b[0m\u001b[0;34m,\u001b[0m\u001b[0my\u001b[0m\u001b[0;34m=\u001b[0m\u001b[0my_rus\u001b[0m\u001b[0;34m,\u001b[0m\u001b[0mepochs\u001b[0m\u001b[0;34m=\u001b[0m\u001b[0;36m20\u001b[0m\u001b[0;34m,\u001b[0m\u001b[0mvalidation_split\u001b[0m\u001b[0;34m=\u001b[0m\u001b[0;36m0.15\u001b[0m\u001b[0;34m)\u001b[0m\u001b[0;34m\u001b[0m\u001b[0;34m\u001b[0m\u001b[0m\n\u001b[0m",
            "\u001b[0;32m/usr/local/lib/python3.7/dist-packages/keras/utils/traceback_utils.py\u001b[0m in \u001b[0;36merror_handler\u001b[0;34m(*args, **kwargs)\u001b[0m\n\u001b[1;32m     62\u001b[0m     \u001b[0mfiltered_tb\u001b[0m \u001b[0;34m=\u001b[0m \u001b[0;32mNone\u001b[0m\u001b[0;34m\u001b[0m\u001b[0;34m\u001b[0m\u001b[0m\n\u001b[1;32m     63\u001b[0m     \u001b[0;32mtry\u001b[0m\u001b[0;34m:\u001b[0m\u001b[0;34m\u001b[0m\u001b[0;34m\u001b[0m\u001b[0m\n\u001b[0;32m---> 64\u001b[0;31m       \u001b[0;32mreturn\u001b[0m \u001b[0mfn\u001b[0m\u001b[0;34m(\u001b[0m\u001b[0;34m*\u001b[0m\u001b[0margs\u001b[0m\u001b[0;34m,\u001b[0m \u001b[0;34m**\u001b[0m\u001b[0mkwargs\u001b[0m\u001b[0;34m)\u001b[0m\u001b[0;34m\u001b[0m\u001b[0;34m\u001b[0m\u001b[0m\n\u001b[0m\u001b[1;32m     65\u001b[0m     \u001b[0;32mexcept\u001b[0m \u001b[0mException\u001b[0m \u001b[0;32mas\u001b[0m \u001b[0me\u001b[0m\u001b[0;34m:\u001b[0m  \u001b[0;31m# pylint: disable=broad-except\u001b[0m\u001b[0;34m\u001b[0m\u001b[0;34m\u001b[0m\u001b[0m\n\u001b[1;32m     66\u001b[0m       \u001b[0mfiltered_tb\u001b[0m \u001b[0;34m=\u001b[0m \u001b[0m_process_traceback_frames\u001b[0m\u001b[0;34m(\u001b[0m\u001b[0me\u001b[0m\u001b[0;34m.\u001b[0m\u001b[0m__traceback__\u001b[0m\u001b[0;34m)\u001b[0m\u001b[0;34m\u001b[0m\u001b[0;34m\u001b[0m\u001b[0m\n",
            "\u001b[0;32m/usr/local/lib/python3.7/dist-packages/keras/engine/training.py\u001b[0m in \u001b[0;36mfit\u001b[0;34m(self, x, y, batch_size, epochs, verbose, callbacks, validation_split, validation_data, shuffle, class_weight, sample_weight, initial_epoch, steps_per_epoch, validation_steps, validation_batch_size, validation_freq, max_queue_size, workers, use_multiprocessing)\u001b[0m\n\u001b[1;32m   1261\u001b[0m               \u001b[0muse_multiprocessing\u001b[0m\u001b[0;34m=\u001b[0m\u001b[0muse_multiprocessing\u001b[0m\u001b[0;34m,\u001b[0m\u001b[0;34m\u001b[0m\u001b[0;34m\u001b[0m\u001b[0m\n\u001b[1;32m   1262\u001b[0m               \u001b[0mreturn_dict\u001b[0m\u001b[0;34m=\u001b[0m\u001b[0;32mTrue\u001b[0m\u001b[0;34m,\u001b[0m\u001b[0;34m\u001b[0m\u001b[0;34m\u001b[0m\u001b[0m\n\u001b[0;32m-> 1263\u001b[0;31m               _use_cached_eval_dataset=True)\n\u001b[0m\u001b[1;32m   1264\u001b[0m           \u001b[0mval_logs\u001b[0m \u001b[0;34m=\u001b[0m \u001b[0;34m{\u001b[0m\u001b[0;34m'val_'\u001b[0m \u001b[0;34m+\u001b[0m \u001b[0mname\u001b[0m\u001b[0;34m:\u001b[0m \u001b[0mval\u001b[0m \u001b[0;32mfor\u001b[0m \u001b[0mname\u001b[0m\u001b[0;34m,\u001b[0m \u001b[0mval\u001b[0m \u001b[0;32min\u001b[0m \u001b[0mval_logs\u001b[0m\u001b[0;34m.\u001b[0m\u001b[0mitems\u001b[0m\u001b[0;34m(\u001b[0m\u001b[0;34m)\u001b[0m\u001b[0;34m}\u001b[0m\u001b[0;34m\u001b[0m\u001b[0;34m\u001b[0m\u001b[0m\n\u001b[1;32m   1265\u001b[0m           \u001b[0mepoch_logs\u001b[0m\u001b[0;34m.\u001b[0m\u001b[0mupdate\u001b[0m\u001b[0;34m(\u001b[0m\u001b[0mval_logs\u001b[0m\u001b[0;34m)\u001b[0m\u001b[0;34m\u001b[0m\u001b[0;34m\u001b[0m\u001b[0m\n",
            "\u001b[0;32m/usr/local/lib/python3.7/dist-packages/keras/utils/traceback_utils.py\u001b[0m in \u001b[0;36merror_handler\u001b[0;34m(*args, **kwargs)\u001b[0m\n\u001b[1;32m     62\u001b[0m     \u001b[0mfiltered_tb\u001b[0m \u001b[0;34m=\u001b[0m \u001b[0;32mNone\u001b[0m\u001b[0;34m\u001b[0m\u001b[0;34m\u001b[0m\u001b[0m\n\u001b[1;32m     63\u001b[0m     \u001b[0;32mtry\u001b[0m\u001b[0;34m:\u001b[0m\u001b[0;34m\u001b[0m\u001b[0;34m\u001b[0m\u001b[0m\n\u001b[0;32m---> 64\u001b[0;31m       \u001b[0;32mreturn\u001b[0m \u001b[0mfn\u001b[0m\u001b[0;34m(\u001b[0m\u001b[0;34m*\u001b[0m\u001b[0margs\u001b[0m\u001b[0;34m,\u001b[0m \u001b[0;34m**\u001b[0m\u001b[0mkwargs\u001b[0m\u001b[0;34m)\u001b[0m\u001b[0;34m\u001b[0m\u001b[0;34m\u001b[0m\u001b[0m\n\u001b[0m\u001b[1;32m     65\u001b[0m     \u001b[0;32mexcept\u001b[0m \u001b[0mException\u001b[0m \u001b[0;32mas\u001b[0m \u001b[0me\u001b[0m\u001b[0;34m:\u001b[0m  \u001b[0;31m# pylint: disable=broad-except\u001b[0m\u001b[0;34m\u001b[0m\u001b[0;34m\u001b[0m\u001b[0m\n\u001b[1;32m     66\u001b[0m       \u001b[0mfiltered_tb\u001b[0m \u001b[0;34m=\u001b[0m \u001b[0m_process_traceback_frames\u001b[0m\u001b[0;34m(\u001b[0m\u001b[0me\u001b[0m\u001b[0;34m.\u001b[0m\u001b[0m__traceback__\u001b[0m\u001b[0;34m)\u001b[0m\u001b[0;34m\u001b[0m\u001b[0;34m\u001b[0m\u001b[0m\n",
            "\u001b[0;31mKeyboardInterrupt\u001b[0m: "
          ]
        }
      ]
    },
    {
      "cell_type": "code",
      "source": [
        "from imblearn.under_sampling import RandomUnderSampler\n",
        "rus=RandomUnderSampler()"
      ],
      "metadata": {
        "id": "S_qIhFnuvJYV"
      },
      "execution_count": null,
      "outputs": []
    },
    {
      "cell_type": "code",
      "source": [
        "x_rus,y_rus=rus.fit_resample(xtrain_ros,ytrain_ros)"
      ],
      "metadata": {
        "id": "VzOFfnw6vShG"
      },
      "execution_count": null,
      "outputs": []
    },
    {
      "cell_type": "code",
      "source": [
        ""
      ],
      "metadata": {
        "colab": {
          "base_uri": "https://localhost:8080/"
        },
        "id": "Kp42fp-tvnlc",
        "outputId": "9341adf7-4e64-4aad-c3ac-60c9948e69dc"
      },
      "execution_count": null,
      "outputs": [
        {
          "output_type": "execute_result",
          "data": {
            "text/plain": [
              "array([[ 1.18198951e+00, -5.58518894e-01, -8.16486474e-01, ...,\n",
              "         1.00000000e+00,  0.00000000e+00,  7.00000000e+00],\n",
              "       [-8.97094824e-01, -5.58518894e-01, -6.46575811e-01, ...,\n",
              "         1.00000000e+00,  0.00000000e+00,  8.00000000e+00],\n",
              "       [ 4.64032327e-01,  1.79044972e+00,  2.73598780e+00, ...,\n",
              "         1.00000000e+00,  0.00000000e+00,  2.80000000e+01],\n",
              "       ...,\n",
              "       [-8.52222500e-01, -5.58518894e-01, -2.15092151e-01, ...,\n",
              "         1.00000000e+00,  0.00000000e+00,  1.00000000e+01],\n",
              "       [ 4.01211074e-01, -5.58518894e-01,  6.23884484e-03, ...,\n",
              "         1.00000000e+00,  0.00000000e+00,  9.00000000e+00],\n",
              "       [ 2.49824433e+00,  1.79044972e+00,  1.03017416e+00, ...,\n",
              "         1.00000000e+00,  0.00000000e+00,  2.00000000e+01]])"
            ]
          },
          "metadata": {},
          "execution_count": 150
        }
      ]
    },
    {
      "cell_type": "markdown",
      "metadata": {
        "id": "MT-CgIJN0zx6"
      },
      "source": [
        "##Split data"
      ]
    },
    {
      "cell_type": "code",
      "metadata": {
        "id": "AsoqUAC83lIZ"
      },
      "source": [
        "from sklearn.model_selection import train_test_split\n",
        "xtrain, xtest, ytrain, ytest =train_test_split(fulldata_prepared,labels,test_size=0.25,random_state=42)"
      ],
      "execution_count": null,
      "outputs": []
    },
    {
      "cell_type": "markdown",
      "metadata": {
        "id": "gVO_iKTpwXFq"
      },
      "source": [
        ""
      ]
    },
    {
      "cell_type": "code",
      "metadata": {
        "colab": {
          "base_uri": "https://localhost:8080/",
          "height": 461
        },
        "id": "RiRbRxRDkunm",
        "outputId": "d51e76c3-85d6-4e81-bcce-fac3c1b54e71"
      },
      "source": [
        "xtrain"
      ],
      "execution_count": null,
      "outputs": [
        {
          "output_type": "execute_result",
          "data": {
            "text/html": [
              "<div>\n",
              "<style scoped>\n",
              "    .dataframe tbody tr th:only-of-type {\n",
              "        vertical-align: middle;\n",
              "    }\n",
              "\n",
              "    .dataframe tbody tr th {\n",
              "        vertical-align: top;\n",
              "    }\n",
              "\n",
              "    .dataframe thead th {\n",
              "        text-align: right;\n",
              "    }\n",
              "</style>\n",
              "<table border=\"1\" class=\"dataframe\">\n",
              "  <thead>\n",
              "    <tr style=\"text-align: right;\">\n",
              "      <th></th>\n",
              "      <th>loan_amnt</th>\n",
              "      <th>term</th>\n",
              "      <th>int_rate</th>\n",
              "      <th>installment</th>\n",
              "      <th>annual_inc</th>\n",
              "      <th>dti</th>\n",
              "      <th>open_acc</th>\n",
              "      <th>pub_rec</th>\n",
              "      <th>revol_bal</th>\n",
              "      <th>revol_util</th>\n",
              "      <th>total_acc</th>\n",
              "      <th>mort_acc</th>\n",
              "      <th>pub_rec_bankruptcies</th>\n",
              "      <th>zip_code</th>\n",
              "      <th>earliest_cr_line_year</th>\n",
              "      <th>x0_ANY</th>\n",
              "      <th>x0_MORTGAGE</th>\n",
              "      <th>x0_NONE</th>\n",
              "      <th>x0_OTHER</th>\n",
              "      <th>x0_OWN</th>\n",
              "      <th>x0_RENT</th>\n",
              "      <th>x1_Not Verified</th>\n",
              "      <th>x1_Source Verified</th>\n",
              "      <th>x1_Verified</th>\n",
              "      <th>x2_car</th>\n",
              "      <th>x2_credit_card</th>\n",
              "      <th>x2_debt_consolidation</th>\n",
              "      <th>x2_educational</th>\n",
              "      <th>x2_home_improvement</th>\n",
              "      <th>x2_house</th>\n",
              "      <th>x2_major_purchase</th>\n",
              "      <th>x2_medical</th>\n",
              "      <th>x2_moving</th>\n",
              "      <th>x2_other</th>\n",
              "      <th>x2_renewable_energy</th>\n",
              "      <th>x2_small_business</th>\n",
              "      <th>x2_vacation</th>\n",
              "      <th>x2_wedding</th>\n",
              "      <th>x3_f</th>\n",
              "      <th>x3_w</th>\n",
              "      <th>x4_DIRECT_PAY</th>\n",
              "      <th>x4_INDIVIDUAL</th>\n",
              "      <th>x4_JOINT</th>\n",
              "      <th>sub_grade</th>\n",
              "    </tr>\n",
              "  </thead>\n",
              "  <tbody>\n",
              "    <tr>\n",
              "      <th>163091</th>\n",
              "      <td>-0.732563</td>\n",
              "      <td>-0.558519</td>\n",
              "      <td>0.301347</td>\n",
              "      <td>-0.617388</td>\n",
              "      <td>0.256682</td>\n",
              "      <td>-0.575664</td>\n",
              "      <td>0.522212</td>\n",
              "      <td>-0.336061</td>\n",
              "      <td>-0.556623</td>\n",
              "      <td>-0.368606</td>\n",
              "      <td>-0.035885</td>\n",
              "      <td>-0.844087</td>\n",
              "      <td>-0.341655</td>\n",
              "      <td>-1.296079</td>\n",
              "      <td>0.852667</td>\n",
              "      <td>0.0</td>\n",
              "      <td>1.0</td>\n",
              "      <td>0.0</td>\n",
              "      <td>0.0</td>\n",
              "      <td>0.0</td>\n",
              "      <td>0.0</td>\n",
              "      <td>0.0</td>\n",
              "      <td>0.0</td>\n",
              "      <td>1.0</td>\n",
              "      <td>0.0</td>\n",
              "      <td>0.0</td>\n",
              "      <td>1.0</td>\n",
              "      <td>0.0</td>\n",
              "      <td>0.0</td>\n",
              "      <td>0.0</td>\n",
              "      <td>0.0</td>\n",
              "      <td>0.0</td>\n",
              "      <td>0.0</td>\n",
              "      <td>0.0</td>\n",
              "      <td>0.0</td>\n",
              "      <td>0.0</td>\n",
              "      <td>0.0</td>\n",
              "      <td>0.0</td>\n",
              "      <td>1.0</td>\n",
              "      <td>0.0</td>\n",
              "      <td>0.0</td>\n",
              "      <td>1.0</td>\n",
              "      <td>0.0</td>\n",
              "      <td>14.0</td>\n",
              "    </tr>\n",
              "    <tr>\n",
              "      <th>119964</th>\n",
              "      <td>0.703351</td>\n",
              "      <td>-0.558519</td>\n",
              "      <td>-1.285976</td>\n",
              "      <td>0.772442</td>\n",
              "      <td>0.110477</td>\n",
              "      <td>0.249505</td>\n",
              "      <td>1.495942</td>\n",
              "      <td>-0.336061</td>\n",
              "      <td>-0.603309</td>\n",
              "      <td>-1.010995</td>\n",
              "      <td>1.983415</td>\n",
              "      <td>-0.358193</td>\n",
              "      <td>-0.341655</td>\n",
              "      <td>-1.128149</td>\n",
              "      <td>-0.953135</td>\n",
              "      <td>0.0</td>\n",
              "      <td>0.0</td>\n",
              "      <td>0.0</td>\n",
              "      <td>0.0</td>\n",
              "      <td>1.0</td>\n",
              "      <td>0.0</td>\n",
              "      <td>1.0</td>\n",
              "      <td>0.0</td>\n",
              "      <td>0.0</td>\n",
              "      <td>0.0</td>\n",
              "      <td>0.0</td>\n",
              "      <td>0.0</td>\n",
              "      <td>0.0</td>\n",
              "      <td>1.0</td>\n",
              "      <td>0.0</td>\n",
              "      <td>0.0</td>\n",
              "      <td>0.0</td>\n",
              "      <td>0.0</td>\n",
              "      <td>0.0</td>\n",
              "      <td>0.0</td>\n",
              "      <td>0.0</td>\n",
              "      <td>0.0</td>\n",
              "      <td>0.0</td>\n",
              "      <td>0.0</td>\n",
              "      <td>1.0</td>\n",
              "      <td>0.0</td>\n",
              "      <td>1.0</td>\n",
              "      <td>0.0</td>\n",
              "      <td>4.0</td>\n",
              "    </tr>\n",
              "    <tr>\n",
              "      <th>355759</th>\n",
              "      <td>-1.390690</td>\n",
              "      <td>-0.558519</td>\n",
              "      <td>-0.592920</td>\n",
              "      <td>-1.397005</td>\n",
              "      <td>-0.360630</td>\n",
              "      <td>0.316605</td>\n",
              "      <td>-0.646263</td>\n",
              "      <td>-0.336061</td>\n",
              "      <td>-0.104626</td>\n",
              "      <td>-0.532272</td>\n",
              "      <td>-0.372435</td>\n",
              "      <td>-0.358193</td>\n",
              "      <td>-0.341655</td>\n",
              "      <td>-0.127989</td>\n",
              "      <td>0.158128</td>\n",
              "      <td>0.0</td>\n",
              "      <td>1.0</td>\n",
              "      <td>0.0</td>\n",
              "      <td>0.0</td>\n",
              "      <td>0.0</td>\n",
              "      <td>0.0</td>\n",
              "      <td>1.0</td>\n",
              "      <td>0.0</td>\n",
              "      <td>0.0</td>\n",
              "      <td>0.0</td>\n",
              "      <td>0.0</td>\n",
              "      <td>0.0</td>\n",
              "      <td>0.0</td>\n",
              "      <td>0.0</td>\n",
              "      <td>0.0</td>\n",
              "      <td>0.0</td>\n",
              "      <td>0.0</td>\n",
              "      <td>0.0</td>\n",
              "      <td>1.0</td>\n",
              "      <td>0.0</td>\n",
              "      <td>0.0</td>\n",
              "      <td>0.0</td>\n",
              "      <td>0.0</td>\n",
              "      <td>0.0</td>\n",
              "      <td>1.0</td>\n",
              "      <td>0.0</td>\n",
              "      <td>1.0</td>\n",
              "      <td>0.0</td>\n",
              "      <td>8.0</td>\n",
              "    </tr>\n",
              "    <tr>\n",
              "      <th>327191</th>\n",
              "      <td>-0.349652</td>\n",
              "      <td>1.790450</td>\n",
              "      <td>1.083830</td>\n",
              "      <td>-0.577021</td>\n",
              "      <td>-0.214425</td>\n",
              "      <td>-0.331662</td>\n",
              "      <td>0.522212</td>\n",
              "      <td>1.546834</td>\n",
              "      <td>-0.646886</td>\n",
              "      <td>-1.518358</td>\n",
              "      <td>-0.288298</td>\n",
              "      <td>-0.844087</td>\n",
              "      <td>2.465182</td>\n",
              "      <td>0.548769</td>\n",
              "      <td>-1.508766</td>\n",
              "      <td>0.0</td>\n",
              "      <td>0.0</td>\n",
              "      <td>0.0</td>\n",
              "      <td>0.0</td>\n",
              "      <td>0.0</td>\n",
              "      <td>1.0</td>\n",
              "      <td>0.0</td>\n",
              "      <td>1.0</td>\n",
              "      <td>0.0</td>\n",
              "      <td>0.0</td>\n",
              "      <td>0.0</td>\n",
              "      <td>1.0</td>\n",
              "      <td>0.0</td>\n",
              "      <td>0.0</td>\n",
              "      <td>0.0</td>\n",
              "      <td>0.0</td>\n",
              "      <td>0.0</td>\n",
              "      <td>0.0</td>\n",
              "      <td>0.0</td>\n",
              "      <td>0.0</td>\n",
              "      <td>0.0</td>\n",
              "      <td>0.0</td>\n",
              "      <td>0.0</td>\n",
              "      <td>1.0</td>\n",
              "      <td>0.0</td>\n",
              "      <td>0.0</td>\n",
              "      <td>1.0</td>\n",
              "      <td>0.0</td>\n",
              "      <td>21.0</td>\n",
              "    </tr>\n",
              "    <tr>\n",
              "      <th>119742</th>\n",
              "      <td>1.062330</td>\n",
              "      <td>1.790450</td>\n",
              "      <td>-0.145786</td>\n",
              "      <td>0.363546</td>\n",
              "      <td>-0.230670</td>\n",
              "      <td>0.695917</td>\n",
              "      <td>-0.841009</td>\n",
              "      <td>-0.336061</td>\n",
              "      <td>-0.441535</td>\n",
              "      <td>-0.470898</td>\n",
              "      <td>0.721352</td>\n",
              "      <td>0.613595</td>\n",
              "      <td>-0.341655</td>\n",
              "      <td>-1.296079</td>\n",
              "      <td>-0.258596</td>\n",
              "      <td>0.0</td>\n",
              "      <td>1.0</td>\n",
              "      <td>0.0</td>\n",
              "      <td>0.0</td>\n",
              "      <td>0.0</td>\n",
              "      <td>0.0</td>\n",
              "      <td>0.0</td>\n",
              "      <td>1.0</td>\n",
              "      <td>0.0</td>\n",
              "      <td>0.0</td>\n",
              "      <td>1.0</td>\n",
              "      <td>0.0</td>\n",
              "      <td>0.0</td>\n",
              "      <td>0.0</td>\n",
              "      <td>0.0</td>\n",
              "      <td>0.0</td>\n",
              "      <td>0.0</td>\n",
              "      <td>0.0</td>\n",
              "      <td>0.0</td>\n",
              "      <td>0.0</td>\n",
              "      <td>0.0</td>\n",
              "      <td>0.0</td>\n",
              "      <td>0.0</td>\n",
              "      <td>0.0</td>\n",
              "      <td>1.0</td>\n",
              "      <td>0.0</td>\n",
              "      <td>1.0</td>\n",
              "      <td>0.0</td>\n",
              "      <td>9.0</td>\n",
              "    </tr>\n",
              "    <tr>\n",
              "      <th>...</th>\n",
              "      <td>...</td>\n",
              "      <td>...</td>\n",
              "      <td>...</td>\n",
              "      <td>...</td>\n",
              "      <td>...</td>\n",
              "      <td>...</td>\n",
              "      <td>...</td>\n",
              "      <td>...</td>\n",
              "      <td>...</td>\n",
              "      <td>...</td>\n",
              "      <td>...</td>\n",
              "      <td>...</td>\n",
              "      <td>...</td>\n",
              "      <td>...</td>\n",
              "      <td>...</td>\n",
              "      <td>...</td>\n",
              "      <td>...</td>\n",
              "      <td>...</td>\n",
              "      <td>...</td>\n",
              "      <td>...</td>\n",
              "      <td>...</td>\n",
              "      <td>...</td>\n",
              "      <td>...</td>\n",
              "      <td>...</td>\n",
              "      <td>...</td>\n",
              "      <td>...</td>\n",
              "      <td>...</td>\n",
              "      <td>...</td>\n",
              "      <td>...</td>\n",
              "      <td>...</td>\n",
              "      <td>...</td>\n",
              "      <td>...</td>\n",
              "      <td>...</td>\n",
              "      <td>...</td>\n",
              "      <td>...</td>\n",
              "      <td>...</td>\n",
              "      <td>...</td>\n",
              "      <td>...</td>\n",
              "      <td>...</td>\n",
              "      <td>...</td>\n",
              "      <td>...</td>\n",
              "      <td>...</td>\n",
              "      <td>...</td>\n",
              "      <td>...</td>\n",
              "    </tr>\n",
              "    <tr>\n",
              "      <th>259178</th>\n",
              "      <td>0.924722</td>\n",
              "      <td>-0.558519</td>\n",
              "      <td>0.922862</td>\n",
              "      <td>1.417436</td>\n",
              "      <td>-0.068219</td>\n",
              "      <td>-0.379908</td>\n",
              "      <td>-0.451517</td>\n",
              "      <td>-0.336061</td>\n",
              "      <td>0.668927</td>\n",
              "      <td>1.607657</td>\n",
              "      <td>-0.288298</td>\n",
              "      <td>0.613595</td>\n",
              "      <td>-0.341655</td>\n",
              "      <td>0.548769</td>\n",
              "      <td>0.852667</td>\n",
              "      <td>0.0</td>\n",
              "      <td>1.0</td>\n",
              "      <td>0.0</td>\n",
              "      <td>0.0</td>\n",
              "      <td>0.0</td>\n",
              "      <td>0.0</td>\n",
              "      <td>0.0</td>\n",
              "      <td>0.0</td>\n",
              "      <td>1.0</td>\n",
              "      <td>0.0</td>\n",
              "      <td>0.0</td>\n",
              "      <td>0.0</td>\n",
              "      <td>0.0</td>\n",
              "      <td>1.0</td>\n",
              "      <td>0.0</td>\n",
              "      <td>0.0</td>\n",
              "      <td>0.0</td>\n",
              "      <td>0.0</td>\n",
              "      <td>0.0</td>\n",
              "      <td>0.0</td>\n",
              "      <td>0.0</td>\n",
              "      <td>0.0</td>\n",
              "      <td>0.0</td>\n",
              "      <td>1.0</td>\n",
              "      <td>0.0</td>\n",
              "      <td>0.0</td>\n",
              "      <td>1.0</td>\n",
              "      <td>0.0</td>\n",
              "      <td>15.0</td>\n",
              "    </tr>\n",
              "    <tr>\n",
              "      <th>365838</th>\n",
              "      <td>-0.197087</td>\n",
              "      <td>1.790450</td>\n",
              "      <td>0.942983</td>\n",
              "      <td>-0.463618</td>\n",
              "      <td>-0.190057</td>\n",
              "      <td>0.890564</td>\n",
              "      <td>0.327466</td>\n",
              "      <td>-0.336061</td>\n",
              "      <td>-0.056774</td>\n",
              "      <td>-0.569097</td>\n",
              "      <td>-0.035885</td>\n",
              "      <td>0.127701</td>\n",
              "      <td>-0.341655</td>\n",
              "      <td>-0.127989</td>\n",
              "      <td>0.297035</td>\n",
              "      <td>0.0</td>\n",
              "      <td>0.0</td>\n",
              "      <td>0.0</td>\n",
              "      <td>0.0</td>\n",
              "      <td>0.0</td>\n",
              "      <td>1.0</td>\n",
              "      <td>0.0</td>\n",
              "      <td>1.0</td>\n",
              "      <td>0.0</td>\n",
              "      <td>1.0</td>\n",
              "      <td>0.0</td>\n",
              "      <td>0.0</td>\n",
              "      <td>0.0</td>\n",
              "      <td>0.0</td>\n",
              "      <td>0.0</td>\n",
              "      <td>0.0</td>\n",
              "      <td>0.0</td>\n",
              "      <td>0.0</td>\n",
              "      <td>0.0</td>\n",
              "      <td>0.0</td>\n",
              "      <td>0.0</td>\n",
              "      <td>0.0</td>\n",
              "      <td>0.0</td>\n",
              "      <td>0.0</td>\n",
              "      <td>1.0</td>\n",
              "      <td>0.0</td>\n",
              "      <td>1.0</td>\n",
              "      <td>0.0</td>\n",
              "      <td>19.0</td>\n",
              "    </tr>\n",
              "    <tr>\n",
              "      <th>131932</th>\n",
              "      <td>0.383262</td>\n",
              "      <td>1.790450</td>\n",
              "      <td>-0.257570</td>\n",
              "      <td>-0.169043</td>\n",
              "      <td>-0.133199</td>\n",
              "      <td>0.607744</td>\n",
              "      <td>2.664418</td>\n",
              "      <td>1.546834</td>\n",
              "      <td>-0.383286</td>\n",
              "      <td>-1.366967</td>\n",
              "      <td>1.394452</td>\n",
              "      <td>-0.358193</td>\n",
              "      <td>2.465182</td>\n",
              "      <td>-0.441706</td>\n",
              "      <td>-0.397504</td>\n",
              "      <td>0.0</td>\n",
              "      <td>1.0</td>\n",
              "      <td>0.0</td>\n",
              "      <td>0.0</td>\n",
              "      <td>0.0</td>\n",
              "      <td>0.0</td>\n",
              "      <td>0.0</td>\n",
              "      <td>0.0</td>\n",
              "      <td>1.0</td>\n",
              "      <td>0.0</td>\n",
              "      <td>0.0</td>\n",
              "      <td>1.0</td>\n",
              "      <td>0.0</td>\n",
              "      <td>0.0</td>\n",
              "      <td>0.0</td>\n",
              "      <td>0.0</td>\n",
              "      <td>0.0</td>\n",
              "      <td>0.0</td>\n",
              "      <td>0.0</td>\n",
              "      <td>0.0</td>\n",
              "      <td>0.0</td>\n",
              "      <td>0.0</td>\n",
              "      <td>0.0</td>\n",
              "      <td>0.0</td>\n",
              "      <td>1.0</td>\n",
              "      <td>0.0</td>\n",
              "      <td>1.0</td>\n",
              "      <td>0.0</td>\n",
              "      <td>9.0</td>\n",
              "    </tr>\n",
              "    <tr>\n",
              "      <th>146867</th>\n",
              "      <td>-1.211201</td>\n",
              "      <td>-0.558519</td>\n",
              "      <td>-0.440894</td>\n",
              "      <td>-1.196008</td>\n",
              "      <td>-0.490591</td>\n",
              "      <td>-0.010024</td>\n",
              "      <td>3.443402</td>\n",
              "      <td>1.546834</td>\n",
              "      <td>-0.558031</td>\n",
              "      <td>0.932536</td>\n",
              "      <td>5.264777</td>\n",
              "      <td>2.557169</td>\n",
              "      <td>2.465182</td>\n",
              "      <td>-0.171963</td>\n",
              "      <td>0.158128</td>\n",
              "      <td>0.0</td>\n",
              "      <td>0.0</td>\n",
              "      <td>0.0</td>\n",
              "      <td>0.0</td>\n",
              "      <td>0.0</td>\n",
              "      <td>1.0</td>\n",
              "      <td>1.0</td>\n",
              "      <td>0.0</td>\n",
              "      <td>0.0</td>\n",
              "      <td>0.0</td>\n",
              "      <td>0.0</td>\n",
              "      <td>1.0</td>\n",
              "      <td>0.0</td>\n",
              "      <td>0.0</td>\n",
              "      <td>0.0</td>\n",
              "      <td>0.0</td>\n",
              "      <td>0.0</td>\n",
              "      <td>0.0</td>\n",
              "      <td>0.0</td>\n",
              "      <td>0.0</td>\n",
              "      <td>0.0</td>\n",
              "      <td>0.0</td>\n",
              "      <td>0.0</td>\n",
              "      <td>1.0</td>\n",
              "      <td>0.0</td>\n",
              "      <td>0.0</td>\n",
              "      <td>1.0</td>\n",
              "      <td>0.0</td>\n",
              "      <td>8.0</td>\n",
              "    </tr>\n",
              "    <tr>\n",
              "      <th>121958</th>\n",
              "      <td>-0.373584</td>\n",
              "      <td>-0.558519</td>\n",
              "      <td>-1.701810</td>\n",
              "      <td>-0.387990</td>\n",
              "      <td>0.393141</td>\n",
              "      <td>-0.020560</td>\n",
              "      <td>0.132720</td>\n",
              "      <td>-0.336061</td>\n",
              "      <td>-0.307014</td>\n",
              "      <td>-0.147658</td>\n",
              "      <td>-0.204160</td>\n",
              "      <td>0.127701</td>\n",
              "      <td>-0.341655</td>\n",
              "      <td>-1.296079</td>\n",
              "      <td>-0.536411</td>\n",
              "      <td>0.0</td>\n",
              "      <td>1.0</td>\n",
              "      <td>0.0</td>\n",
              "      <td>0.0</td>\n",
              "      <td>0.0</td>\n",
              "      <td>0.0</td>\n",
              "      <td>1.0</td>\n",
              "      <td>0.0</td>\n",
              "      <td>0.0</td>\n",
              "      <td>1.0</td>\n",
              "      <td>0.0</td>\n",
              "      <td>0.0</td>\n",
              "      <td>0.0</td>\n",
              "      <td>0.0</td>\n",
              "      <td>0.0</td>\n",
              "      <td>0.0</td>\n",
              "      <td>0.0</td>\n",
              "      <td>0.0</td>\n",
              "      <td>0.0</td>\n",
              "      <td>0.0</td>\n",
              "      <td>0.0</td>\n",
              "      <td>0.0</td>\n",
              "      <td>0.0</td>\n",
              "      <td>1.0</td>\n",
              "      <td>0.0</td>\n",
              "      <td>0.0</td>\n",
              "      <td>1.0</td>\n",
              "      <td>0.0</td>\n",
              "      <td>0.0</td>\n",
              "    </tr>\n",
              "  </tbody>\n",
              "</table>\n",
              "<p>296414 rows × 44 columns</p>\n",
              "</div>"
            ],
            "text/plain": [
              "        loan_amnt      term  int_rate  ...  x4_INDIVIDUAL  x4_JOINT  sub_grade\n",
              "163091  -0.732563 -0.558519  0.301347  ...            1.0       0.0       14.0\n",
              "119964   0.703351 -0.558519 -1.285976  ...            1.0       0.0        4.0\n",
              "355759  -1.390690 -0.558519 -0.592920  ...            1.0       0.0        8.0\n",
              "327191  -0.349652  1.790450  1.083830  ...            1.0       0.0       21.0\n",
              "119742   1.062330  1.790450 -0.145786  ...            1.0       0.0        9.0\n",
              "...           ...       ...       ...  ...            ...       ...        ...\n",
              "259178   0.924722 -0.558519  0.922862  ...            1.0       0.0       15.0\n",
              "365838  -0.197087  1.790450  0.942983  ...            1.0       0.0       19.0\n",
              "131932   0.383262  1.790450 -0.257570  ...            1.0       0.0        9.0\n",
              "146867  -1.211201 -0.558519 -0.440894  ...            1.0       0.0        8.0\n",
              "121958  -0.373584 -0.558519 -1.701810  ...            1.0       0.0        0.0\n",
              "\n",
              "[296414 rows x 44 columns]"
            ]
          },
          "metadata": {},
          "execution_count": 99
        }
      ]
    },
    {
      "cell_type": "code",
      "metadata": {
        "colab": {
          "base_uri": "https://localhost:8080/"
        },
        "id": "drj8Rlrx3pME",
        "outputId": "ac13f583-d1d3-446b-90cc-176b160ed8d6"
      },
      "source": [
        "ytrain"
      ],
      "execution_count": null,
      "outputs": [
        {
          "output_type": "execute_result",
          "data": {
            "text/plain": [
              "163091     Fully Paid\n",
              "119964     Fully Paid\n",
              "355759     Fully Paid\n",
              "327191    Charged Off\n",
              "119742     Fully Paid\n",
              "             ...     \n",
              "259178     Fully Paid\n",
              "365838    Charged Off\n",
              "131932    Charged Off\n",
              "146867     Fully Paid\n",
              "121958     Fully Paid\n",
              "Name: loan_status, Length: 296414, dtype: object"
            ]
          },
          "metadata": {},
          "execution_count": 100
        }
      ]
    },
    {
      "cell_type": "code",
      "metadata": {
        "colab": {
          "base_uri": "https://localhost:8080/",
          "height": 459
        },
        "id": "jVVXwSjXlW7K",
        "outputId": "cb84ebf3-0bae-4664-e83c-dacc24266bf8"
      },
      "source": [
        "xtest"
      ],
      "execution_count": null,
      "outputs": [
        {
          "output_type": "execute_result",
          "data": {
            "text/html": [
              "<div>\n",
              "<style scoped>\n",
              "    .dataframe tbody tr th:only-of-type {\n",
              "        vertical-align: middle;\n",
              "    }\n",
              "\n",
              "    .dataframe tbody tr th {\n",
              "        vertical-align: top;\n",
              "    }\n",
              "\n",
              "    .dataframe thead th {\n",
              "        text-align: right;\n",
              "    }\n",
              "</style>\n",
              "<table border=\"1\" class=\"dataframe\">\n",
              "  <thead>\n",
              "    <tr style=\"text-align: right;\">\n",
              "      <th></th>\n",
              "      <th>loan_amnt</th>\n",
              "      <th>term</th>\n",
              "      <th>int_rate</th>\n",
              "      <th>installment</th>\n",
              "      <th>annual_inc</th>\n",
              "      <th>dti</th>\n",
              "      <th>open_acc</th>\n",
              "      <th>pub_rec</th>\n",
              "      <th>revol_bal</th>\n",
              "      <th>revol_util</th>\n",
              "      <th>total_acc</th>\n",
              "      <th>mort_acc</th>\n",
              "      <th>pub_rec_bankruptcies</th>\n",
              "      <th>zip_code</th>\n",
              "      <th>issue_d_month</th>\n",
              "      <th>issue_d_year</th>\n",
              "      <th>earliest_cr_line_month</th>\n",
              "      <th>earliest_cr_line_year</th>\n",
              "      <th>x0_ANY</th>\n",
              "      <th>x0_MORTGAGE</th>\n",
              "      <th>x0_NONE</th>\n",
              "      <th>x0_OTHER</th>\n",
              "      <th>x0_OWN</th>\n",
              "      <th>x0_RENT</th>\n",
              "      <th>x1_Not Verified</th>\n",
              "      <th>x1_Source Verified</th>\n",
              "      <th>x1_Verified</th>\n",
              "      <th>x2_car</th>\n",
              "      <th>x2_credit_card</th>\n",
              "      <th>x2_debt_consolidation</th>\n",
              "      <th>x2_educational</th>\n",
              "      <th>x2_home_improvement</th>\n",
              "      <th>x2_house</th>\n",
              "      <th>x2_major_purchase</th>\n",
              "      <th>x2_medical</th>\n",
              "      <th>x2_moving</th>\n",
              "      <th>x2_other</th>\n",
              "      <th>x2_renewable_energy</th>\n",
              "      <th>x2_small_business</th>\n",
              "      <th>x2_vacation</th>\n",
              "      <th>x2_wedding</th>\n",
              "      <th>x3_f</th>\n",
              "      <th>x3_w</th>\n",
              "      <th>x4_DIRECT_PAY</th>\n",
              "      <th>x4_INDIVIDUAL</th>\n",
              "      <th>x4_JOINT</th>\n",
              "      <th>sub_grade</th>\n",
              "      <th>emp_length</th>\n",
              "    </tr>\n",
              "  </thead>\n",
              "  <tbody>\n",
              "    <tr>\n",
              "      <th>251122</th>\n",
              "      <td>-0.253925</td>\n",
              "      <td>1.790450</td>\n",
              "      <td>1.352110</td>\n",
              "      <td>-0.463499</td>\n",
              "      <td>-0.165754</td>\n",
              "      <td>0.189614</td>\n",
              "      <td>-1.035755</td>\n",
              "      <td>-0.336061</td>\n",
              "      <td>0.309671</td>\n",
              "      <td>1.857248</td>\n",
              "      <td>1.057902</td>\n",
              "      <td>-0.358193</td>\n",
              "      <td>-0.341655</td>\n",
              "      <td>-0.441706</td>\n",
              "      <td>0.129762</td>\n",
              "      <td>-1.799425</td>\n",
              "      <td>-0.511144</td>\n",
              "      <td>0.158128</td>\n",
              "      <td>0.0</td>\n",
              "      <td>1.0</td>\n",
              "      <td>0.0</td>\n",
              "      <td>0.0</td>\n",
              "      <td>0.0</td>\n",
              "      <td>0.0</td>\n",
              "      <td>1.0</td>\n",
              "      <td>0.0</td>\n",
              "      <td>0.0</td>\n",
              "      <td>0.0</td>\n",
              "      <td>0.0</td>\n",
              "      <td>0.0</td>\n",
              "      <td>0.0</td>\n",
              "      <td>1.0</td>\n",
              "      <td>0.0</td>\n",
              "      <td>0.0</td>\n",
              "      <td>0.0</td>\n",
              "      <td>0.0</td>\n",
              "      <td>0.0</td>\n",
              "      <td>0.0</td>\n",
              "      <td>0.0</td>\n",
              "      <td>0.0</td>\n",
              "      <td>0.0</td>\n",
              "      <td>1.0</td>\n",
              "      <td>0.0</td>\n",
              "      <td>0.0</td>\n",
              "      <td>1.0</td>\n",
              "      <td>0.0</td>\n",
              "      <td>24.0</td>\n",
              "      <td>10.0</td>\n",
              "    </tr>\n",
              "    <tr>\n",
              "      <th>161077</th>\n",
              "      <td>-0.313755</td>\n",
              "      <td>1.790450</td>\n",
              "      <td>0.942983</td>\n",
              "      <td>-0.562103</td>\n",
              "      <td>-0.336263</td>\n",
              "      <td>0.336569</td>\n",
              "      <td>0.716958</td>\n",
              "      <td>3.429729</td>\n",
              "      <td>-0.208346</td>\n",
              "      <td>-0.896428</td>\n",
              "      <td>0.721352</td>\n",
              "      <td>-0.844087</td>\n",
              "      <td>-0.341655</td>\n",
              "      <td>-0.127989</td>\n",
              "      <td>-0.746144</td>\n",
              "      <td>0.929553</td>\n",
              "      <td>-1.093403</td>\n",
              "      <td>0.574851</td>\n",
              "      <td>0.0</td>\n",
              "      <td>0.0</td>\n",
              "      <td>0.0</td>\n",
              "      <td>0.0</td>\n",
              "      <td>0.0</td>\n",
              "      <td>1.0</td>\n",
              "      <td>0.0</td>\n",
              "      <td>0.0</td>\n",
              "      <td>1.0</td>\n",
              "      <td>0.0</td>\n",
              "      <td>0.0</td>\n",
              "      <td>1.0</td>\n",
              "      <td>0.0</td>\n",
              "      <td>0.0</td>\n",
              "      <td>0.0</td>\n",
              "      <td>0.0</td>\n",
              "      <td>0.0</td>\n",
              "      <td>0.0</td>\n",
              "      <td>0.0</td>\n",
              "      <td>0.0</td>\n",
              "      <td>0.0</td>\n",
              "      <td>0.0</td>\n",
              "      <td>0.0</td>\n",
              "      <td>0.0</td>\n",
              "      <td>1.0</td>\n",
              "      <td>0.0</td>\n",
              "      <td>1.0</td>\n",
              "      <td>0.0</td>\n",
              "      <td>19.0</td>\n",
              "      <td>10.0</td>\n",
              "    </tr>\n",
              "    <tr>\n",
              "      <th>364300</th>\n",
              "      <td>1.181990</td>\n",
              "      <td>1.790450</td>\n",
              "      <td>2.537013</td>\n",
              "      <td>1.085884</td>\n",
              "      <td>0.092620</td>\n",
              "      <td>0.668189</td>\n",
              "      <td>-0.256771</td>\n",
              "      <td>-0.336061</td>\n",
              "      <td>-0.349134</td>\n",
              "      <td>1.452175</td>\n",
              "      <td>2.067552</td>\n",
              "      <td>0.127701</td>\n",
              "      <td>-0.341655</td>\n",
              "      <td>1.424114</td>\n",
              "      <td>0.421730</td>\n",
              "      <td>0.929553</td>\n",
              "      <td>0.071115</td>\n",
              "      <td>0.297035</td>\n",
              "      <td>0.0</td>\n",
              "      <td>1.0</td>\n",
              "      <td>0.0</td>\n",
              "      <td>0.0</td>\n",
              "      <td>0.0</td>\n",
              "      <td>0.0</td>\n",
              "      <td>0.0</td>\n",
              "      <td>0.0</td>\n",
              "      <td>1.0</td>\n",
              "      <td>0.0</td>\n",
              "      <td>0.0</td>\n",
              "      <td>1.0</td>\n",
              "      <td>0.0</td>\n",
              "      <td>0.0</td>\n",
              "      <td>0.0</td>\n",
              "      <td>0.0</td>\n",
              "      <td>0.0</td>\n",
              "      <td>0.0</td>\n",
              "      <td>0.0</td>\n",
              "      <td>0.0</td>\n",
              "      <td>0.0</td>\n",
              "      <td>0.0</td>\n",
              "      <td>0.0</td>\n",
              "      <td>1.0</td>\n",
              "      <td>0.0</td>\n",
              "      <td>0.0</td>\n",
              "      <td>1.0</td>\n",
              "      <td>0.0</td>\n",
              "      <td>28.0</td>\n",
              "      <td>10.0</td>\n",
              "    </tr>\n",
              "    <tr>\n",
              "      <th>27455</th>\n",
              "      <td>1.181990</td>\n",
              "      <td>1.790450</td>\n",
              "      <td>2.154714</td>\n",
              "      <td>0.990711</td>\n",
              "      <td>0.175457</td>\n",
              "      <td>-0.395435</td>\n",
              "      <td>-0.841009</td>\n",
              "      <td>-0.336061</td>\n",
              "      <td>-0.567602</td>\n",
              "      <td>1.505366</td>\n",
              "      <td>0.805490</td>\n",
              "      <td>2.557169</td>\n",
              "      <td>-0.341655</td>\n",
              "      <td>-0.171963</td>\n",
              "      <td>1.005667</td>\n",
              "      <td>-1.117180</td>\n",
              "      <td>-1.093403</td>\n",
              "      <td>0.297035</td>\n",
              "      <td>0.0</td>\n",
              "      <td>1.0</td>\n",
              "      <td>0.0</td>\n",
              "      <td>0.0</td>\n",
              "      <td>0.0</td>\n",
              "      <td>0.0</td>\n",
              "      <td>0.0</td>\n",
              "      <td>0.0</td>\n",
              "      <td>1.0</td>\n",
              "      <td>0.0</td>\n",
              "      <td>0.0</td>\n",
              "      <td>1.0</td>\n",
              "      <td>0.0</td>\n",
              "      <td>0.0</td>\n",
              "      <td>0.0</td>\n",
              "      <td>0.0</td>\n",
              "      <td>0.0</td>\n",
              "      <td>0.0</td>\n",
              "      <td>0.0</td>\n",
              "      <td>0.0</td>\n",
              "      <td>0.0</td>\n",
              "      <td>0.0</td>\n",
              "      <td>0.0</td>\n",
              "      <td>1.0</td>\n",
              "      <td>0.0</td>\n",
              "      <td>0.0</td>\n",
              "      <td>1.0</td>\n",
              "      <td>0.0</td>\n",
              "      <td>26.0</td>\n",
              "      <td>10.0</td>\n",
              "    </tr>\n",
              "    <tr>\n",
              "      <th>262656</th>\n",
              "      <td>0.224713</td>\n",
              "      <td>-0.558519</td>\n",
              "      <td>0.372888</td>\n",
              "      <td>0.498648</td>\n",
              "      <td>-0.555571</td>\n",
              "      <td>0.675953</td>\n",
              "      <td>0.522212</td>\n",
              "      <td>-0.336061</td>\n",
              "      <td>0.324197</td>\n",
              "      <td>0.044649</td>\n",
              "      <td>0.973765</td>\n",
              "      <td>-0.844087</td>\n",
              "      <td>-0.341655</td>\n",
              "      <td>-1.296079</td>\n",
              "      <td>1.297636</td>\n",
              "      <td>-1.117180</td>\n",
              "      <td>1.235633</td>\n",
              "      <td>0.019220</td>\n",
              "      <td>0.0</td>\n",
              "      <td>0.0</td>\n",
              "      <td>0.0</td>\n",
              "      <td>0.0</td>\n",
              "      <td>0.0</td>\n",
              "      <td>1.0</td>\n",
              "      <td>0.0</td>\n",
              "      <td>0.0</td>\n",
              "      <td>1.0</td>\n",
              "      <td>0.0</td>\n",
              "      <td>0.0</td>\n",
              "      <td>1.0</td>\n",
              "      <td>0.0</td>\n",
              "      <td>0.0</td>\n",
              "      <td>0.0</td>\n",
              "      <td>0.0</td>\n",
              "      <td>0.0</td>\n",
              "      <td>0.0</td>\n",
              "      <td>0.0</td>\n",
              "      <td>0.0</td>\n",
              "      <td>0.0</td>\n",
              "      <td>0.0</td>\n",
              "      <td>0.0</td>\n",
              "      <td>0.0</td>\n",
              "      <td>1.0</td>\n",
              "      <td>0.0</td>\n",
              "      <td>1.0</td>\n",
              "      <td>0.0</td>\n",
              "      <td>11.0</td>\n",
              "      <td>0.0</td>\n",
              "    </tr>\n",
              "    <tr>\n",
              "      <th>...</th>\n",
              "      <td>...</td>\n",
              "      <td>...</td>\n",
              "      <td>...</td>\n",
              "      <td>...</td>\n",
              "      <td>...</td>\n",
              "      <td>...</td>\n",
              "      <td>...</td>\n",
              "      <td>...</td>\n",
              "      <td>...</td>\n",
              "      <td>...</td>\n",
              "      <td>...</td>\n",
              "      <td>...</td>\n",
              "      <td>...</td>\n",
              "      <td>...</td>\n",
              "      <td>...</td>\n",
              "      <td>...</td>\n",
              "      <td>...</td>\n",
              "      <td>...</td>\n",
              "      <td>...</td>\n",
              "      <td>...</td>\n",
              "      <td>...</td>\n",
              "      <td>...</td>\n",
              "      <td>...</td>\n",
              "      <td>...</td>\n",
              "      <td>...</td>\n",
              "      <td>...</td>\n",
              "      <td>...</td>\n",
              "      <td>...</td>\n",
              "      <td>...</td>\n",
              "      <td>...</td>\n",
              "      <td>...</td>\n",
              "      <td>...</td>\n",
              "      <td>...</td>\n",
              "      <td>...</td>\n",
              "      <td>...</td>\n",
              "      <td>...</td>\n",
              "      <td>...</td>\n",
              "      <td>...</td>\n",
              "      <td>...</td>\n",
              "      <td>...</td>\n",
              "      <td>...</td>\n",
              "      <td>...</td>\n",
              "      <td>...</td>\n",
              "      <td>...</td>\n",
              "      <td>...</td>\n",
              "      <td>...</td>\n",
              "      <td>...</td>\n",
              "      <td>...</td>\n",
              "    </tr>\n",
              "    <tr>\n",
              "      <th>17333</th>\n",
              "      <td>0.894807</td>\n",
              "      <td>-0.558519</td>\n",
              "      <td>1.204556</td>\n",
              "      <td>1.436104</td>\n",
              "      <td>0.744034</td>\n",
              "      <td>-0.425936</td>\n",
              "      <td>-0.841009</td>\n",
              "      <td>-0.336061</td>\n",
              "      <td>-0.295938</td>\n",
              "      <td>1.124843</td>\n",
              "      <td>-1.129673</td>\n",
              "      <td>-0.358193</td>\n",
              "      <td>-0.341655</td>\n",
              "      <td>0.548769</td>\n",
              "      <td>1.589605</td>\n",
              "      <td>-1.799425</td>\n",
              "      <td>-0.802274</td>\n",
              "      <td>0.435943</td>\n",
              "      <td>0.0</td>\n",
              "      <td>0.0</td>\n",
              "      <td>0.0</td>\n",
              "      <td>0.0</td>\n",
              "      <td>0.0</td>\n",
              "      <td>1.0</td>\n",
              "      <td>0.0</td>\n",
              "      <td>1.0</td>\n",
              "      <td>0.0</td>\n",
              "      <td>0.0</td>\n",
              "      <td>0.0</td>\n",
              "      <td>1.0</td>\n",
              "      <td>0.0</td>\n",
              "      <td>0.0</td>\n",
              "      <td>0.0</td>\n",
              "      <td>0.0</td>\n",
              "      <td>0.0</td>\n",
              "      <td>0.0</td>\n",
              "      <td>0.0</td>\n",
              "      <td>0.0</td>\n",
              "      <td>0.0</td>\n",
              "      <td>0.0</td>\n",
              "      <td>0.0</td>\n",
              "      <td>1.0</td>\n",
              "      <td>0.0</td>\n",
              "      <td>0.0</td>\n",
              "      <td>1.0</td>\n",
              "      <td>0.0</td>\n",
              "      <td>21.0</td>\n",
              "      <td>7.0</td>\n",
              "    </tr>\n",
              "    <tr>\n",
              "      <th>73476</th>\n",
              "      <td>-0.971882</td>\n",
              "      <td>-0.558519</td>\n",
              "      <td>0.001768</td>\n",
              "      <td>-0.909530</td>\n",
              "      <td>-0.425610</td>\n",
              "      <td>-0.113170</td>\n",
              "      <td>-0.841009</td>\n",
              "      <td>-0.336061</td>\n",
              "      <td>-0.316050</td>\n",
              "      <td>1.407167</td>\n",
              "      <td>-0.793123</td>\n",
              "      <td>-0.844087</td>\n",
              "      <td>-0.341655</td>\n",
              "      <td>-0.441706</td>\n",
              "      <td>-0.746144</td>\n",
              "      <td>0.247309</td>\n",
              "      <td>0.944503</td>\n",
              "      <td>-0.119688</td>\n",
              "      <td>0.0</td>\n",
              "      <td>0.0</td>\n",
              "      <td>0.0</td>\n",
              "      <td>0.0</td>\n",
              "      <td>1.0</td>\n",
              "      <td>0.0</td>\n",
              "      <td>0.0</td>\n",
              "      <td>1.0</td>\n",
              "      <td>0.0</td>\n",
              "      <td>0.0</td>\n",
              "      <td>1.0</td>\n",
              "      <td>0.0</td>\n",
              "      <td>0.0</td>\n",
              "      <td>0.0</td>\n",
              "      <td>0.0</td>\n",
              "      <td>0.0</td>\n",
              "      <td>0.0</td>\n",
              "      <td>0.0</td>\n",
              "      <td>0.0</td>\n",
              "      <td>0.0</td>\n",
              "      <td>0.0</td>\n",
              "      <td>0.0</td>\n",
              "      <td>0.0</td>\n",
              "      <td>0.0</td>\n",
              "      <td>1.0</td>\n",
              "      <td>0.0</td>\n",
              "      <td>1.0</td>\n",
              "      <td>0.0</td>\n",
              "      <td>10.0</td>\n",
              "      <td>2.0</td>\n",
              "    </tr>\n",
              "    <tr>\n",
              "      <th>381929</th>\n",
              "      <td>-0.493244</td>\n",
              "      <td>-0.558519</td>\n",
              "      <td>-0.999811</td>\n",
              "      <td>-0.451851</td>\n",
              "      <td>0.341156</td>\n",
              "      <td>-0.580655</td>\n",
              "      <td>-0.841009</td>\n",
              "      <td>-0.336061</td>\n",
              "      <td>-0.259405</td>\n",
              "      <td>1.505366</td>\n",
              "      <td>-0.624848</td>\n",
              "      <td>-0.844087</td>\n",
              "      <td>-0.341655</td>\n",
              "      <td>-1.128149</td>\n",
              "      <td>0.421730</td>\n",
              "      <td>0.929553</td>\n",
              "      <td>-1.093403</td>\n",
              "      <td>0.713759</td>\n",
              "      <td>0.0</td>\n",
              "      <td>0.0</td>\n",
              "      <td>0.0</td>\n",
              "      <td>0.0</td>\n",
              "      <td>0.0</td>\n",
              "      <td>1.0</td>\n",
              "      <td>0.0</td>\n",
              "      <td>1.0</td>\n",
              "      <td>0.0</td>\n",
              "      <td>0.0</td>\n",
              "      <td>0.0</td>\n",
              "      <td>1.0</td>\n",
              "      <td>0.0</td>\n",
              "      <td>0.0</td>\n",
              "      <td>0.0</td>\n",
              "      <td>0.0</td>\n",
              "      <td>0.0</td>\n",
              "      <td>0.0</td>\n",
              "      <td>0.0</td>\n",
              "      <td>0.0</td>\n",
              "      <td>0.0</td>\n",
              "      <td>0.0</td>\n",
              "      <td>0.0</td>\n",
              "      <td>1.0</td>\n",
              "      <td>0.0</td>\n",
              "      <td>0.0</td>\n",
              "      <td>1.0</td>\n",
              "      <td>0.0</td>\n",
              "      <td>6.0</td>\n",
              "      <td>2.0</td>\n",
              "    </tr>\n",
              "    <tr>\n",
              "      <th>185231</th>\n",
              "      <td>-1.091542</td>\n",
              "      <td>-0.558519</td>\n",
              "      <td>-1.051231</td>\n",
              "      <td>-1.089785</td>\n",
              "      <td>-0.636731</td>\n",
              "      <td>-0.131470</td>\n",
              "      <td>-0.451517</td>\n",
              "      <td>-0.336061</td>\n",
              "      <td>-0.592427</td>\n",
              "      <td>-1.792498</td>\n",
              "      <td>-0.540710</td>\n",
              "      <td>-0.358193</td>\n",
              "      <td>-0.341655</td>\n",
              "      <td>-1.296079</td>\n",
              "      <td>0.713699</td>\n",
              "      <td>-3.163914</td>\n",
              "      <td>0.071115</td>\n",
              "      <td>0.713759</td>\n",
              "      <td>0.0</td>\n",
              "      <td>0.0</td>\n",
              "      <td>0.0</td>\n",
              "      <td>0.0</td>\n",
              "      <td>0.0</td>\n",
              "      <td>1.0</td>\n",
              "      <td>1.0</td>\n",
              "      <td>0.0</td>\n",
              "      <td>0.0</td>\n",
              "      <td>0.0</td>\n",
              "      <td>0.0</td>\n",
              "      <td>1.0</td>\n",
              "      <td>0.0</td>\n",
              "      <td>0.0</td>\n",
              "      <td>0.0</td>\n",
              "      <td>0.0</td>\n",
              "      <td>0.0</td>\n",
              "      <td>0.0</td>\n",
              "      <td>0.0</td>\n",
              "      <td>0.0</td>\n",
              "      <td>0.0</td>\n",
              "      <td>0.0</td>\n",
              "      <td>0.0</td>\n",
              "      <td>1.0</td>\n",
              "      <td>0.0</td>\n",
              "      <td>0.0</td>\n",
              "      <td>1.0</td>\n",
              "      <td>0.0</td>\n",
              "      <td>4.0</td>\n",
              "      <td>3.0</td>\n",
              "    </tr>\n",
              "    <tr>\n",
              "      <th>32463</th>\n",
              "      <td>1.301649</td>\n",
              "      <td>-0.558519</td>\n",
              "      <td>-0.145786</td>\n",
              "      <td>1.636064</td>\n",
              "      <td>0.386643</td>\n",
              "      <td>-0.000042</td>\n",
              "      <td>1.495942</td>\n",
              "      <td>-0.336061</td>\n",
              "      <td>0.556122</td>\n",
              "      <td>-1.039636</td>\n",
              "      <td>1.478590</td>\n",
              "      <td>0.613595</td>\n",
              "      <td>-0.341655</td>\n",
              "      <td>-0.441706</td>\n",
              "      <td>1.297636</td>\n",
              "      <td>0.247309</td>\n",
              "      <td>1.235633</td>\n",
              "      <td>-0.814227</td>\n",
              "      <td>0.0</td>\n",
              "      <td>1.0</td>\n",
              "      <td>0.0</td>\n",
              "      <td>0.0</td>\n",
              "      <td>0.0</td>\n",
              "      <td>0.0</td>\n",
              "      <td>0.0</td>\n",
              "      <td>0.0</td>\n",
              "      <td>1.0</td>\n",
              "      <td>0.0</td>\n",
              "      <td>0.0</td>\n",
              "      <td>1.0</td>\n",
              "      <td>0.0</td>\n",
              "      <td>0.0</td>\n",
              "      <td>0.0</td>\n",
              "      <td>0.0</td>\n",
              "      <td>0.0</td>\n",
              "      <td>0.0</td>\n",
              "      <td>0.0</td>\n",
              "      <td>0.0</td>\n",
              "      <td>0.0</td>\n",
              "      <td>0.0</td>\n",
              "      <td>0.0</td>\n",
              "      <td>0.0</td>\n",
              "      <td>1.0</td>\n",
              "      <td>0.0</td>\n",
              "      <td>1.0</td>\n",
              "      <td>0.0</td>\n",
              "      <td>10.0</td>\n",
              "      <td>10.0</td>\n",
              "    </tr>\n",
              "  </tbody>\n",
              "</table>\n",
              "<p>98805 rows × 48 columns</p>\n",
              "</div>"
            ],
            "text/plain": [
              "        loan_amnt      term  int_rate  ...  x4_JOINT  sub_grade  emp_length\n",
              "251122  -0.253925  1.790450  1.352110  ...       0.0       24.0        10.0\n",
              "161077  -0.313755  1.790450  0.942983  ...       0.0       19.0        10.0\n",
              "364300   1.181990  1.790450  2.537013  ...       0.0       28.0        10.0\n",
              "27455    1.181990  1.790450  2.154714  ...       0.0       26.0        10.0\n",
              "262656   0.224713 -0.558519  0.372888  ...       0.0       11.0         0.0\n",
              "...           ...       ...       ...  ...       ...        ...         ...\n",
              "17333    0.894807 -0.558519  1.204556  ...       0.0       21.0         7.0\n",
              "73476   -0.971882 -0.558519  0.001768  ...       0.0       10.0         2.0\n",
              "381929  -0.493244 -0.558519 -0.999811  ...       0.0        6.0         2.0\n",
              "185231  -1.091542 -0.558519 -1.051231  ...       0.0        4.0         3.0\n",
              "32463    1.301649 -0.558519 -0.145786  ...       0.0       10.0        10.0\n",
              "\n",
              "[98805 rows x 48 columns]"
            ]
          },
          "metadata": {},
          "execution_count": 43
        }
      ]
    },
    {
      "cell_type": "code",
      "metadata": {
        "colab": {
          "base_uri": "https://localhost:8080/"
        },
        "id": "AqwLMicj49-Z",
        "outputId": "fa62d1b7-8e85-49ff-dd95-3f8cd7cfd06f"
      },
      "source": [
        "ytest"
      ],
      "execution_count": null,
      "outputs": [
        {
          "output_type": "execute_result",
          "data": {
            "text/plain": [
              "251122    Charged Off\n",
              "161077     Fully Paid\n",
              "364300     Fully Paid\n",
              "27455      Fully Paid\n",
              "262656     Fully Paid\n",
              "             ...     \n",
              "17333      Fully Paid\n",
              "73476      Fully Paid\n",
              "381929     Fully Paid\n",
              "185231     Fully Paid\n",
              "32463      Fully Paid\n",
              "Name: loan_status, Length: 98805, dtype: object"
            ]
          },
          "metadata": {},
          "execution_count": 44
        }
      ]
    },
    {
      "cell_type": "markdown",
      "metadata": {
        "id": "vK5qAX4f08TG"
      },
      "source": [
        "#train the models"
      ]
    },
    {
      "cell_type": "markdown",
      "metadata": {
        "id": "bhWqm3xi8P_a"
      },
      "source": [
        "##SGDClassifier"
      ]
    },
    {
      "cell_type": "code",
      "metadata": {
        "id": "HT2z4QPU0_Hh"
      },
      "source": [
        "from sklearn.linear_model import SGDClassifier"
      ],
      "execution_count": null,
      "outputs": []
    },
    {
      "cell_type": "code",
      "metadata": {
        "id": "atKGOxav1Ihs"
      },
      "source": [
        "sgd_clf=SGDClassifier()"
      ],
      "execution_count": null,
      "outputs": []
    },
    {
      "cell_type": "code",
      "metadata": {
        "colab": {
          "base_uri": "https://localhost:8080/"
        },
        "id": "YJGriytT3G6r",
        "outputId": "9985ea85-49f0-48bb-c714-3eefbb279f46"
      },
      "source": [
        "sgd_clf.fit(xtrain,ytrain)"
      ],
      "execution_count": null,
      "outputs": [
        {
          "output_type": "execute_result",
          "data": {
            "text/plain": [
              "SGDClassifier()"
            ]
          },
          "metadata": {},
          "execution_count": 47
        }
      ]
    },
    {
      "cell_type": "code",
      "metadata": {
        "id": "OsXzuHHS4j4H",
        "colab": {
          "base_uri": "https://localhost:8080/"
        },
        "outputId": "6da7ff75-7be7-4001-d884-16f6bee746c0"
      },
      "source": [
        "from sklearn.model_selection import cross_val_score\n",
        "sgd_clf_score=cross_val_score(sgd_clf, xtrain, ytrain, cv=6, scoring=\"accuracy\")\n",
        "sgd_clf_score.mean()"
      ],
      "execution_count": null,
      "outputs": [
        {
          "output_type": "execute_result",
          "data": {
            "text/plain": [
              "0.8290093931656934"
            ]
          },
          "metadata": {},
          "execution_count": 48
        }
      ]
    },
    {
      "cell_type": "code",
      "metadata": {
        "id": "fULeCOnc5Oaj"
      },
      "source": [
        "from sklearn.model_selection import cross_val_predict\n",
        "sgd_clf_pred=cross_val_predict(sgd_clf, xtrain, ytrain, cv=6,)\n"
      ],
      "execution_count": null,
      "outputs": []
    },
    {
      "cell_type": "code",
      "metadata": {
        "id": "ExYX-b9zsd_K"
      },
      "source": [
        "import itertools\n",
        "from sklearn.metrics import confusion_matrix\n",
        "\n",
        "\n",
        "def plot_confusion_matrix(cm, classes,\n",
        "                        normalize=False,\n",
        "                        title='Confusion matrix',\n",
        "                        cmap=plt.cm.Blues):\n",
        "    \"\"\"\n",
        "    This function prints and plots the confusion matrix.\n",
        "    Normalization can be applied by setting `normalize=True`.\n",
        "    \"\"\"\n",
        "    plt.imshow(cm, interpolation='nearest', cmap=cmap)\n",
        "    plt.title(title)\n",
        "    plt.colorbar()\n",
        "    tick_marks = np.arange(len(classes))\n",
        "    plt.xticks(tick_marks, classes, rotation=45)\n",
        "    plt.yticks(tick_marks, classes)\n",
        "\n",
        "    if normalize:\n",
        "        cm = cm.astype('float') / cm.sum(axis=1)[:, np.newaxis]\n",
        "        print(\"Normalized confusion matrix\")\n",
        "    else:\n",
        "        print('Confusion matrix, without normalization')\n",
        "\n",
        "    print(cm)\n",
        "\n",
        "    thresh = cm.max() / 2.\n",
        "    for i, j in itertools.product(range(cm.shape[0]), range(cm.shape[1])):\n",
        "        plt.text(j, i, cm[i, j],\n",
        "            horizontalalignment=\"center\",\n",
        "            color=\"white\" if cm[i, j] > thresh else \"black\")\n",
        "\n",
        "    plt.tight_layout()\n",
        "    plt.ylabel('True label')\n",
        "    plt.xlabel('Predicted label')"
      ],
      "execution_count": null,
      "outputs": []
    },
    {
      "cell_type": "code",
      "metadata": {
        "colab": {
          "base_uri": "https://localhost:8080/"
        },
        "id": "Yjg272IYc-oS",
        "outputId": "41c9d01b-6558-4d16-a60d-3a23998b684e"
      },
      "source": [
        "from sklearn.metrics import classification_report\n",
        "print(classification_report(ytrain,sgd_clf_pred))"
      ],
      "execution_count": null,
      "outputs": [
        {
          "output_type": "stream",
          "name": "stdout",
          "text": [
            "              precision    recall  f1-score   support\n",
            "\n",
            " Charged Off       0.64      0.28      0.39     62102\n",
            "  Fully Paid       0.85      0.96      0.90    254073\n",
            "\n",
            "    accuracy                           0.83    316175\n",
            "   macro avg       0.74      0.62      0.65    316175\n",
            "weighted avg       0.81      0.83      0.80    316175\n",
            "\n"
          ]
        }
      ]
    },
    {
      "cell_type": "code",
      "metadata": {
        "id": "JGum-fvUgUif"
      },
      "source": [
        "cm=confusion_matrix(ytrain,sgd_clf_pred)"
      ],
      "execution_count": null,
      "outputs": []
    },
    {
      "cell_type": "code",
      "metadata": {
        "colab": {
          "base_uri": "https://localhost:8080/",
          "height": 365
        },
        "id": "xRrWQE7qga7t",
        "outputId": "4eabe0f2-3de4-42bb-cd3e-fdc76ec01807"
      },
      "source": [
        " plot_confusion_matrix(cm,classes=['charge off','fully paid'])"
      ],
      "execution_count": null,
      "outputs": [
        {
          "output_type": "stream",
          "name": "stdout",
          "text": [
            "Confusion matrix, without normalization\n",
            "[[ 17478  44624]\n",
            " [  9711 244362]]\n"
          ]
        },
        {
          "output_type": "display_data",
          "data": {
            "image/png": "[encoded data removed]",
            "text/plain": [
              "<Figure size 432x288 with 2 Axes>"
            ]
          },
          "metadata": {
            "needs_background": "light"
          }
        }
      ]
    },
    {
      "cell_type": "code",
      "metadata": {
        "id": "36ijsxWBKufX"
      },
      "source": [
        "sgd_yest_predictions = sgd_clf.predict(xtest)"
      ],
      "execution_count": null,
      "outputs": []
    },
    {
      "cell_type": "code",
      "metadata": {
        "colab": {
          "base_uri": "https://localhost:8080/"
        },
        "id": "HR2CJ33mcEfZ",
        "outputId": "f2c8b8c0-38b4-4d62-afbd-ea5ee78483a8"
      },
      "source": [
        "from sklearn.metrics import classification_report\n",
        "print(classification_report(ytest,sgd_yest_predictions))"
      ],
      "execution_count": null,
      "outputs": [
        {
          "output_type": "stream",
          "name": "stdout",
          "text": [
            "              precision    recall  f1-score   support\n",
            "\n",
            " Charged Off       0.75      0.26      0.38     15421\n",
            "  Fully Paid       0.84      0.98      0.91     63623\n",
            "\n",
            "    accuracy                           0.84     79044\n",
            "   macro avg       0.80      0.62      0.65     79044\n",
            "weighted avg       0.83      0.84      0.81     79044\n",
            "\n"
          ]
        }
      ]
    },
    {
      "cell_type": "markdown",
      "metadata": {
        "id": "xIMi-P4G8LG3"
      },
      "source": [
        "##RandomForestClassifier"
      ]
    },
    {
      "cell_type": "code",
      "metadata": {
        "id": "lB7nofxX8JLV"
      },
      "source": [
        "from sklearn.ensemble import RandomForestClassifier\n",
        "rand_forst_clf=RandomForestClassifier(max_depth=20, max_samples=1.0,\n",
        "                       min_samples_split=20, n_estimators=500, n_jobs=-1)"
      ],
      "execution_count": null,
      "outputs": []
    },
    {
      "cell_type": "code",
      "metadata": {
        "id": "1EDqXrCwHPSE"
      },
      "source": [
        "#from sklearn.model_selection import RandomizedSearchCV\n",
        "#\n",
        "#rand_param = {\n",
        "#    'bootstrap': [True],\n",
        "#    'max_depth': [80, 90, 100, 110],\n",
        "#    'max_features': [2, 3],\n",
        "#    'min_samples_leaf': [3, 4, 5],\n",
        "#    'min_samples_split': [8, 10, 12],\n",
        "#    'n_estimators': [100, 200, 300, 1000]\n",
        "#}\n",
        "#\n",
        "#rand_search=RandomizedSearchCV(rand_forst_clf,rand_param,cv=5,scoring=\"accuracy\",return_train_score=True)\n",
        "#rand_search.fit(xtrain,ytrain)"
      ],
      "execution_count": null,
      "outputs": []
    },
    {
      "cell_type": "code",
      "metadata": {
        "colab": {
          "base_uri": "https://localhost:8080/"
        },
        "id": "SvRI_0ZV8YYz",
        "outputId": "50b522c1-6bf8-46d1-fd15-52683ee63099"
      },
      "source": [
        "rand_forst_clf.fit(xtrain,ytrain)"
      ],
      "execution_count": null,
      "outputs": [
        {
          "output_type": "execute_result",
          "data": {
            "text/plain": [
              "RandomForestClassifier()"
            ]
          },
          "metadata": {},
          "execution_count": 41
        }
      ]
    },
    {
      "cell_type": "code",
      "metadata": {
        "id": "RjOHiQFr8gmE",
        "colab": {
          "base_uri": "https://localhost:8080/"
        },
        "outputId": "44a6f864-be01-4bce-9e69-baf1c5e8945a"
      },
      "source": [
        "from sklearn.model_selection import cross_val_score\n",
        "rand_forst_clf_score=cross_val_score(rand_forst_clf, xtrain, ytrain, cv=7, scoring=\"accuracy\")\n",
        "rand_forst_clf_score.mean()"
      ],
      "execution_count": null,
      "outputs": [
        {
          "output_type": "execute_result",
          "data": {
            "text/plain": [
              "0.8050766851863905"
            ]
          },
          "metadata": {},
          "execution_count": 42
        }
      ]
    },
    {
      "cell_type": "code",
      "metadata": {
        "id": "uFzNZ4IVvCFH"
      },
      "source": [
        "from sklearn.model_selection import cross_val_predict\n",
        "rand_train_pred = cross_val_predict(rand_forst_clf, xtrain, ytrain, cv=5)"
      ],
      "execution_count": null,
      "outputs": []
    },
    {
      "cell_type": "code",
      "metadata": {
        "colab": {
          "base_uri": "https://localhost:8080/"
        },
        "id": "RPYF2Zkj84CX",
        "outputId": "65823e26-412c-4921-fef0-fc95bcab779a"
      },
      "source": [
        "print(classification_report(ytrain,rand_train_pred))"
      ],
      "execution_count": null,
      "outputs": [
        {
          "output_type": "stream",
          "name": "stdout",
          "text": [
            "              precision    recall  f1-score   support\n",
            "\n",
            " Charged Off       0.94      0.45      0.60     62102\n",
            "  Fully Paid       0.88      0.99      0.93    254073\n",
            "\n",
            "    accuracy                           0.89    316175\n",
            "   macro avg       0.91      0.72      0.77    316175\n",
            "weighted avg       0.89      0.89      0.87    316175\n",
            "\n"
          ]
        }
      ]
    },
    {
      "cell_type": "code",
      "metadata": {
        "id": "zu0l73Oas74t"
      },
      "source": [
        "cm=confusion_matrix(ytrain,rand_train_pred)"
      ],
      "execution_count": null,
      "outputs": []
    },
    {
      "cell_type": "code",
      "metadata": {
        "colab": {
          "base_uri": "https://localhost:8080/",
          "height": 365
        },
        "id": "OHpoMoavsf9H",
        "outputId": "540d5c0d-fde5-440d-b175-184362e5ee46"
      },
      "source": [
        "plot_confusion_matrix(cm,classes=['charge off','fully paid'])"
      ],
      "execution_count": null,
      "outputs": [
        {
          "output_type": "stream",
          "name": "stdout",
          "text": [
            "Confusion matrix, without normalization\n",
            "[[ 27664  34438]\n",
            " [  1844 252229]]\n"
          ]
        },
        {
          "output_type": "display_data",
          "data": {
            "image/png": "[encoded data removed]",
            "text/plain": [
              "<Figure size 432x288 with 2 Axes>"
            ]
          },
          "metadata": {
            "needs_background": "light"
          }
        }
      ]
    },
    {
      "cell_type": "code",
      "metadata": {
        "id": "gVsUQcndyfyS"
      },
      "source": [
        "rand_forst_test_pred=rand_forst_clf.predict(xtest)"
      ],
      "execution_count": null,
      "outputs": []
    },
    {
      "cell_type": "code",
      "metadata": {
        "colab": {
          "base_uri": "https://localhost:8080/"
        },
        "id": "0PipWoCdypGf",
        "outputId": "42c3e57d-4bda-41c6-eb0f-9d27d0b855b4"
      },
      "source": [
        "accuracy_score(ytest,rand_forst_test_pred)"
      ],
      "execution_count": null,
      "outputs": [
        {
          "output_type": "execute_result",
          "data": {
            "text/plain": [
              "0.8853296897930266"
            ]
          },
          "metadata": {},
          "execution_count": 173
        }
      ]
    },
    {
      "cell_type": "markdown",
      "metadata": {
        "id": "y70VewZVyUvd"
      },
      "source": [
        "##DecisionTreeClassifier"
      ]
    },
    {
      "cell_type": "code",
      "metadata": {
        "colab": {
          "base_uri": "https://localhost:8080/"
        },
        "id": "b_JXrT8LyTdV",
        "outputId": "69459916-12c3-4613-dd27-18e0fab9877e"
      },
      "source": [
        "from sklearn.tree import DecisionTreeClassifier\n",
        "tree_clf=DecisionTreeClassifier()\n",
        "tree_clf.fit(xtrain,ytrain)"
      ],
      "execution_count": null,
      "outputs": [
        {
          "output_type": "execute_result",
          "data": {
            "text/plain": [
              "DecisionTreeClassifier()"
            ]
          },
          "metadata": {},
          "execution_count": 84
        }
      ]
    },
    {
      "cell_type": "code",
      "metadata": {
        "colab": {
          "base_uri": "https://localhost:8080/"
        },
        "id": "9_aY53qYzP9O",
        "outputId": "ecee6d31-102c-474e-ca2d-6e6bffef3611"
      },
      "source": [
        "tree_clf_score=cross_val_score(tree_clf, xtrain, ytrain, cv=6, scoring=\"accuracy\")\n",
        "tree_clf_score.mean()"
      ],
      "execution_count": null,
      "outputs": [
        {
          "output_type": "execute_result",
          "data": {
            "text/plain": [
              "0.8327575660495339"
            ]
          },
          "metadata": {},
          "execution_count": 85
        }
      ]
    },
    {
      "cell_type": "markdown",
      "metadata": {
        "id": "LZvqv9I81L1N"
      },
      "source": [
        "##KNeighborsClassifier"
      ]
    },
    {
      "cell_type": "code",
      "metadata": {
        "id": "SZ49HKIQ1LgA"
      },
      "source": [
        "from sklearn.neighbors import KNeighborsClassifier"
      ],
      "execution_count": null,
      "outputs": []
    },
    {
      "cell_type": "code",
      "metadata": {
        "id": "GClfQ1721LSS"
      },
      "source": [
        "knn_clf=KNeighborsClassifier()"
      ],
      "execution_count": null,
      "outputs": []
    },
    {
      "cell_type": "code",
      "metadata": {
        "colab": {
          "base_uri": "https://localhost:8080/"
        },
        "id": "MQkrUvEd1VVx",
        "outputId": "b6227690-85f8-4980-e156-c681f7ecb57b"
      },
      "source": [
        "knn_clf.fit(xtrain, ytrain)"
      ],
      "execution_count": null,
      "outputs": [
        {
          "output_type": "execute_result",
          "data": {
            "text/plain": [
              "KNeighborsClassifier()"
            ]
          },
          "metadata": {},
          "execution_count": 79
        }
      ]
    },
    {
      "cell_type": "code",
      "metadata": {
        "id": "29NFNgTk1nrA"
      },
      "source": [
        "knn_clf_score=cross_val_score(knn_clf, xtrain, ytrain, cv=5, scoring=\"accuracy\")\n",
        "knn_clf_score.mean()"
      ],
      "execution_count": null,
      "outputs": []
    },
    {
      "cell_type": "code",
      "metadata": {
        "colab": {
          "base_uri": "https://localhost:8080/"
        },
        "id": "PPpgPfbo-Vpz",
        "outputId": "d00c822d-ee4d-498d-b7f8-2d7c27a90407"
      },
      "source": [
        "knn_clf_score.mean()"
      ],
      "execution_count": null,
      "outputs": [
        {
          "output_type": "execute_result",
          "data": {
            "text/plain": [
              "0.7775321542784652"
            ]
          },
          "metadata": {},
          "execution_count": 98
        }
      ]
    },
    {
      "cell_type": "code",
      "metadata": {
        "id": "AW7qRO1EB1_Y"
      },
      "source": [
        ""
      ],
      "execution_count": null,
      "outputs": []
    },
    {
      "cell_type": "markdown",
      "metadata": {
        "id": "b_TxNU8bDTtx"
      },
      "source": [
        "##XGBClassifier"
      ]
    },
    {
      "cell_type": "code",
      "metadata": {
        "id": "qFATq8qTC9r-"
      },
      "source": [
        "from xgboost import XGBClassifier"
      ],
      "execution_count": null,
      "outputs": []
    },
    {
      "cell_type": "code",
      "metadata": {
        "id": "1SZPN4VrC71g"
      },
      "source": [
        "xgb_clf = XGBClassifier()"
      ],
      "execution_count": null,
      "outputs": []
    },
    {
      "cell_type": "code",
      "metadata": {
        "id": "umwxZwx9vcu7"
      },
      "source": [
        "grid_param=[{'max_depth':[5,6],\"learning_rate\":[0.001,0.01],'gamma':[0.1,0.2,0.3]}]\n",
        "            "
      ],
      "execution_count": null,
      "outputs": []
    },
    {
      "cell_type": "code",
      "metadata": {
        "id": "uWrAO9F5xSg5"
      },
      "source": [
        "from sklearn.model_selection import GridSearchCV\n"
      ],
      "execution_count": null,
      "outputs": []
    },
    {
      "cell_type": "code",
      "metadata": {
        "id": "sLWwhfBoxYCT"
      },
      "source": [
        "grid_search=GridSearchCV(xgb_clf,grid_param,cv=5,scoring='accuracy',return_train_score=True)"
      ],
      "execution_count": null,
      "outputs": []
    },
    {
      "cell_type": "code",
      "metadata": {
        "colab": {
          "base_uri": "https://localhost:8080/"
        },
        "id": "Maio5TwHDY3P",
        "outputId": "c6c83da0-5161-4996-b314-5b9dbad7ac9a"
      },
      "source": [
        "grid_search.fit(xtrain,ytrain)"
      ],
      "execution_count": null,
      "outputs": [
        {
          "output_type": "execute_result",
          "data": {
            "text/plain": [
              "GridSearchCV(cv=5, estimator=XGBClassifier(),\n",
              "             param_grid=[{'gamma': [0.1, 0.2, 0.3],\n",
              "                          'learning_rate': [0.001, 0.01],\n",
              "                          'max_depth': [5, 6]}],\n",
              "             return_train_score=True, scoring='accuracy')"
            ]
          },
          "metadata": {},
          "execution_count": 64
        }
      ]
    },
    {
      "cell_type": "code",
      "metadata": {
        "colab": {
          "base_uri": "https://localhost:8080/"
        },
        "id": "GeyazMj8CiNz",
        "outputId": "7a790891-c7df-489f-b73f-55971154f3ef"
      },
      "source": [
        "grid_search.best_estimator_"
      ],
      "execution_count": null,
      "outputs": [
        {
          "output_type": "execute_result",
          "data": {
            "text/plain": [
              "XGBClassifier(gamma=0.1, learning_rate=0.01, max_depth=6)"
            ]
          },
          "metadata": {},
          "execution_count": 68
        }
      ]
    },
    {
      "cell_type": "code",
      "metadata": {
        "id": "jEU-8aRaFR3A",
        "colab": {
          "base_uri": "https://localhost:8080/"
        },
        "outputId": "a2d8eeeb-c9fc-45a0-a98b-621c47b5a89d"
      },
      "source": [
        "xgb_clf.fit(xtrain,ytrain)"
      ],
      "execution_count": null,
      "outputs": [
        {
          "output_type": "execute_result",
          "data": {
            "text/plain": [
              "XGBClassifier()"
            ]
          },
          "metadata": {},
          "execution_count": 168
        }
      ]
    },
    {
      "cell_type": "code",
      "metadata": {
        "colab": {
          "base_uri": "https://localhost:8080/"
        },
        "id": "ONUAxviKD9jr",
        "outputId": "abf57342-1100-4957-bbef-eb9bcb734cfb"
      },
      "source": [
        "xgb_clf_score=cross_val_score(xgb_clf, xtrain, ytrain, cv=5, scoring=\"accuracy\")\n",
        "xgb_clf_score.mean()"
      ],
      "execution_count": null,
      "outputs": [
        {
          "output_type": "execute_result",
          "data": {
            "text/plain": [
              "0.8888345343489314"
            ]
          },
          "metadata": {},
          "execution_count": 164
        }
      ]
    },
    {
      "cell_type": "code",
      "metadata": {
        "id": "Y5-i18vZDfjE"
      },
      "source": [
        "best_model=grid_search.best_estimator_"
      ],
      "execution_count": null,
      "outputs": []
    },
    {
      "cell_type": "code",
      "metadata": {
        "id": "USD6OiBOuAx7"
      },
      "source": [
        "xgb_clf_pred=xgb_clf.predict(xtest)"
      ],
      "execution_count": null,
      "outputs": []
    },
    {
      "cell_type": "code",
      "metadata": {
        "colab": {
          "base_uri": "https://localhost:8080/"
        },
        "id": "VM5LuNKFungu",
        "outputId": "8e4ec44d-58be-4631-c006-80eb03d93abf"
      },
      "source": [
        "from sklearn.metrics import accuracy_score\n",
        "accuracy_score(ytest,xgb_clf_pred)"
      ],
      "execution_count": null,
      "outputs": [
        {
          "output_type": "execute_result",
          "data": {
            "text/plain": [
              "0.889590607762765"
            ]
          },
          "metadata": {},
          "execution_count": 171
        }
      ]
    },
    {
      "cell_type": "code",
      "metadata": {
        "id": "502ZDGMUFI6O"
      },
      "source": [
        ""
      ],
      "execution_count": null,
      "outputs": []
    },
    {
      "cell_type": "code",
      "metadata": {
        "id": "wVvaxwjKFYla"
      },
      "source": [
        ""
      ],
      "execution_count": null,
      "outputs": []
    },
    {
      "cell_type": "markdown",
      "metadata": {
        "id": "uOKiqfohFZDn"
      },
      "source": [
        "##ANN"
      ]
    },
    {
      "cell_type": "code",
      "metadata": {
        "id": "AYEh6vTgN8US"
      },
      "source": [
        "ytrain=ytrain.replace({'Fully Paid':1,'Charged Off':0})"
      ],
      "execution_count": null,
      "outputs": []
    },
    {
      "cell_type": "code",
      "metadata": {
        "id": "xXIQOUPB7QUE"
      },
      "source": [
        "test_y=ytest.replace({'Fully Paid':1,'Charged Off':0})"
      ],
      "execution_count": null,
      "outputs": []
    },
    {
      "cell_type": "code",
      "metadata": {
        "id": "wRZ-4zIXI0Rp"
      },
      "source": [
        "train_x=xtrain.to_numpy()\n",
        "test_x=xtest.to_numpy()"
      ],
      "execution_count": null,
      "outputs": []
    },
    {
      "cell_type": "code",
      "source": [
        "train_y"
      ],
      "metadata": {
        "colab": {
          "base_uri": "https://localhost:8080/"
        },
        "id": "02c8FGihKXg_",
        "outputId": "fef7cc90-0a76-4d0e-bb19-535d9de5fe70"
      },
      "execution_count": null,
      "outputs": [
        {
          "output_type": "execute_result",
          "data": {
            "text/plain": [
              "array([1, 1, 1, ..., 0, 1, 1])"
            ]
          },
          "metadata": {},
          "execution_count": 39
        }
      ]
    },
    {
      "cell_type": "code",
      "metadata": {
        "id": "GzBrqjDcI9HZ"
      },
      "source": [
        "test_y=test_y.to_numpy()"
      ],
      "execution_count": null,
      "outputs": []
    },
    {
      "cell_type": "code",
      "metadata": {
        "id": "vs1pjdeaFbAn"
      },
      "source": [
        "from tensorflow.keras.models import Sequential\n",
        "from tensorflow.keras.layers import Dense,Dropout,BatchNormalization\n",
        "from tensorflow.keras.optimizers import Adam,RMSprop,SGD\n",
        "from tensorflow.keras.callbacks import EarlyStopping"
      ],
      "execution_count": null,
      "outputs": []
    },
    {
      "cell_type": "code",
      "metadata": {
        "id": "Zqv1EcZiF5FE"
      },
      "source": [
        "model=Sequential()"
      ],
      "execution_count": null,
      "outputs": []
    },
    {
      "cell_type": "code",
      "source": [
        "model.add(Dense(units=60,activation='relu',input_shape=(44,)))\n",
        "model.add(Dropout(rate=0.6))\n",
        "model.add(Dense(units=40,activation='relu'))\n",
        "model.add(Dropout(rate=0.6))\n",
        "model.add(BatchNormalization())\n",
        "model.add(Dense(units=20,activation='relu'))\n",
        "model.add(Dropout(rate=0.6))\n",
        "model.add(BatchNormalization())\n",
        "model.add(Dense(units=2,activation='softmax'))"
      ],
      "metadata": {
        "id": "p268czqDLg2Y"
      },
      "execution_count": null,
      "outputs": []
    },
    {
      "cell_type": "code",
      "source": [
        "model.summary()"
      ],
      "metadata": {
        "colab": {
          "base_uri": "https://localhost:8080/"
        },
        "id": "zMh2f_22McCy",
        "outputId": "43b59a99-e39d-401e-98f3-8be633595417"
      },
      "execution_count": null,
      "outputs": [
        {
          "output_type": "stream",
          "name": "stdout",
          "text": [
            "Model: \"sequential_2\"\n",
            "_________________________________________________________________\n",
            " Layer (type)                Output Shape              Param #   \n",
            "=================================================================\n",
            " dense_20 (Dense)            (None, 60)                2700      \n",
            "                                                                 \n",
            " dropout_15 (Dropout)        (None, 60)                0         \n",
            "                                                                 \n",
            " dense_21 (Dense)            (None, 40)                2440      \n",
            "                                                                 \n",
            " dropout_16 (Dropout)        (None, 40)                0         \n",
            "                                                                 \n",
            " batch_normalization_13 (Bat  (None, 40)               160       \n",
            " chNormalization)                                                \n",
            "                                                                 \n",
            " dense_22 (Dense)            (None, 20)                820       \n",
            "                                                                 \n",
            " dropout_17 (Dropout)        (None, 20)                0         \n",
            "                                                                 \n",
            " batch_normalization_14 (Bat  (None, 20)               80        \n",
            " chNormalization)                                                \n",
            "                                                                 \n",
            " dense_23 (Dense)            (None, 2)                 42        \n",
            "                                                                 \n",
            "=================================================================\n",
            "Total params: 6,242\n",
            "Trainable params: 6,122\n",
            "Non-trainable params: 120\n",
            "_________________________________________________________________\n"
          ]
        }
      ]
    },
    {
      "cell_type": "code",
      "source": [
        "es=EarlyStopping(monitor='accuracy',patience=5,min_delta=0.0005,mode='max')"
      ],
      "metadata": {
        "id": "Uc0glfzMM2HQ"
      },
      "execution_count": null,
      "outputs": []
    },
    {
      "cell_type": "code",
      "metadata": {
        "id": "FItYaxbaHHPL"
      },
      "source": [
        "model.compile(optimizer=Adam(learning_rate=0.0001),loss='sparse_categorical_crossentropy',metrics=['accuracy'])"
      ],
      "execution_count": null,
      "outputs": []
    },
    {
      "cell_type": "code",
      "metadata": {
        "colab": {
          "base_uri": "https://localhost:8080/"
        },
        "id": "yPCr_1WBIlsd",
        "outputId": "25b61cde-c74a-4329-c24a-a6602c68690f"
      },
      "source": [
        "model.fit(x=train_x,y=train_y,epochs=20,validation_data=(test_x,test_y),callbacks=[es])"
      ],
      "execution_count": null,
      "outputs": [
        {
          "output_type": "stream",
          "name": "stdout",
          "text": [
            "Epoch 1/20\n",
            "9263/9263 [==============================] - 24s 3ms/step - loss: 0.3872 - accuracy: 0.8544 - val_loss: 0.3685 - val_accuracy: 0.8598\n",
            "Epoch 2/20\n",
            "9263/9263 [==============================] - 22s 2ms/step - loss: 0.3867 - accuracy: 0.8545 - val_loss: 0.3665 - val_accuracy: 0.8598\n",
            "Epoch 3/20\n",
            "9263/9263 [==============================] - 24s 3ms/step - loss: 0.3851 - accuracy: 0.8547 - val_loss: 0.3646 - val_accuracy: 0.8599\n",
            "Epoch 4/20\n",
            "9263/9263 [==============================] - 22s 2ms/step - loss: 0.3853 - accuracy: 0.8549 - val_loss: 0.3650 - val_accuracy: 0.8599\n",
            "Epoch 5/20\n",
            "9263/9263 [==============================] - 24s 3ms/step - loss: 0.3839 - accuracy: 0.8553 - val_loss: 0.3682 - val_accuracy: 0.8599\n",
            "Epoch 6/20\n",
            "9263/9263 [==============================] - 24s 3ms/step - loss: 0.3814 - accuracy: 0.8554 - val_loss: 0.3591 - val_accuracy: 0.8599\n",
            "Epoch 7/20\n",
            "9263/9263 [==============================] - 22s 2ms/step - loss: 0.3787 - accuracy: 0.8559 - val_loss: 0.3562 - val_accuracy: 0.8599\n",
            "Epoch 8/20\n",
            "9263/9263 [==============================] - 24s 3ms/step - loss: 0.3752 - accuracy: 0.8560 - val_loss: 0.3503 - val_accuracy: 0.8599\n",
            "Epoch 9/20\n",
            "9263/9263 [==============================] - 22s 2ms/step - loss: 0.3723 - accuracy: 0.8559 - val_loss: 0.3488 - val_accuracy: 0.8599\n",
            "Epoch 10/20\n",
            "9263/9263 [==============================] - 24s 3ms/step - loss: 0.3700 - accuracy: 0.8559 - val_loss: 0.3441 - val_accuracy: 0.8599\n",
            "Epoch 11/20\n",
            "9263/9263 [==============================] - 22s 2ms/step - loss: 0.3698 - accuracy: 0.8562 - val_loss: 0.3432 - val_accuracy: 0.8599\n",
            "Epoch 12/20\n",
            "9263/9263 [==============================] - 24s 3ms/step - loss: 0.3677 - accuracy: 0.8561 - val_loss: 0.3413 - val_accuracy: 0.8599\n"
          ]
        },
        {
          "output_type": "execute_result",
          "data": {
            "text/plain": [
              "<keras.callbacks.History at 0x7f9ee2b65f50>"
            ]
          },
          "metadata": {},
          "execution_count": 69
        }
      ]
    },
    {
      "cell_type": "code",
      "metadata": {
        "id": "cQFCvxGMKP4d"
      },
      "source": [
        "accuracy=model.history.history['accuracy']"
      ],
      "execution_count": null,
      "outputs": []
    },
    {
      "cell_type": "code",
      "metadata": {
        "id": "nZybjY8IzNBZ"
      },
      "source": [
        "epoches=range(1,11)"
      ],
      "execution_count": null,
      "outputs": []
    },
    {
      "cell_type": "code",
      "metadata": {
        "id": "_jfDldf9zfib"
      },
      "source": [
        "plt.plot(epoches,accuracy)"
      ],
      "execution_count": null,
      "outputs": []
    },
    {
      "cell_type": "code",
      "metadata": {
        "id": "vPimGf-X0nu1"
      },
      "source": [
        "model_info=pd.DataFrame(model.history.history)"
      ],
      "execution_count": null,
      "outputs": []
    },
    {
      "cell_type": "code",
      "metadata": {
        "colab": {
          "base_uri": "https://localhost:8080/",
          "height": 175
        },
        "id": "3H8sHilr05mk",
        "outputId": "d6625a01-254c-4fc2-cd0d-3bf471307e66"
      },
      "source": [
        "model_info"
      ],
      "execution_count": null,
      "outputs": [
        {
          "output_type": "execute_result",
          "data": {
            "text/html": [
              "<div>\n",
              "<style scoped>\n",
              "    .dataframe tbody tr th:only-of-type {\n",
              "        vertical-align: middle;\n",
              "    }\n",
              "\n",
              "    .dataframe tbody tr th {\n",
              "        vertical-align: top;\n",
              "    }\n",
              "\n",
              "    .dataframe thead th {\n",
              "        text-align: right;\n",
              "    }\n",
              "</style>\n",
              "<table border=\"1\" class=\"dataframe\">\n",
              "  <thead>\n",
              "    <tr style=\"text-align: right;\">\n",
              "      <th></th>\n",
              "      <th>loss</th>\n",
              "      <th>accuracy</th>\n",
              "      <th>val_loss</th>\n",
              "      <th>val_accuracy</th>\n",
              "    </tr>\n",
              "  </thead>\n",
              "  <tbody>\n",
              "    <tr>\n",
              "      <th>0</th>\n",
              "      <td>0.376010</td>\n",
              "      <td>0.854615</td>\n",
              "      <td>0.347018</td>\n",
              "      <td>0.859209</td>\n",
              "    </tr>\n",
              "    <tr>\n",
              "      <th>1</th>\n",
              "      <td>0.375864</td>\n",
              "      <td>0.854706</td>\n",
              "      <td>0.346842</td>\n",
              "      <td>0.859209</td>\n",
              "    </tr>\n",
              "    <tr>\n",
              "      <th>2</th>\n",
              "      <td>0.377178</td>\n",
              "      <td>0.854111</td>\n",
              "      <td>0.346970</td>\n",
              "      <td>0.859209</td>\n",
              "    </tr>\n",
              "    <tr>\n",
              "      <th>3</th>\n",
              "      <td>0.375907</td>\n",
              "      <td>0.854722</td>\n",
              "      <td>0.346718</td>\n",
              "      <td>0.859209</td>\n",
              "    </tr>\n",
              "  </tbody>\n",
              "</table>\n",
              "</div>"
            ],
            "text/plain": [
              "       loss  accuracy  val_loss  val_accuracy\n",
              "0  0.376010  0.854615  0.347018      0.859209\n",
              "1  0.375864  0.854706  0.346842      0.859209\n",
              "2  0.377178  0.854111  0.346970      0.859209\n",
              "3  0.375907  0.854722  0.346718      0.859209"
            ]
          },
          "metadata": {},
          "execution_count": 145
        }
      ]
    },
    {
      "cell_type": "code",
      "metadata": {
        "colab": {
          "base_uri": "https://localhost:8080/",
          "height": 284
        },
        "id": "in_N6zGg0xsq",
        "outputId": "3da60fa9-1f48-48de-c186-3a81292303a5"
      },
      "source": [
        "model_info.plot()"
      ],
      "execution_count": null,
      "outputs": [
        {
          "output_type": "execute_result",
          "data": {
            "text/plain": [
              "<matplotlib.axes._subplots.AxesSubplot at 0x7fc3d5945750>"
            ]
          },
          "metadata": {},
          "execution_count": 146
        },
        {
          "output_type": "display_data",
          "data": {
            "image/png": "[encoded data removed]",
            "text/plain": [
              "<Figure size 432x288 with 1 Axes>"
            ]
          },
          "metadata": {
            "needs_background": "light"
          }
        }
      ]
    },
    {
      "cell_type": "code",
      "metadata": {
        "colab": {
          "base_uri": "https://localhost:8080/"
        },
        "id": "cSOl-8eC5S_C",
        "outputId": "5ed7901c-bf08-4ef9-a739-e0fc4bace47b"
      },
      "source": [
        "model.predict(test_x)"
      ],
      "execution_count": null,
      "outputs": [
        {
          "output_type": "execute_result",
          "data": {
            "text/plain": [
              "array([[0.18768129, 0.8123187 ],\n",
              "       [0.20826901, 0.79173094],\n",
              "       [0.24448459, 0.75551546],\n",
              "       ...,\n",
              "       [0.07328799, 0.926712  ],\n",
              "       [0.04100429, 0.9589957 ],\n",
              "       [0.09883118, 0.90116876]], dtype=float32)"
            ]
          },
          "metadata": {},
          "execution_count": 65
        }
      ]
    },
    {
      "cell_type": "code",
      "metadata": {
        "id": "3fVqM-kA5YTR"
      },
      "source": [
        "final_predictions=np.argmax(model.predict(train_x),axis=-1)"
      ],
      "execution_count": null,
      "outputs": []
    },
    {
      "cell_type": "code",
      "metadata": {
        "colab": {
          "base_uri": "https://localhost:8080/"
        },
        "id": "jjUeeZur5lpV",
        "outputId": "29f70af3-037e-4589-ae71-db88ed12cb36"
      },
      "source": [
        "final_predictions"
      ],
      "execution_count": null,
      "outputs": [
        {
          "output_type": "execute_result",
          "data": {
            "text/plain": [
              "array([1, 1, 1, ..., 1, 1, 1])"
            ]
          },
          "metadata": {},
          "execution_count": 190
        }
      ]
    },
    {
      "cell_type": "code",
      "source": [
        "len(train_x[final_predictions != train_y])"
      ],
      "metadata": {
        "colab": {
          "base_uri": "https://localhost:8080/"
        },
        "id": "jLyHEt5BJWNF",
        "outputId": "a6db2171-91b9-4930-f79b-aafe1abe1213"
      },
      "execution_count": null,
      "outputs": [
        {
          "output_type": "execute_result",
          "data": {
            "text/plain": [
              "41641"
            ]
          },
          "metadata": {},
          "execution_count": 194
        }
      ]
    },
    {
      "cell_type": "code",
      "metadata": {
        "id": "qgfGXjfE7jOq"
      },
      "source": [
        "from sklearn.metrics import confusion_matrix"
      ],
      "execution_count": null,
      "outputs": []
    },
    {
      "cell_type": "code",
      "metadata": {
        "colab": {
          "base_uri": "https://localhost:8080/"
        },
        "id": "6xXn757V77Rf",
        "outputId": "c71158a3-3bef-44d5-b99a-a9173e0cd2ec"
      },
      "source": [
        "confusion_matrix(test_y,final_predictions)"
      ],
      "execution_count": null,
      "outputs": [
        {
          "output_type": "execute_result",
          "data": {
            "text/plain": [
              "array([[ 5473, 13834],\n",
              "       [   20, 79478]])"
            ]
          },
          "metadata": {},
          "execution_count": 72
        }
      ]
    }
  ]
}